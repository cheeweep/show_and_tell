{
 "metadata": {
  "name": "",
  "signature": "sha256:337187406b06fe8c0f0d898ba441cdc6fd2c98eb256e8bdd47fb53d78860750e"
 },
 "nbformat": 3,
 "nbformat_minor": 0,
 "worksheets": [
  {
   "cells": [
    {
     "cell_type": "code",
     "collapsed": false,
     "input": [
      "import dicom as dc\n",
      "import sys\n",
      "from glob import glob\n",
      "from matplotlib.mlab import PCA\n",
      "sys.path.append('./')\n",
      "import util.data as data\n",
      "\n",
      "dicom_paths = glob('dicom_files_lib/Prostate_IMRT81/*')\n",
      "dicom_paths.sort()\n",
      "\n",
      "ptv_names = []\n",
      "ptv_idxs = []\n",
      "blad_names = []\n",
      "blad_idxs = []\n",
      "rect_names = []\n",
      "rect_idxs = []\n",
      "\n",
      "#list of arrays = [[x_hist],[y_hist],[z_hist]]\n",
      "ptv_data = []\n",
      "ptv_centroids = []\n",
      "blad_data = []\n",
      "rect_data = []\n",
      "\n",
      "patient_idx = 0\n",
      "\n",
      "for patient_path in dicom_paths:\n",
      "    print \"Processing {} of {}\".format(patient_idx,len(dicom_paths))\n",
      "    \n",
      "    #structure file path\n",
      "    dicom_structures_path = glob(patient_path+\"/RS.*\")[0]\n",
      "    #image file path\n",
      "    dicom_image_path_list = glob(patient_path+\"/CT*\")\n",
      "\n",
      "    \n",
      "    #list ROIs\n",
      "    ds = dc.read_file(dicom_structures_path)\n",
      "    contour_list = [ (x.ROIName,x.ROINumber) for x in ds.StructureSetROISequence]\n",
      "    \n",
      "    #find PTV\n",
      "    ptv_selected = []\n",
      "    for name, idx in contour_list:\n",
      "        if '8100' in name:\n",
      "            ptv_selected.append((name,idx))\n",
      "        elif 'ptv' in name.lower():\n",
      "            ptv_selected.append((name,idx))\n",
      "\n",
      "    #second PTV filter\n",
      "    if len(ptv_selected) == 1:\n",
      "        ptv_final = ptv_selected\n",
      "    else:\n",
      "        ptv_final = []\n",
      "        for name, idx in ptv_selected:\n",
      "            if ('7560' in name or '8100' in name) and 'ptv' in name.lower():\n",
      "                 ptv_final.append((name,idx))\n",
      "        if len(ptv_final) == 0:\n",
      "            ptv_final.append(ptv_selected[0])\n",
      "        elif len(ptv_final) > 1:\n",
      "            ptv_final = [ptv_final[0]]\n",
      "    print \" ptv = {}\".format(ptv_final[0])    \n",
      "    ptv_names.append(ptv_final[0][0])\n",
      "    ptv_idxs.append(ptv_final[0][1])\n",
      "    #get and save ptv data\n",
      "    ptv_data = data.ContourImage()\n",
      "    ptv_data.import_raw_data(dicom_structures_path, dicom_image_path_list, roi_ref_num=ptv_idxs[-1])\n",
      "    ptv_data.process_data()\n",
      "    #quickly compute centroid\n",
      "    V_pca = PCA(ptv_data.surface_points)\n",
      "    ptv_centroids.append(V_pca.mu)\n",
      "    temp_geo = data.GeometryFeatures()\n",
      "    temp_geo.calc_contour_projection_histograms(ptv_data,ptv_centroids[-1])\n",
      "    temp_geo.write('OUTPUT/geo_ptv_{}.json'.format(patient_idx))\n",
      "\n",
      "    \n",
      "    #find bladder\n",
      "    blad_selected = []\n",
      "    for name, idx in contour_list:\n",
      "        if 'blad' in name.lower() and not ('+' in name or 'opt' in name.lower()):\n",
      "            blad_selected.append((name,idx))\n",
      "    print \" bladder={}\".format(blad_selected[0])\n",
      "    blad_names.append(blad_selected[0][0])\n",
      "    blad_idxs.append(blad_selected[0][1])\n",
      "    #get and save bladder data\n",
      "    temp_data = data.ContourImage()\n",
      "    temp_data.import_raw_data(dicom_structures_path, dicom_image_path_list, roi_ref_num=blad_idxs[-1])\n",
      "    temp_data.process_data()\n",
      "    temp_geo = data.GeometryFeatures()\n",
      "    temp_geo.calc_contour_projection_histograms(temp_data,ptv_centroids[-1])\n",
      "    temp_geo.write('OUTPUT/geo_blad_{}.json'.format(patient_idx))\n",
      "    \n",
      "    #find rectum\n",
      "    rect_selected = []\n",
      "    for name, idx in contour_list:\n",
      "        if 'rect' in name.lower() and not ('+' in name or 'opt' in name.lower() or 'margin' in name.lower()):\n",
      "            rect_selected.append((name,idx))\n",
      "    print \" rectum={}\".format(rect_selected[0])\n",
      "    rect_names.append(rect_selected[0][0])\n",
      "    rect_idxs.append(rect_selected[0][1])\n",
      "    #get and save rectum data\n",
      "    temp_data = data.ContourImage()\n",
      "    temp_data.import_raw_data(dicom_structures_path, dicom_image_path_list, roi_ref_num=rect_idxs[-1])\n",
      "    temp_data.process_data()\n",
      "    temp_geo = data.GeometryFeatures()\n",
      "    temp_geo.calc_contour_projection_histograms(temp_data,ptv_centroids[-1])\n",
      "    temp_geo.write('OUTPUT/geo_rect_{}.json'.format(patient_idx))\n",
      "    \n",
      "    patient_idx += 1\n",
      "    "
     ],
     "language": "python",
     "metadata": {},
     "outputs": [
      {
       "output_type": "stream",
       "stream": "stdout",
       "text": [
        "Processing 0 of 100\n",
        " ptv = ('PTV 8100', '6')\n",
        "voxel volume = 2.38418334961"
       ]
      },
      {
       "output_type": "stream",
       "stream": "stdout",
       "text": [
        "\n",
        " bladder=('bladder', '5')\n",
        "voxel volume = 2.38418334961"
       ]
      },
      {
       "output_type": "stream",
       "stream": "stdout",
       "text": [
        "\n",
        " rectum=('rectum', '3')\n",
        "voxel volume = 2.38418334961"
       ]
      },
      {
       "output_type": "stream",
       "stream": "stdout",
       "text": [
        "\n",
        "Processing 1 of 100\n",
        " ptv = ('PTV8100', '4')\n",
        "voxel volume = 2.38418334961"
       ]
      },
      {
       "output_type": "stream",
       "stream": "stdout",
       "text": [
        "\n",
        " bladder=('Bladder', '7')\n",
        "voxel volume = 2.38418334961"
       ]
      },
      {
       "output_type": "stream",
       "stream": "stdout",
       "text": [
        "\n",
        " rectum=('Rectum', '8')\n",
        "voxel volume = 2.38418334961"
       ]
      },
      {
       "output_type": "stream",
       "stream": "stdout",
       "text": [
        "\n",
        "Processing 2 of 100\n",
        " ptv = ('ptv', '3')\n",
        "voxel volume = 2.38418334961"
       ]
      },
      {
       "output_type": "stream",
       "stream": "stdout",
       "text": [
        "\n",
        " bladder=('bladder', '9')\n",
        "voxel volume = 2.38418334961"
       ]
      },
      {
       "output_type": "stream",
       "stream": "stdout",
       "text": [
        "\n",
        " rectum=('rectum', '8')\n",
        "voxel volume = 2.38418334961"
       ]
      },
      {
       "output_type": "stream",
       "stream": "stdout",
       "text": [
        "\n",
        "Processing 3 of 100\n",
        " ptv = ('PTV 8100', '9')\n",
        "voxel volume = 2.38418334961"
       ]
      },
      {
       "output_type": "stream",
       "stream": "stdout",
       "text": [
        "\n",
        " bladder=('bladder', '5')\n",
        "voxel volume = 2.38418334961"
       ]
      },
      {
       "output_type": "stream",
       "stream": "stdout",
       "text": [
        "\n",
        " rectum=('rectum', '6')\n",
        "voxel volume = 2.38418334961"
       ]
      },
      {
       "output_type": "stream",
       "stream": "stdout",
       "text": [
        "\n",
        "Processing 4 of 100\n",
        " ptv = ('PTV 8100', '9')\n",
        "voxel volume = 4.0292723999"
       ]
      },
      {
       "output_type": "stream",
       "stream": "stdout",
       "text": [
        "\n",
        " bladder=('Bladder', '4')\n",
        "voxel volume = 4.0292723999"
       ]
      },
      {
       "output_type": "stream",
       "stream": "stdout",
       "text": [
        "\n",
        " rectum=('Rectum', '6')\n",
        "voxel volume = 4.0292723999"
       ]
      },
      {
       "output_type": "stream",
       "stream": "stdout",
       "text": [
        "\n",
        "Processing 5 of 100\n",
        " ptv = ('PTV8100', '4')\n",
        "voxel volume = 2.38418334961"
       ]
      },
      {
       "output_type": "stream",
       "stream": "stdout",
       "text": [
        "\n",
        " bladder=('bladder', '5')\n",
        "voxel volume = 2.38418334961"
       ]
      },
      {
       "output_type": "stream",
       "stream": "stdout",
       "text": [
        "\n",
        " rectum=('rectum', '6')\n",
        "voxel volume = 2.38418334961"
       ]
      },
      {
       "output_type": "stream",
       "stream": "stdout",
       "text": [
        "\n",
        "Processing 6 of 100\n",
        " ptv = ('ptv', '3')\n",
        "voxel volume = 2.38418334961"
       ]
      },
      {
       "output_type": "stream",
       "stream": "stdout",
       "text": [
        "\n",
        " bladder=('bladder', '8')\n",
        "voxel volume = 2.38418334961"
       ]
      },
      {
       "output_type": "stream",
       "stream": "stdout",
       "text": [
        "\n",
        " rectum=('rectum', '6')\n",
        "voxel volume = 2.38418334961"
       ]
      },
      {
       "output_type": "stream",
       "stream": "stdout",
       "text": [
        "\n",
        "Processing 7 of 100\n",
        " ptv = ('PTV 8100', '4')\n",
        "voxel volume = 2.38418334961"
       ]
      },
      {
       "output_type": "stream",
       "stream": "stdout",
       "text": [
        "\n",
        " bladder=('bladder', '5')\n",
        "voxel volume = 2.38418334961"
       ]
      },
      {
       "output_type": "stream",
       "stream": "stdout",
       "text": [
        "\n",
        " rectum=('rectum', '6')\n",
        "voxel volume = 2.38418334961"
       ]
      },
      {
       "output_type": "stream",
       "stream": "stdout",
       "text": [
        "\n",
        "Processing 8 of 100\n",
        " ptv = ('PTV8100', '6')\n",
        "voxel volume = 2.38418334961"
       ]
      },
      {
       "output_type": "stream",
       "stream": "stdout",
       "text": [
        "\n",
        " bladder=('Bladder', '7')\n",
        "voxel volume = 2.38418334961"
       ]
      },
      {
       "output_type": "stream",
       "stream": "stdout",
       "text": [
        "\n",
        " rectum=('Rectum', '8')\n",
        "voxel volume = 2.38418334961"
       ]
      },
      {
       "output_type": "stream",
       "stream": "stdout",
       "text": [
        "\n",
        "Processing 9 of 100\n",
        " ptv = ('ptv', '4')\n",
        "voxel volume = 2.38418334961"
       ]
      },
      {
       "output_type": "stream",
       "stream": "stdout",
       "text": [
        "\n",
        " bladder=('Bladder', '5')\n",
        "voxel volume = 2.38418334961"
       ]
      },
      {
       "output_type": "stream",
       "stream": "stdout",
       "text": [
        "\n",
        " rectum=('Rectum', '6')\n",
        "voxel volume = 2.38418334961"
       ]
      },
      {
       "output_type": "stream",
       "stream": "stdout",
       "text": [
        "\n",
        "Processing 10 of 100\n",
        " ptv = ('PTV 7800', '11')\n",
        "voxel volume = 2.38418334961"
       ]
      },
      {
       "output_type": "stream",
       "stream": "stdout",
       "text": [
        "\n",
        " bladder=('Bladder', '4')\n",
        "voxel volume = 2.38418334961"
       ]
      },
      {
       "output_type": "stream",
       "stream": "stdout",
       "text": [
        "\n",
        " rectum=('Rectum', '6')\n",
        "voxel volume = 2.38418334961"
       ]
      },
      {
       "output_type": "stream",
       "stream": "stdout",
       "text": [
        "\n",
        "Processing 11 of 100\n",
        " ptv = ('PTV8100', '4')\n",
        "voxel volume = 2.38418334961"
       ]
      },
      {
       "output_type": "stream",
       "stream": "stdout",
       "text": [
        "\n",
        " bladder=('Bladder', '7')\n",
        "voxel volume = 2.38418334961"
       ]
      },
      {
       "output_type": "stream",
       "stream": "stdout",
       "text": [
        "\n",
        " rectum=('Rectum', '8')\n",
        "voxel volume = 2.38418334961"
       ]
      },
      {
       "output_type": "stream",
       "stream": "stdout",
       "text": [
        "\n",
        "Processing 12 of 100\n",
        " ptv = ('PTV', '6')\n",
        "voxel volume = 2.38418334961"
       ]
      },
      {
       "output_type": "stream",
       "stream": "stdout",
       "text": [
        "\n",
        " bladder=('Bladder', '7')\n",
        "voxel volume = 2.38418334961"
       ]
      },
      {
       "output_type": "stream",
       "stream": "stdout",
       "text": [
        "\n",
        " rectum=('Rectum', '8')\n",
        "voxel volume = 2.38418334961"
       ]
      },
      {
       "output_type": "stream",
       "stream": "stdout",
       "text": [
        "\n",
        "Processing 13 of 100\n",
        " ptv = ('ptv', '4')\n",
        "voxel volume = 2.38418334961"
       ]
      },
      {
       "output_type": "stream",
       "stream": "stdout",
       "text": [
        "\n",
        " bladder=('bladder', '2')\n",
        "voxel volume = 2.38418334961"
       ]
      },
      {
       "output_type": "stream",
       "stream": "stdout",
       "text": [
        "\n",
        " rectum=('rectum', '7')\n",
        "voxel volume = 2.38418334961"
       ]
      },
      {
       "output_type": "stream",
       "stream": "stdout",
       "text": [
        "\n",
        "Processing 14 of 100\n",
        " ptv = ('PTV8100', '14')\n",
        "voxel volume = 2.38418334961"
       ]
      },
      {
       "output_type": "stream",
       "stream": "stdout",
       "text": [
        "\n",
        " bladder=('Bladder', '7')\n",
        "voxel volume = 2.38418334961"
       ]
      },
      {
       "output_type": "stream",
       "stream": "stdout",
       "text": [
        "\n",
        " rectum=('Rectum', '8')\n",
        "voxel volume = 2.38418334961"
       ]
      },
      {
       "output_type": "stream",
       "stream": "stdout",
       "text": [
        "\n",
        "Processing 15 of 100\n",
        " ptv = ('ptv', '4')\n",
        "voxel volume = 2.38418334961"
       ]
      },
      {
       "output_type": "stream",
       "stream": "stdout",
       "text": [
        "\n",
        " bladder=('Bladder', '7')\n",
        "voxel volume = 2.38418334961"
       ]
      },
      {
       "output_type": "stream",
       "stream": "stdout",
       "text": [
        "\n",
        " rectum=('Rectum', '8')\n",
        "voxel volume = 2.38418334961"
       ]
      },
      {
       "output_type": "stream",
       "stream": "stdout",
       "text": [
        "\n",
        "Processing 16 of 100\n",
        " ptv = ('ptv8100', '4')\n",
        "voxel volume = 2.38418334961"
       ]
      },
      {
       "output_type": "stream",
       "stream": "stdout",
       "text": [
        "\n",
        " bladder=('Bladder', '7')\n",
        "voxel volume = 2.38418334961"
       ]
      },
      {
       "output_type": "stream",
       "stream": "stdout",
       "text": [
        "\n",
        " rectum=('Rectum', '8')\n",
        "voxel volume = 2.38418334961"
       ]
      },
      {
       "output_type": "stream",
       "stream": "stdout",
       "text": [
        "\n",
        "Processing 17 of 100\n",
        " ptv = ('ptv', '4')\n",
        "voxel volume = 2.38418334961"
       ]
      },
      {
       "output_type": "stream",
       "stream": "stdout",
       "text": [
        "\n",
        " bladder=('bladder', '5')\n",
        "voxel volume = 2.38418334961"
       ]
      },
      {
       "output_type": "stream",
       "stream": "stdout",
       "text": [
        "\n",
        " rectum=('rectum', '6')\n",
        "voxel volume = 2.38418334961"
       ]
      },
      {
       "output_type": "stream",
       "stream": "stdout",
       "text": [
        "\n",
        "Processing 18 of 100\n",
        " ptv = ('PTV8100', '15')\n",
        "voxel volume = 2.38418334961"
       ]
      },
      {
       "output_type": "stream",
       "stream": "stdout",
       "text": [
        "\n",
        " bladder=('Bladder', '7')\n",
        "voxel volume = 2.38418334961"
       ]
      },
      {
       "output_type": "stream",
       "stream": "stdout",
       "text": [
        "\n",
        " rectum=('Rectum', '8')\n",
        "voxel volume = 2.38418334961"
       ]
      },
      {
       "output_type": "stream",
       "stream": "stdout",
       "text": [
        "\n",
        "Processing 19 of 100\n",
        " ptv = ('PTV 8100', '4')\n",
        "voxel volume = 2.38418334961"
       ]
      },
      {
       "output_type": "stream",
       "stream": "stdout",
       "text": [
        "\n",
        " bladder=('Bladder', '5')\n",
        "voxel volume = 2.38418334961"
       ]
      },
      {
       "output_type": "stream",
       "stream": "stdout",
       "text": [
        "\n",
        " rectum=('Rectum', '6')\n",
        "voxel volume = 2.38418334961"
       ]
      },
      {
       "output_type": "stream",
       "stream": "stdout",
       "text": [
        "\n",
        "Processing 20 of 100\n",
        " ptv = ('PTV8100', '3')\n",
        "voxel volume = 2.38418334961"
       ]
      },
      {
       "output_type": "stream",
       "stream": "stdout",
       "text": [
        "\n",
        " bladder=('Bladder', '4')\n",
        "voxel volume = 2.38418334961"
       ]
      },
      {
       "output_type": "stream",
       "stream": "stdout",
       "text": [
        "\n",
        " rectum=('Rectum', '5')\n",
        "voxel volume = 2.38418334961"
       ]
      },
      {
       "output_type": "stream",
       "stream": "stdout",
       "text": [
        "\n",
        "Processing 21 of 100\n",
        " ptv = ('PTV 8100', '14')\n",
        "voxel volume = 2.38418334961"
       ]
      },
      {
       "output_type": "stream",
       "stream": "stdout",
       "text": [
        "\n",
        " bladder=('Bladder', '7')\n",
        "voxel volume = 2.38418334961"
       ]
      },
      {
       "output_type": "stream",
       "stream": "stdout",
       "text": [
        "\n",
        " rectum=('Rectum', '8')\n",
        "voxel volume = 2.38418334961"
       ]
      },
      {
       "output_type": "stream",
       "stream": "stdout",
       "text": [
        "\n",
        "Processing 22 of 100\n",
        " ptv = ('PTV 8100', '4')\n",
        "voxel volume = 2.38418334961"
       ]
      },
      {
       "output_type": "stream",
       "stream": "stdout",
       "text": [
        "\n",
        " bladder=('bladder-ptv', '12')\n",
        "voxel volume = 2.38418334961"
       ]
      },
      {
       "output_type": "stream",
       "stream": "stdout",
       "text": [
        "\n",
        " rectum=('Rectum', '8')\n",
        "voxel volume = 2.38418334961"
       ]
      },
      {
       "output_type": "stream",
       "stream": "stdout",
       "text": [
        "\n",
        "Processing 23 of 100\n",
        " ptv = ('PTV', '4')\n",
        "voxel volume = 2.38418334961"
       ]
      },
      {
       "output_type": "stream",
       "stream": "stdout",
       "text": [
        "\n",
        " bladder=('Bladder', '7')\n",
        "voxel volume = 2.38418334961"
       ]
      },
      {
       "output_type": "stream",
       "stream": "stdout",
       "text": [
        "\n",
        " rectum=('Rectum', '8')\n",
        "voxel volume = 2.38418334961"
       ]
      },
      {
       "output_type": "stream",
       "stream": "stdout",
       "text": [
        "\n",
        "Processing 24 of 100\n",
        " ptv = ('ptv', '4')\n",
        "voxel volume = 2.38418334961"
       ]
      },
      {
       "output_type": "stream",
       "stream": "stdout",
       "text": [
        "\n",
        " bladder=('bladder', '8')\n",
        "voxel volume = 2.38418334961"
       ]
      },
      {
       "output_type": "stream",
       "stream": "stdout",
       "text": [
        "\n",
        " rectum=('rectum', '9')\n",
        "voxel volume = 2.38418334961"
       ]
      },
      {
       "output_type": "stream",
       "stream": "stdout",
       "text": [
        "\n",
        "Processing 25 of 100\n",
        " ptv = ('ptv', '4')\n",
        "voxel volume = 2.38418334961"
       ]
      },
      {
       "output_type": "stream",
       "stream": "stdout",
       "text": [
        "\n",
        " bladder=('Bladder', '7')\n",
        "voxel volume = 2.38418334961"
       ]
      },
      {
       "output_type": "stream",
       "stream": "stdout",
       "text": [
        "\n",
        " rectum=('Rectum', '8')\n",
        "voxel volume = 2.38418334961"
       ]
      },
      {
       "output_type": "stream",
       "stream": "stdout",
       "text": [
        "\n",
        "Processing 26 of 100\n",
        " ptv = ('ptv', '4')\n",
        "voxel volume = 2.38418334961"
       ]
      },
      {
       "output_type": "stream",
       "stream": "stdout",
       "text": [
        "\n",
        " bladder=('Bladder', '5')\n",
        "voxel volume = 2.38418334961"
       ]
      },
      {
       "output_type": "stream",
       "stream": "stdout",
       "text": [
        "\n",
        " rectum=('Rectum', '6')\n",
        "voxel volume = 2.38418334961"
       ]
      },
      {
       "output_type": "stream",
       "stream": "stdout",
       "text": [
        "\n",
        "Processing 27 of 100\n",
        " ptv = ('PTV 8100', '3')\n",
        "voxel volume = 2.38418334961"
       ]
      },
      {
       "output_type": "stream",
       "stream": "stdout",
       "text": [
        "\n",
        " bladder=('Bladder', '4')\n",
        "voxel volume = 2.38418334961"
       ]
      },
      {
       "output_type": "stream",
       "stream": "stdout",
       "text": [
        "\n",
        " rectum=('Rectum', '5')\n",
        "voxel volume = 2.38418334961"
       ]
      },
      {
       "output_type": "stream",
       "stream": "stdout",
       "text": [
        "\n",
        "Processing 28 of 100\n",
        " ptv = ('ptv', '4')\n",
        "voxel volume = 2.38418334961"
       ]
      },
      {
       "output_type": "stream",
       "stream": "stdout",
       "text": [
        "\n",
        " bladder=('Bladder', '5')\n",
        "voxel volume = 2.38418334961"
       ]
      },
      {
       "output_type": "stream",
       "stream": "stdout",
       "text": [
        "\n",
        " rectum=('Rectum', '6')\n",
        "voxel volume = 2.38418334961"
       ]
      },
      {
       "output_type": "stream",
       "stream": "stdout",
       "text": [
        "\n",
        "Processing 29 of 100\n",
        " ptv = ('ptv', '4')\n",
        "voxel volume = 2.38418334961"
       ]
      },
      {
       "output_type": "stream",
       "stream": "stdout",
       "text": [
        "\n",
        " bladder=('Bladder', '6')\n",
        "voxel volume = 2.38418334961"
       ]
      },
      {
       "output_type": "stream",
       "stream": "stdout",
       "text": [
        "\n",
        " rectum=('Rectum', '7')\n",
        "voxel volume = 2.38418334961"
       ]
      },
      {
       "output_type": "stream",
       "stream": "stdout",
       "text": [
        "\n",
        "Processing 30 of 100\n",
        " ptv = ('ptv8100', '4')\n",
        "voxel volume = 2.38418334961"
       ]
      },
      {
       "output_type": "stream",
       "stream": "stdout",
       "text": [
        "\n",
        " bladder=('Bladder', '7')\n",
        "voxel volume = 2.38418334961"
       ]
      },
      {
       "output_type": "stream",
       "stream": "stdout",
       "text": [
        "\n",
        " rectum=('Rectum', '8')\n",
        "voxel volume = 2.38418334961"
       ]
      },
      {
       "output_type": "stream",
       "stream": "stdout",
       "text": [
        "\n",
        "Processing 31 of 100\n",
        " ptv = ('ptv8100', '4')\n",
        "voxel volume = 2.38418334961"
       ]
      },
      {
       "output_type": "stream",
       "stream": "stdout",
       "text": [
        "\n",
        " bladder=('Bladder', '5')\n",
        "voxel volume = 2.38418334961"
       ]
      },
      {
       "output_type": "stream",
       "stream": "stdout",
       "text": [
        "\n",
        " rectum=('Rectum', '6')\n",
        "voxel volume = 2.38418334961"
       ]
      },
      {
       "output_type": "stream",
       "stream": "stdout",
       "text": [
        "\n",
        "Processing 32 of 100\n",
        " ptv = ('ptv', '4')\n",
        "voxel volume = 4.0292723999"
       ]
      },
      {
       "output_type": "stream",
       "stream": "stdout",
       "text": [
        "\n",
        " bladder=('Bladder', '5')\n",
        "voxel volume = 4.0292723999"
       ]
      },
      {
       "output_type": "stream",
       "stream": "stdout",
       "text": [
        "\n",
        " rectum=('Rectum', '6')\n",
        "voxel volume = 4.0292723999"
       ]
      },
      {
       "output_type": "stream",
       "stream": "stdout",
       "text": [
        "\n",
        "Processing 33 of 100\n",
        " ptv = ('ptv8100', '4')\n",
        "voxel volume = 2.38418334961"
       ]
      },
      {
       "output_type": "stream",
       "stream": "stdout",
       "text": [
        "\n",
        " bladder=('Bladder', '7')\n",
        "voxel volume = 2.38418334961"
       ]
      },
      {
       "output_type": "stream",
       "stream": "stdout",
       "text": [
        "\n",
        " rectum=('Rectum', '8')\n",
        "voxel volume = 2.38418334961"
       ]
      },
      {
       "output_type": "stream",
       "stream": "stdout",
       "text": [
        "\n",
        "Processing 34 of 100\n",
        " ptv = ('PTV 81', '6')\n",
        "voxel volume = 1.89701189209"
       ]
      },
      {
       "output_type": "stream",
       "stream": "stdout",
       "text": [
        "\n",
        " bladder=('Bladder', '7')\n",
        "voxel volume = 1.89701189209"
       ]
      },
      {
       "output_type": "stream",
       "stream": "stdout",
       "text": [
        "\n",
        " rectum=('Rectum', '8')\n",
        "voxel volume = 1.89701189209"
       ]
      },
      {
       "output_type": "stream",
       "stream": "stdout",
       "text": [
        "\n",
        "Processing 35 of 100\n",
        " ptv = ('PTV8100', '4')\n",
        "voxel volume = 2.38418334961"
       ]
      },
      {
       "output_type": "stream",
       "stream": "stdout",
       "text": [
        "\n",
        " bladder=('Bladder', '5')\n",
        "voxel volume = 2.38418334961"
       ]
      },
      {
       "output_type": "stream",
       "stream": "stdout",
       "text": [
        "\n",
        " rectum=('Rectum', '6')\n",
        "voxel volume = 2.38418334961"
       ]
      },
      {
       "output_type": "stream",
       "stream": "stdout",
       "text": [
        "\n",
        "Processing 36 of 100\n",
        " ptv = ('PTV 81', '4')\n",
        "voxel volume = 4.0292723999"
       ]
      },
      {
       "output_type": "stream",
       "stream": "stdout",
       "text": [
        "\n",
        " bladder=('Bladder', '5')\n",
        "voxel volume = 4.0292723999"
       ]
      },
      {
       "output_type": "stream",
       "stream": "stdout",
       "text": [
        "\n",
        " rectum=('Rectum', '6')\n",
        "voxel volume = 4.0292723999"
       ]
      },
      {
       "output_type": "stream",
       "stream": "stdout",
       "text": [
        "\n",
        "Processing 37 of 100\n",
        " ptv = ('ptv8100', '4')\n",
        "voxel volume = 4.0292723999"
       ]
      },
      {
       "output_type": "stream",
       "stream": "stdout",
       "text": [
        "\n",
        " bladder=('Bladder', '7')\n",
        "voxel volume = 4.0292723999"
       ]
      },
      {
       "output_type": "stream",
       "stream": "stdout",
       "text": [
        "\n",
        " rectum=('Rectum', '8')\n",
        "voxel volume = 4.0292723999"
       ]
      },
      {
       "output_type": "stream",
       "stream": "stdout",
       "text": [
        "\n",
        "Processing 38 of 100\n",
        " ptv = ('ptv', '4')\n",
        "voxel volume = 3.43322753906"
       ]
      },
      {
       "output_type": "stream",
       "stream": "stdout",
       "text": [
        "\n",
        " bladder=('bladder', '7')\n",
        "voxel volume = 3.43322753906"
       ]
      },
      {
       "output_type": "stream",
       "stream": "stdout",
       "text": [
        "\n",
        " rectum=('rectum', '8')\n",
        "voxel volume = 3.43322753906"
       ]
      },
      {
       "output_type": "stream",
       "stream": "stdout",
       "text": [
        "\n",
        "Processing 39 of 100\n",
        " ptv = ('ptv', '4')\n",
        "voxel volume = 2.38418334961"
       ]
      },
      {
       "output_type": "stream",
       "stream": "stdout",
       "text": [
        "\n",
        " bladder=('bladder', '7')\n",
        "voxel volume = 2.38418334961"
       ]
      },
      {
       "output_type": "stream",
       "stream": "stdout",
       "text": [
        "\n",
        " rectum=('rectum', '8')\n",
        "voxel volume = 2.38418334961"
       ]
      },
      {
       "output_type": "stream",
       "stream": "stdout",
       "text": [
        "\n",
        "Processing 40 of 100\n",
        " ptv = ('ptv', '4')\n",
        "voxel volume = 2.38418334961"
       ]
      },
      {
       "output_type": "stream",
       "stream": "stdout",
       "text": [
        "\n",
        " bladder=('Bladder', '7')\n",
        "voxel volume = 2.38418334961"
       ]
      },
      {
       "output_type": "stream",
       "stream": "stdout",
       "text": [
        "\n",
        " rectum=('Rectum', '8')\n",
        "voxel volume = 2.38418334961"
       ]
      },
      {
       "output_type": "stream",
       "stream": "stdout",
       "text": [
        "\n",
        "Processing 41 of 100\n",
        " ptv = ('PTV 8100', '8')\n",
        "voxel volume = 2.38418334961"
       ]
      },
      {
       "output_type": "stream",
       "stream": "stdout",
       "text": [
        "\n",
        " bladder=('bladder', '6')\n",
        "voxel volume = 2.38418334961"
       ]
      },
      {
       "output_type": "stream",
       "stream": "stdout",
       "text": [
        "\n",
        " rectum=('rectum', '5')\n",
        "voxel volume = 2.38418334961"
       ]
      },
      {
       "output_type": "stream",
       "stream": "stdout",
       "text": [
        "\n",
        "Processing 42 of 100\n",
        " ptv = ('PTV8100', '6')"
       ]
      },
      {
       "output_type": "stream",
       "stream": "stdout",
       "text": [
        "\n",
        "voxel volume = 2.38418334961"
       ]
      },
      {
       "output_type": "stream",
       "stream": "stdout",
       "text": [
        "\n",
        " bladder=('Bladder', '7')\n",
        "voxel volume = 2.38418334961"
       ]
      },
      {
       "output_type": "stream",
       "stream": "stdout",
       "text": [
        "\n",
        " rectum=('rectum', '5')\n",
        "voxel volume = 2.38418334961"
       ]
      },
      {
       "output_type": "stream",
       "stream": "stdout",
       "text": [
        "\n",
        "Processing 43 of 100\n",
        " ptv = ('PTV 8100', '4')\n",
        "voxel volume = 2.38418334961"
       ]
      },
      {
       "output_type": "stream",
       "stream": "stdout",
       "text": [
        "\n",
        " bladder=('Bladder', '5')\n",
        "voxel volume = 2.38418334961"
       ]
      },
      {
       "output_type": "stream",
       "stream": "stdout",
       "text": [
        "\n",
        " rectum=('Rectum', '6')\n",
        "voxel volume = 2.38418334961"
       ]
      },
      {
       "output_type": "stream",
       "stream": "stdout",
       "text": [
        "\n",
        "Processing 44 of 100\n",
        " ptv = ('PTV 8100', '4')\n",
        "voxel volume = 2.38418334961"
       ]
      },
      {
       "output_type": "stream",
       "stream": "stdout",
       "text": [
        "\n",
        " bladder=('Bladder', '5')\n",
        "voxel volume = 2.38418334961"
       ]
      },
      {
       "output_type": "stream",
       "stream": "stdout",
       "text": [
        "\n",
        " rectum=('Rectum', '6')\n",
        "voxel volume = 2.38418334961"
       ]
      },
      {
       "output_type": "stream",
       "stream": "stdout",
       "text": [
        "\n",
        "Processing 45 of 100\n",
        " ptv = ('PTV 8100', '4')\n",
        "voxel volume = 2.38418334961"
       ]
      },
      {
       "output_type": "stream",
       "stream": "stdout",
       "text": [
        "\n",
        " bladder=('Bladder', '5')\n",
        "voxel volume = 2.38418334961"
       ]
      },
      {
       "output_type": "stream",
       "stream": "stdout",
       "text": [
        "\n",
        " rectum=('Rectum', '6')\n",
        "voxel volume = 2.38418334961"
       ]
      },
      {
       "output_type": "stream",
       "stream": "stdout",
       "text": [
        "\n",
        "Processing 46 of 100\n",
        " ptv = ('PTV8100', '6')\n",
        "voxel volume = 2.38418334961"
       ]
      },
      {
       "output_type": "stream",
       "stream": "stdout",
       "text": [
        "\n",
        " bladder=('Bladder', '7')\n",
        "voxel volume = 2.38418334961"
       ]
      },
      {
       "output_type": "stream",
       "stream": "stdout",
       "text": [
        "\n",
        " rectum=('Rectum', '8')\n",
        "voxel volume = 2.38418334961"
       ]
      },
      {
       "output_type": "stream",
       "stream": "stdout",
       "text": [
        "\n",
        "Processing 47 of 100\n",
        " ptv = ('PTV 8100', '6')\n",
        "voxel volume = 2.38418334961"
       ]
      },
      {
       "output_type": "stream",
       "stream": "stdout",
       "text": [
        "\n",
        " bladder=('Bladder', '7')\n",
        "voxel volume = 2.38418334961"
       ]
      },
      {
       "output_type": "stream",
       "stream": "stdout",
       "text": [
        "\n",
        " rectum=('Rectum', '8')\n",
        "voxel volume = 2.38418334961"
       ]
      },
      {
       "output_type": "stream",
       "stream": "stdout",
       "text": [
        "\n",
        "Processing 48 of 100\n",
        " ptv = ('PTV8100', '2')\n",
        "voxel volume = 2.38418334961"
       ]
      },
      {
       "output_type": "stream",
       "stream": "stdout",
       "text": [
        "\n",
        " bladder=('Bladder', '4')\n",
        "voxel volume = 2.38418334961"
       ]
      },
      {
       "output_type": "stream",
       "stream": "stdout",
       "text": [
        "\n",
        " rectum=('Rectum', '5')\n",
        "voxel volume = 2.38418334961"
       ]
      },
      {
       "output_type": "stream",
       "stream": "stdout",
       "text": [
        "\n",
        "Processing 49 of 100\n",
        " ptv = ('PTV 8100', '4')\n",
        "voxel volume = 2.38418334961"
       ]
      },
      {
       "output_type": "stream",
       "stream": "stdout",
       "text": [
        "\n",
        " bladder=('Bladder', '7')\n",
        "voxel volume = 2.38418334961"
       ]
      },
      {
       "output_type": "stream",
       "stream": "stdout",
       "text": [
        "\n",
        " rectum=('Rectum', '8')\n",
        "voxel volume = 2.38418334961"
       ]
      },
      {
       "output_type": "stream",
       "stream": "stdout",
       "text": [
        "\n",
        "Processing 50 of 100\n",
        " ptv = ('PTV8100', '4')\n",
        "voxel volume = 2.38418334961"
       ]
      },
      {
       "output_type": "stream",
       "stream": "stdout",
       "text": [
        "\n",
        " bladder=('Bladder', '7')\n",
        "voxel volume = 2.38418334961"
       ]
      },
      {
       "output_type": "stream",
       "stream": "stdout",
       "text": [
        "\n",
        " rectum=('Rectum', '8')\n",
        "voxel volume = 2.38418334961"
       ]
      },
      {
       "output_type": "stream",
       "stream": "stdout",
       "text": [
        "\n",
        "Processing 51 of 100\n",
        " ptv = ('PTV8100', '4')\n",
        "voxel volume = 2.38418334961"
       ]
      },
      {
       "output_type": "stream",
       "stream": "stdout",
       "text": [
        "\n",
        " bladder=('Bladder', '5')\n",
        "voxel volume = 2.38418334961"
       ]
      },
      {
       "output_type": "stream",
       "stream": "stdout",
       "text": [
        "\n",
        " rectum=('Rectum', '6')\n",
        "voxel volume = 2.38418334961"
       ]
      },
      {
       "output_type": "stream",
       "stream": "stdout",
       "text": [
        "\n",
        "Processing 52 of 100\n",
        " ptv = ('PTV8100', '6')\n",
        "voxel volume = 2.38418334961"
       ]
      },
      {
       "output_type": "stream",
       "stream": "stdout",
       "text": [
        "\n",
        " bladder=('Bladder', '7')\n",
        "voxel volume = 2.38418334961"
       ]
      },
      {
       "output_type": "stream",
       "stream": "stdout",
       "text": [
        "\n",
        " rectum=('Rectum', '8')\n",
        "voxel volume = 2.38418334961"
       ]
      },
      {
       "output_type": "stream",
       "stream": "stdout",
       "text": [
        "\n",
        "Processing 53 of 100\n",
        " ptv = ('PTV8100', '4')\n",
        "voxel volume = 2.38418334961"
       ]
      },
      {
       "output_type": "stream",
       "stream": "stdout",
       "text": [
        "\n",
        " bladder=('Bladder', '5')\n",
        "voxel volume = 2.38418334961"
       ]
      },
      {
       "output_type": "stream",
       "stream": "stdout",
       "text": [
        "\n",
        " rectum=('Rectum', '6')\n",
        "voxel volume = 2.38418334961"
       ]
      },
      {
       "output_type": "stream",
       "stream": "stdout",
       "text": [
        "\n",
        "Processing 54 of 100\n",
        " ptv = ('PTV8100', '4')\n",
        "voxel volume = 2.38418334961"
       ]
      },
      {
       "output_type": "stream",
       "stream": "stdout",
       "text": [
        "\n",
        " bladder=('bladder', '8')\n",
        "voxel volume = 2.38418334961"
       ]
      },
      {
       "output_type": "stream",
       "stream": "stdout",
       "text": [
        "\n",
        " rectum=('rectum', '6')\n",
        "voxel volume = 2.38418334961"
       ]
      },
      {
       "output_type": "stream",
       "stream": "stdout",
       "text": [
        "\n",
        "Processing 55 of 100\n",
        " ptv = ('PTV 8100', '4')\n",
        "voxel volume = 2.38418334961"
       ]
      },
      {
       "output_type": "stream",
       "stream": "stdout",
       "text": [
        "\n",
        " bladder=('Bladder', '5')\n",
        "voxel volume = 2.38418334961"
       ]
      },
      {
       "output_type": "stream",
       "stream": "stdout",
       "text": [
        "\n",
        " rectum=('Rectum', '6')\n",
        "voxel volume = 2.38418334961"
       ]
      },
      {
       "output_type": "stream",
       "stream": "stdout",
       "text": [
        "\n",
        "Processing 56 of 100\n",
        " ptv = ('PTV8100', '4')\n",
        "voxel volume = 2.38418334961"
       ]
      },
      {
       "output_type": "stream",
       "stream": "stdout",
       "text": [
        "\n",
        " bladder=('Bladder', '8')\n",
        "voxel volume = 2.38418334961"
       ]
      },
      {
       "output_type": "stream",
       "stream": "stdout",
       "text": [
        "\n",
        " rectum=('Rectum', '6')\n",
        "voxel volume = 2.38418334961"
       ]
      },
      {
       "output_type": "stream",
       "stream": "stdout",
       "text": [
        "\n",
        "Processing 57 of 100\n",
        " ptv = ('PTV 8100', '10')\n",
        "voxel volume = 2.38418334961"
       ]
      },
      {
       "output_type": "stream",
       "stream": "stdout",
       "text": [
        "\n",
        " bladder=('bladder', '7')\n",
        "voxel volume = 2.38418334961"
       ]
      },
      {
       "output_type": "stream",
       "stream": "stdout",
       "text": [
        "\n",
        " rectum=('rectum', '6')\n",
        "voxel volume = 2.38418334961"
       ]
      },
      {
       "output_type": "stream",
       "stream": "stdout",
       "text": [
        "\n",
        "Processing 58 of 100\n",
        " ptv = ('PTV 8100', '7')\n",
        "voxel volume = 2.66877109802"
       ]
      },
      {
       "output_type": "stream",
       "stream": "stdout",
       "text": [
        "\n",
        " bladder=('Bladder', '8')\n",
        "voxel volume = 2.66877109802"
       ]
      },
      {
       "output_type": "stream",
       "stream": "stdout",
       "text": [
        "\n",
        " rectum=('Rectum', '9')\n",
        "voxel volume = 2.66877109802"
       ]
      },
      {
       "output_type": "stream",
       "stream": "stdout",
       "text": [
        "\n",
        "Processing 59 of 100\n",
        " ptv = ('PTV8100', '3')\n",
        "voxel volume = 2.38418334961"
       ]
      },
      {
       "output_type": "stream",
       "stream": "stdout",
       "text": [
        "\n",
        " bladder=('Bladder', '4')\n",
        "voxel volume = 2.38418334961"
       ]
      },
      {
       "output_type": "stream",
       "stream": "stdout",
       "text": [
        "\n",
        " rectum=('Rectum', '5')\n",
        "voxel volume = 2.38418334961"
       ]
      },
      {
       "output_type": "stream",
       "stream": "stdout",
       "text": [
        "\n",
        "Processing 60 of 100\n",
        " ptv = ('PTV8100', '4')\n",
        "voxel volume = 2.38418334961"
       ]
      },
      {
       "output_type": "stream",
       "stream": "stdout",
       "text": [
        "\n",
        " bladder=('Bladder', '8')\n",
        "voxel volume = 2.38418334961"
       ]
      },
      {
       "output_type": "stream",
       "stream": "stdout",
       "text": [
        "\n",
        " rectum=('Rectum', '9')\n",
        "voxel volume = 2.38418334961"
       ]
      },
      {
       "output_type": "stream",
       "stream": "stdout",
       "text": [
        "\n",
        "Processing 61 of 100\n",
        " ptv = ('PTV8100', '4')\n",
        "voxel volume = 2.38418334961"
       ]
      },
      {
       "output_type": "stream",
       "stream": "stdout",
       "text": [
        "\n",
        " bladder=('Bladder', '5')\n",
        "voxel volume = 2.38418334961"
       ]
      },
      {
       "output_type": "stream",
       "stream": "stdout",
       "text": [
        "\n",
        " rectum=('Rectum', '6')\n",
        "voxel volume = 2.38418334961"
       ]
      },
      {
       "output_type": "stream",
       "stream": "stdout",
       "text": [
        "\n",
        "Processing 62 of 100\n",
        " ptv = ('PTV 8100', '4')\n",
        "voxel volume = 2.38418334961"
       ]
      },
      {
       "output_type": "stream",
       "stream": "stdout",
       "text": [
        "\n",
        " bladder=('Bladder', '5')\n",
        "voxel volume = 2.38418334961"
       ]
      },
      {
       "output_type": "stream",
       "stream": "stdout",
       "text": [
        "\n",
        " rectum=('Rectum', '6')\n",
        "voxel volume = 2.38418334961"
       ]
      },
      {
       "output_type": "stream",
       "stream": "stdout",
       "text": [
        "\n",
        "Processing 63 of 100\n",
        " ptv = ('PTV8100', '4')\n",
        "voxel volume = 2.38418334961"
       ]
      },
      {
       "output_type": "stream",
       "stream": "stdout",
       "text": [
        "\n",
        " bladder=('Bladder', '5')\n",
        "voxel volume = 2.38418334961"
       ]
      },
      {
       "output_type": "stream",
       "stream": "stdout",
       "text": [
        "\n",
        " rectum=('Rectum', '6')\n",
        "voxel volume = 2.38418334961"
       ]
      },
      {
       "output_type": "stream",
       "stream": "stdout",
       "text": [
        "\n",
        "Processing 64 of 100\n",
        " ptv = ('PTV8100', '4')\n",
        "voxel volume = 2.38418334961"
       ]
      },
      {
       "output_type": "stream",
       "stream": "stdout",
       "text": [
        "\n",
        " bladder=('Bladder', '7')\n",
        "voxel volume = 2.38418334961"
       ]
      },
      {
       "output_type": "stream",
       "stream": "stdout",
       "text": [
        "\n",
        " rectum=('Rectum', '8')\n",
        "voxel volume = 2.38418334961"
       ]
      },
      {
       "output_type": "stream",
       "stream": "stdout",
       "text": [
        "\n",
        "Processing 65 of 100\n",
        " ptv = ('PTV8100 C1', '13')\n",
        "voxel volume = 2.38418334961"
       ]
      },
      {
       "output_type": "stream",
       "stream": "stdout",
       "text": [
        "\n",
        " bladder=('Bladder', '4')\n",
        "voxel volume = 2.38418334961"
       ]
      },
      {
       "output_type": "stream",
       "stream": "stdout",
       "text": [
        "\n",
        " rectum=('Rectum', '5')\n",
        "voxel volume = 2.38418334961"
       ]
      },
      {
       "output_type": "stream",
       "stream": "stdout",
       "text": [
        "\n",
        "Processing 66 of 100\n",
        " ptv = ('Prostate PTV', '11')\n",
        "voxel volume = 2.38418334961"
       ]
      },
      {
       "output_type": "stream",
       "stream": "stdout",
       "text": [
        "\n",
        " bladder=('Bladder', '5')\n",
        "voxel volume = 2.38418334961"
       ]
      },
      {
       "output_type": "stream",
       "stream": "stdout",
       "text": [
        "\n",
        " rectum=('Rectum', '6')\n",
        "voxel volume = 2.38418334961"
       ]
      },
      {
       "output_type": "stream",
       "stream": "stdout",
       "text": [
        "\n",
        "Processing 67 of 100\n",
        " ptv = ('ptv', '4')\n",
        "voxel volume = 4.0292723999"
       ]
      },
      {
       "output_type": "stream",
       "stream": "stdout",
       "text": [
        "\n",
        " bladder=('Bladder', '5')\n",
        "voxel volume = 4.0292723999"
       ]
      },
      {
       "output_type": "stream",
       "stream": "stdout",
       "text": [
        "\n",
        " rectum=('Rectum', '6')\n",
        "voxel volume = 4.0292723999"
       ]
      },
      {
       "output_type": "stream",
       "stream": "stdout",
       "text": [
        "\n",
        "Processing 68 of 100\n",
        " ptv = ('ptv', '4')\n",
        "voxel volume = 2.38418334961"
       ]
      },
      {
       "output_type": "stream",
       "stream": "stdout",
       "text": [
        "\n",
        " bladder=('Bladder', '7')\n",
        "voxel volume = 2.38418334961"
       ]
      },
      {
       "output_type": "stream",
       "stream": "stdout",
       "text": [
        "\n",
        " rectum=('Rectum', '8')\n",
        "voxel volume = 2.38418334961"
       ]
      },
      {
       "output_type": "stream",
       "stream": "stdout",
       "text": [
        "\n",
        "Processing 69 of 100\n",
        " ptv = ('PTV1', '6')\n",
        "voxel volume = 2.38418334961"
       ]
      },
      {
       "output_type": "stream",
       "stream": "stdout",
       "text": [
        "\n",
        " bladder=('Bladder', '7')\n",
        "voxel volume = 2.38418334961"
       ]
      },
      {
       "output_type": "stream",
       "stream": "stdout",
       "text": [
        "\n",
        " rectum=('Rectum', '8')\n",
        "voxel volume = 2.38418334961"
       ]
      },
      {
       "output_type": "stream",
       "stream": "stdout",
       "text": [
        "\n",
        "Processing 70 of 100\n",
        " ptv = ('PTV 8100', '18')\n",
        "voxel volume = 2.38418334961"
       ]
      },
      {
       "output_type": "stream",
       "stream": "stdout",
       "text": [
        "\n",
        " bladder=('Bladder', '3')\n",
        "voxel volume = 2.38418334961"
       ]
      },
      {
       "output_type": "stream",
       "stream": "stdout",
       "text": [
        "\n",
        " rectum=('Rectum', '4')\n",
        "voxel volume = 2.38418334961"
       ]
      },
      {
       "output_type": "stream",
       "stream": "stdout",
       "text": [
        "\n",
        "Processing 71 of 100\n",
        " ptv = ('PTV7740', '6')\n",
        "voxel volume = 2.38418334961"
       ]
      },
      {
       "output_type": "stream",
       "stream": "stdout",
       "text": [
        "\n",
        " bladder=('Bladder', '7')\n",
        "voxel volume = 2.38418334961"
       ]
      },
      {
       "output_type": "stream",
       "stream": "stdout",
       "text": [
        "\n",
        " rectum=('Rectum', '8')\n",
        "voxel volume = 2.38418334961"
       ]
      },
      {
       "output_type": "stream",
       "stream": "stdout",
       "text": [
        "\n",
        "Processing 72 of 100\n",
        " ptv = ('ptv', '4')\n",
        "voxel volume = 2.38418334961"
       ]
      },
      {
       "output_type": "stream",
       "stream": "stdout",
       "text": [
        "\n",
        " bladder=('Bladder', '5')\n",
        "voxel volume = 2.38418334961"
       ]
      },
      {
       "output_type": "stream",
       "stream": "stdout",
       "text": [
        "\n",
        " rectum=('Rectum', '6')\n",
        "voxel volume = 2.38418334961"
       ]
      },
      {
       "output_type": "stream",
       "stream": "stdout",
       "text": [
        "\n",
        "Processing 73 of 100\n",
        " ptv = ('ptv', '4')\n",
        "voxel volume = 4.0292723999"
       ]
      },
      {
       "output_type": "stream",
       "stream": "stdout",
       "text": [
        "\n",
        " bladder=('Bladder', '5')\n",
        "voxel volume = 4.0292723999"
       ]
      },
      {
       "output_type": "stream",
       "stream": "stdout",
       "text": [
        "\n",
        " rectum=('Rectum', '6')\n",
        "voxel volume = 4.0292723999"
       ]
      },
      {
       "output_type": "stream",
       "stream": "stdout",
       "text": [
        "\n",
        "Processing 74 of 100\n",
        " ptv = ('ptv', '4')\n",
        "voxel volume = 2.38418334961"
       ]
      },
      {
       "output_type": "stream",
       "stream": "stdout",
       "text": [
        "\n",
        " bladder=('Bladder', '5')\n",
        "voxel volume = 2.38418334961"
       ]
      },
      {
       "output_type": "stream",
       "stream": "stdout",
       "text": [
        "\n",
        " rectum=('Rectum', '6')\n",
        "voxel volume = 2.38418334961"
       ]
      },
      {
       "output_type": "stream",
       "stream": "stdout",
       "text": [
        "\n",
        "Processing 75 of 100\n",
        " ptv = ('PTV7740', '6')\n",
        "voxel volume = 2.38418334961"
       ]
      },
      {
       "output_type": "stream",
       "stream": "stdout",
       "text": [
        "\n",
        " bladder=('Bladder', '4')\n",
        "voxel volume = 2.38418334961"
       ]
      },
      {
       "output_type": "stream",
       "stream": "stdout",
       "text": [
        "\n",
        " rectum=('Rectum', '7')\n",
        "voxel volume = 2.38418334961"
       ]
      },
      {
       "output_type": "stream",
       "stream": "stdout",
       "text": [
        "\n",
        "Processing 76 of 100\n",
        " ptv = ('PTV8100_new', '13')\n",
        "voxel volume = 2.38418334961"
       ]
      },
      {
       "output_type": "stream",
       "stream": "stdout",
       "text": [
        "\n",
        " bladder=('Bladder', '5')\n",
        "voxel volume = 2.38418334961"
       ]
      },
      {
       "output_type": "stream",
       "stream": "stdout",
       "text": [
        "\n",
        " rectum=('Rectum', '6')\n",
        "voxel volume = 2.38418334961"
       ]
      },
      {
       "output_type": "stream",
       "stream": "stdout",
       "text": [
        "\n",
        "Processing 77 of 100\n",
        " ptv = ('PTV7740', '6')\n",
        "voxel volume = 2.38418334961"
       ]
      },
      {
       "output_type": "stream",
       "stream": "stdout",
       "text": [
        "\n",
        " bladder=('Bladder', '7')\n",
        "voxel volume = 2.38418334961"
       ]
      },
      {
       "output_type": "stream",
       "stream": "stdout",
       "text": [
        "\n",
        " rectum=('Rectum', '8')\n",
        "voxel volume = 2.38418334961"
       ]
      },
      {
       "output_type": "stream",
       "stream": "stdout",
       "text": [
        "\n",
        "Processing 78 of 100\n",
        " ptv = ('ptv', '4')\n",
        "voxel volume = 4.0292723999"
       ]
      },
      {
       "output_type": "stream",
       "stream": "stdout",
       "text": [
        "\n",
        " bladder=('Bladder', '7')\n",
        "voxel volume = 4.0292723999"
       ]
      },
      {
       "output_type": "stream",
       "stream": "stdout",
       "text": [
        "\n",
        " rectum=('Rectum_ch', '14')\n",
        "voxel volume = 4.0292723999"
       ]
      },
      {
       "output_type": "stream",
       "stream": "stdout",
       "text": [
        "\n",
        "Processing 79 of 100\n",
        " ptv = ('ptv', '4')\n",
        "voxel volume = 4.0292723999"
       ]
      },
      {
       "output_type": "stream",
       "stream": "stdout",
       "text": [
        "\n",
        " bladder=('Bladder', '7')\n",
        "voxel volume = 4.0292723999"
       ]
      },
      {
       "output_type": "stream",
       "stream": "stdout",
       "text": [
        "\n",
        " rectum=('Rectum', '8')\n",
        "voxel volume = 4.0292723999"
       ]
      },
      {
       "output_type": "stream",
       "stream": "stdout",
       "text": [
        "\n",
        "Processing 80 of 100\n",
        " ptv = ('PTV 8100', '2')\n",
        "voxel volume = 3.43322753906"
       ]
      },
      {
       "output_type": "stream",
       "stream": "stdout",
       "text": [
        "\n",
        " bladder=('Bladder', '4')\n",
        "voxel volume = 3.43322753906"
       ]
      },
      {
       "output_type": "stream",
       "stream": "stdout",
       "text": [
        "\n",
        " rectum=('Rectum', '5')\n",
        "voxel volume = 3.43322753906"
       ]
      },
      {
       "output_type": "stream",
       "stream": "stdout",
       "text": [
        "\n",
        "Processing 81 of 100\n",
        " ptv = ('ptv', '4')\n",
        "voxel volume = 2.38418334961"
       ]
      },
      {
       "output_type": "stream",
       "stream": "stdout",
       "text": [
        "\n",
        " bladder=('Bladder', '7')\n",
        "voxel volume = 2.38418334961"
       ]
      },
      {
       "output_type": "stream",
       "stream": "stdout",
       "text": [
        "\n",
        " rectum=('Rectum', '8')\n",
        "voxel volume = 2.38418334961"
       ]
      },
      {
       "output_type": "stream",
       "stream": "stdout",
       "text": [
        "\n",
        "Processing 82 of 100\n",
        " ptv = ('PTV 7740', '13')\n",
        "voxel volume = 4.0292723999"
       ]
      },
      {
       "output_type": "stream",
       "stream": "stdout",
       "text": [
        "\n",
        " bladder=('Bladder', '7')\n",
        "voxel volume = 4.0292723999"
       ]
      },
      {
       "output_type": "stream",
       "stream": "stdout",
       "text": [
        "\n",
        " rectum=('Rectum', '8')\n",
        "voxel volume = 4.0292723999"
       ]
      },
      {
       "output_type": "stream",
       "stream": "stdout",
       "text": [
        "\n",
        "Processing 83 of 100\n",
        " ptv = ('ptv', '4')\n",
        "voxel volume = 2.38418334961"
       ]
      },
      {
       "output_type": "stream",
       "stream": "stdout",
       "text": [
        "\n",
        " bladder=('Bladder', '5')\n",
        "voxel volume = 2.38418334961"
       ]
      },
      {
       "output_type": "stream",
       "stream": "stdout",
       "text": [
        "\n",
        " rectum=('Rectum', '6')\n",
        "voxel volume = 2.38418334961"
       ]
      },
      {
       "output_type": "stream",
       "stream": "stdout",
       "text": [
        "\n",
        "Processing 84 of 100\n",
        " ptv = ('PTV 7740', '6')\n",
        "voxel volume = 2.38418334961"
       ]
      },
      {
       "output_type": "stream",
       "stream": "stdout",
       "text": [
        "\n",
        " bladder=('Bladder', '7')\n",
        "voxel volume = 2.38418334961"
       ]
      },
      {
       "output_type": "stream",
       "stream": "stdout",
       "text": [
        "\n",
        " rectum=('Rectum', '8')\n",
        "voxel volume = 2.38418334961"
       ]
      },
      {
       "output_type": "stream",
       "stream": "stdout",
       "text": [
        "\n",
        "Processing 85 of 100\n",
        " ptv = ('PTV 7560', '6')\n",
        "voxel volume = 2.38418334961"
       ]
      },
      {
       "output_type": "stream",
       "stream": "stdout",
       "text": [
        "\n",
        " bladder=('Bladder', '7')\n",
        "voxel volume = 2.38418334961"
       ]
      },
      {
       "output_type": "stream",
       "stream": "stdout",
       "text": [
        "\n",
        " rectum=('Rectum', '8')\n",
        "voxel volume = 2.38418334961"
       ]
      },
      {
       "output_type": "stream",
       "stream": "stdout",
       "text": [
        "\n",
        "Processing 86 of 100\n",
        " ptv = ('PTV 7560', '10')\n",
        "voxel volume = 2.38418334961"
       ]
      },
      {
       "output_type": "stream",
       "stream": "stdout",
       "text": [
        "\n",
        " bladder=('Bladder', '4')\n",
        "voxel volume = 2.38418334961"
       ]
      },
      {
       "output_type": "stream",
       "stream": "stdout",
       "text": [
        "\n",
        " rectum=('Rectum', '5')\n",
        "voxel volume = 2.38418334961"
       ]
      },
      {
       "output_type": "stream",
       "stream": "stdout",
       "text": [
        "\n",
        "Processing 87 of 100\n",
        " ptv = ('PTV7560', '12')"
       ]
      },
      {
       "output_type": "stream",
       "stream": "stdout",
       "text": [
        "\n",
        "voxel volume = 2.38418334961"
       ]
      },
      {
       "output_type": "stream",
       "stream": "stdout",
       "text": [
        "\n",
        " bladder=('bladder', '9')\n",
        "voxel volume = 2.38418334961"
       ]
      },
      {
       "output_type": "stream",
       "stream": "stdout",
       "text": [
        "\n",
        " rectum=('rectum', '10')\n",
        "voxel volume = 2.38418334961"
       ]
      },
      {
       "output_type": "stream",
       "stream": "stdout",
       "text": [
        "\n",
        "Processing 88 of 100\n",
        " ptv = ('PTV', '8')\n",
        "voxel volume = 2.38418334961"
       ]
      },
      {
       "output_type": "stream",
       "stream": "stdout",
       "text": [
        "\n",
        " bladder=('bladder', '3')\n",
        "voxel volume = 2.38418334961"
       ]
      },
      {
       "output_type": "stream",
       "stream": "stdout",
       "text": [
        "\n",
        " rectum=('Rectum', '4')\n",
        "voxel volume = 2.38418334961"
       ]
      },
      {
       "output_type": "stream",
       "stream": "stdout",
       "text": [
        "\n",
        "Processing 89 of 100\n",
        " ptv = ('ptv', '4')\n",
        "voxel volume = 2.38418334961"
       ]
      },
      {
       "output_type": "stream",
       "stream": "stdout",
       "text": [
        "\n",
        " bladder=('Bladder', '5')\n",
        "voxel volume = 2.38418334961"
       ]
      },
      {
       "output_type": "stream",
       "stream": "stdout",
       "text": [
        "\n",
        " rectum=('Rectum', '6')\n",
        "voxel volume = 2.38418334961"
       ]
      },
      {
       "output_type": "stream",
       "stream": "stdout",
       "text": [
        "\n",
        "Processing 90 of 100\n",
        " ptv = ('PTV C1', '6')\n",
        "voxel volume = 2.38418334961"
       ]
      },
      {
       "output_type": "stream",
       "stream": "stdout",
       "text": [
        "\n",
        " bladder=('Bladder', '7')\n",
        "voxel volume = 2.38418334961"
       ]
      },
      {
       "output_type": "stream",
       "stream": "stdout",
       "text": [
        "\n",
        " rectum=('Rectum', '8')\n",
        "voxel volume = 2.38418334961"
       ]
      },
      {
       "output_type": "stream",
       "stream": "stdout",
       "text": [
        "\n",
        "Processing 91 of 100\n",
        " ptv = ('PTV=7740', '3')\n",
        "voxel volume = 2.38418334961"
       ]
      },
      {
       "output_type": "stream",
       "stream": "stdout",
       "text": [
        "\n",
        " bladder=('bladder', '7')\n",
        "voxel volume = 2.38418334961"
       ]
      },
      {
       "output_type": "stream",
       "stream": "stdout",
       "text": [
        "\n",
        " rectum=('rectum', '8')\n",
        "voxel volume = 2.38418334961"
       ]
      },
      {
       "output_type": "stream",
       "stream": "stdout",
       "text": [
        "\n",
        "Processing 92 of 100\n",
        " ptv = ('PTV1', '6')"
       ]
      },
      {
       "output_type": "stream",
       "stream": "stdout",
       "text": [
        "\n",
        "voxel volume = 2.38418334961"
       ]
      },
      {
       "output_type": "stream",
       "stream": "stdout",
       "text": [
        "\n",
        " bladder=('bladder', '7')\n",
        "voxel volume = 2.38418334961"
       ]
      },
      {
       "output_type": "stream",
       "stream": "stdout",
       "text": [
        "\n",
        " rectum=('rectum', '8')\n",
        "voxel volume = 2.38418334961"
       ]
      },
      {
       "output_type": "stream",
       "stream": "stdout",
       "text": [
        "\n",
        "Processing 93 of 100\n",
        " ptv = ('ptv', '4')\n",
        "voxel volume = 2.38418334961"
       ]
      },
      {
       "output_type": "stream",
       "stream": "stdout",
       "text": [
        "\n",
        " bladder=('Bladder', '5')\n",
        "voxel volume = 2.38418334961"
       ]
      },
      {
       "output_type": "stream",
       "stream": "stdout",
       "text": [
        "\n",
        " rectum=('Rectum', '6')\n",
        "voxel volume = 2.38418334961"
       ]
      },
      {
       "output_type": "stream",
       "stream": "stdout",
       "text": [
        "\n",
        "Processing 94 of 100\n",
        " ptv = ('PTV 8100', '4')\n",
        "voxel volume = 2.38418334961"
       ]
      },
      {
       "output_type": "stream",
       "stream": "stdout",
       "text": [
        "\n",
        " bladder=('Bladder', '8')\n",
        "voxel volume = 2.38418334961"
       ]
      },
      {
       "output_type": "stream",
       "stream": "stdout",
       "text": [
        "\n",
        " rectum=('Rectum', '7')\n",
        "voxel volume = 2.38418334961"
       ]
      },
      {
       "output_type": "stream",
       "stream": "stdout",
       "text": [
        "\n",
        "Processing 95 of 100\n",
        " ptv = ('ptv', '4')\n",
        "voxel volume = 2.38418334961"
       ]
      },
      {
       "output_type": "stream",
       "stream": "stdout",
       "text": [
        "\n",
        " bladder=('bladder', '5')\n",
        "voxel volume = 2.38418334961"
       ]
      },
      {
       "output_type": "stream",
       "stream": "stdout",
       "text": [
        "\n",
        " rectum=('rectum', '6')\n",
        "voxel volume = 2.38418334961"
       ]
      },
      {
       "output_type": "stream",
       "stream": "stdout",
       "text": [
        "\n",
        "Processing 96 of 100\n",
        " ptv = ('ptv', '4')\n",
        "voxel volume = 2.38418334961"
       ]
      },
      {
       "output_type": "stream",
       "stream": "stdout",
       "text": [
        "\n",
        " bladder=('Bladder', '7')\n",
        "voxel volume = 2.38418334961"
       ]
      },
      {
       "output_type": "stream",
       "stream": "stdout",
       "text": [
        "\n",
        " rectum=('Rectum', '8')\n",
        "voxel volume = 2.38418334961"
       ]
      },
      {
       "output_type": "stream",
       "stream": "stdout",
       "text": [
        "\n",
        "Processing 97 of 100\n",
        " ptv = ('ptv', '4')\n",
        "voxel volume = 2.38418334961"
       ]
      },
      {
       "output_type": "stream",
       "stream": "stdout",
       "text": [
        "\n",
        " bladder=('bladder', '5')\n",
        "voxel volume = 2.38418334961"
       ]
      },
      {
       "output_type": "stream",
       "stream": "stdout",
       "text": [
        "\n",
        " rectum=('rectum', '6')\n",
        "voxel volume = 2.38418334961"
       ]
      },
      {
       "output_type": "stream",
       "stream": "stdout",
       "text": [
        "\n",
        "Processing 98 of 100\n",
        " ptv = ('ptv', '4')\n",
        "voxel volume = 2.38418334961"
       ]
      },
      {
       "output_type": "stream",
       "stream": "stdout",
       "text": [
        "\n",
        " bladder=('Bladder', '7')\n",
        "voxel volume = 2.38418334961"
       ]
      },
      {
       "output_type": "stream",
       "stream": "stdout",
       "text": [
        "\n",
        " rectum=('Rectum', '8')\n",
        "voxel volume = 2.38418334961"
       ]
      },
      {
       "output_type": "stream",
       "stream": "stdout",
       "text": [
        "\n",
        "Processing 99 of 100\n",
        " ptv = ('ptv', '4')\n",
        "voxel volume = 2.38418334961"
       ]
      },
      {
       "output_type": "stream",
       "stream": "stdout",
       "text": [
        "\n",
        " bladder=('bladder', '5')\n",
        "voxel volume = 2.38418334961"
       ]
      },
      {
       "output_type": "stream",
       "stream": "stdout",
       "text": [
        "\n",
        " rectum=('rectum', '6')\n",
        "voxel volume = 2.38418334961"
       ]
      },
      {
       "output_type": "stream",
       "stream": "stdout",
       "text": [
        "\n"
       ]
      }
     ],
     "prompt_number": 1
    },
    {
     "cell_type": "code",
     "collapsed": false,
     "input": [
      "#save log\n",
      "log_data = data.Features()\n",
      "log_data.feats['ptv_centroids'] = [v.tolist() for v in ptv_centroids]\n",
      "log_data.feats['ptv_labels'] = ptv_names\n",
      "log_data.feats['ptv_idxs'] = ptv_idxs\n",
      "log_data.feats['blad_labels'] = blad_names\n",
      "log_data.feats['blad_idxs'] = blad_idxs\n",
      "log_data.feats['rect_labels'] = rect_names\n",
      "log_data.feats['rect_idxs'] = rect_idxs\n",
      "log_data.feats['dicom_paths'] = dicom_paths\n",
      "log_data.write('OUTPUT/LOG.json')"
     ],
     "language": "python",
     "metadata": {},
     "outputs": [],
     "prompt_number": 10
    },
    {
     "cell_type": "code",
     "collapsed": false,
     "input": [
      "#read log\n",
      "log_data = data.Features()\n",
      "log_data.read('OUTPUT/LOG.json')"
     ],
     "language": "python",
     "metadata": {},
     "outputs": [
      {
       "metadata": {},
       "output_type": "pyout",
       "prompt_number": 11,
       "text": [
        "<util.data.Features instance at 0x65e6368>"
       ]
      }
     ],
     "prompt_number": 11
    },
    {
     "cell_type": "code",
     "collapsed": false,
     "input": [
      "#generate dose features\n",
      "\n",
      "#ptv dose\n",
      "patient_idx = 0\n",
      "for patient_path in log_data.feats['dicom_paths']:\n",
      "    print \"Processing {} of {}\".format(patient_idx,len(log_data.feats['dicom_paths']))\n",
      "    dicom_dose_path = glob(patient_path+\"/RD.*\")[0]\n",
      "\n",
      "    for roi in ['ptv','blad','rect']:\n",
      "        #ptv\n",
      "        temp_dose = data.DoseFeatures()\n",
      "        temp_dose.calculate(dicom_dose_path,log_data.feats['{}_idxs'.format(roi)][patient_idx],200,[0.0,90],30)\n",
      "        temp_dose.write('OUTPUT/dose_{}_{}.json'.format(roi,patient_idx))\n",
      "    \n",
      "    patient_idx +=1"
     ],
     "language": "python",
     "metadata": {},
     "outputs": [
      {
       "output_type": "stream",
       "stream": "stdout",
       "text": [
        "Processing 0 of 100\n",
        "Processing 1 of 100"
       ]
      },
      {
       "output_type": "stream",
       "stream": "stdout",
       "text": [
        "\n",
        "Processing 2 of 100"
       ]
      },
      {
       "output_type": "stream",
       "stream": "stdout",
       "text": [
        "\n",
        "Processing 3 of 100"
       ]
      },
      {
       "output_type": "stream",
       "stream": "stdout",
       "text": [
        "\n",
        "Processing 4 of 100"
       ]
      },
      {
       "output_type": "stream",
       "stream": "stdout",
       "text": [
        "\n",
        "Processing 5 of 100"
       ]
      },
      {
       "output_type": "stream",
       "stream": "stdout",
       "text": [
        "\n",
        "Processing 6 of 100"
       ]
      },
      {
       "output_type": "stream",
       "stream": "stdout",
       "text": [
        "\n",
        "Processing 7 of 100"
       ]
      },
      {
       "output_type": "stream",
       "stream": "stdout",
       "text": [
        "\n",
        "Processing 8 of 100"
       ]
      },
      {
       "output_type": "stream",
       "stream": "stdout",
       "text": [
        "\n",
        "Processing 9 of 100"
       ]
      },
      {
       "output_type": "stream",
       "stream": "stdout",
       "text": [
        "\n",
        "Processing 10 of 100"
       ]
      },
      {
       "output_type": "stream",
       "stream": "stdout",
       "text": [
        "\n",
        "Processing 11 of 100"
       ]
      },
      {
       "output_type": "stream",
       "stream": "stdout",
       "text": [
        "\n",
        "Processing 12 of 100"
       ]
      },
      {
       "output_type": "stream",
       "stream": "stdout",
       "text": [
        "\n",
        "Processing 13 of 100"
       ]
      },
      {
       "output_type": "stream",
       "stream": "stdout",
       "text": [
        "\n",
        "Processing 14 of 100"
       ]
      },
      {
       "output_type": "stream",
       "stream": "stdout",
       "text": [
        "\n",
        "Processing 15 of 100"
       ]
      },
      {
       "output_type": "stream",
       "stream": "stdout",
       "text": [
        "\n",
        "Processing 16 of 100"
       ]
      },
      {
       "output_type": "stream",
       "stream": "stdout",
       "text": [
        "\n",
        "Processing 17 of 100"
       ]
      },
      {
       "output_type": "stream",
       "stream": "stdout",
       "text": [
        "\n",
        "Processing 18 of 100"
       ]
      },
      {
       "output_type": "stream",
       "stream": "stdout",
       "text": [
        "\n",
        "Processing 19 of 100"
       ]
      },
      {
       "output_type": "stream",
       "stream": "stdout",
       "text": [
        "\n",
        "Processing 20 of 100"
       ]
      },
      {
       "output_type": "stream",
       "stream": "stdout",
       "text": [
        "\n",
        "Processing 21 of 100"
       ]
      },
      {
       "output_type": "stream",
       "stream": "stdout",
       "text": [
        "\n",
        "Processing 22 of 100"
       ]
      },
      {
       "output_type": "stream",
       "stream": "stdout",
       "text": [
        "\n",
        "Processing 23 of 100"
       ]
      },
      {
       "output_type": "stream",
       "stream": "stdout",
       "text": [
        "\n",
        "Processing 24 of 100"
       ]
      },
      {
       "output_type": "stream",
       "stream": "stdout",
       "text": [
        "\n",
        "Processing 25 of 100"
       ]
      },
      {
       "output_type": "stream",
       "stream": "stdout",
       "text": [
        "\n",
        "Processing 26 of 100"
       ]
      },
      {
       "output_type": "stream",
       "stream": "stdout",
       "text": [
        "\n",
        "Processing 27 of 100"
       ]
      },
      {
       "output_type": "stream",
       "stream": "stdout",
       "text": [
        "\n",
        "Processing 28 of 100"
       ]
      },
      {
       "output_type": "stream",
       "stream": "stdout",
       "text": [
        "\n",
        "Processing 29 of 100"
       ]
      },
      {
       "output_type": "stream",
       "stream": "stdout",
       "text": [
        "\n",
        "Processing 30 of 100"
       ]
      },
      {
       "output_type": "stream",
       "stream": "stdout",
       "text": [
        "\n",
        "Processing 31 of 100"
       ]
      },
      {
       "output_type": "stream",
       "stream": "stdout",
       "text": [
        "\n",
        "Processing 32 of 100"
       ]
      },
      {
       "output_type": "stream",
       "stream": "stdout",
       "text": [
        "\n",
        "Processing 33 of 100"
       ]
      },
      {
       "output_type": "stream",
       "stream": "stdout",
       "text": [
        "\n",
        "Processing 34 of 100"
       ]
      },
      {
       "output_type": "stream",
       "stream": "stdout",
       "text": [
        "\n",
        "Processing 35 of 100"
       ]
      },
      {
       "output_type": "stream",
       "stream": "stdout",
       "text": [
        "\n",
        "Processing 36 of 100"
       ]
      },
      {
       "output_type": "stream",
       "stream": "stdout",
       "text": [
        "\n",
        "Processing 37 of 100"
       ]
      },
      {
       "output_type": "stream",
       "stream": "stdout",
       "text": [
        "\n",
        "Processing 38 of 100"
       ]
      },
      {
       "output_type": "stream",
       "stream": "stdout",
       "text": [
        "\n",
        "Processing 39 of 100"
       ]
      },
      {
       "output_type": "stream",
       "stream": "stdout",
       "text": [
        "\n",
        "Processing 40 of 100"
       ]
      },
      {
       "output_type": "stream",
       "stream": "stdout",
       "text": [
        "\n",
        "Processing 41 of 100"
       ]
      },
      {
       "output_type": "stream",
       "stream": "stdout",
       "text": [
        "\n",
        "Processing 42 of 100"
       ]
      },
      {
       "output_type": "stream",
       "stream": "stdout",
       "text": [
        "\n",
        "Processing 43 of 100"
       ]
      },
      {
       "output_type": "stream",
       "stream": "stdout",
       "text": [
        "\n",
        "Processing 44 of 100"
       ]
      },
      {
       "output_type": "stream",
       "stream": "stdout",
       "text": [
        "\n",
        "Processing 45 of 100"
       ]
      },
      {
       "output_type": "stream",
       "stream": "stdout",
       "text": [
        "\n",
        "Processing 46 of 100"
       ]
      },
      {
       "output_type": "stream",
       "stream": "stdout",
       "text": [
        "\n",
        "Processing 47 of 100"
       ]
      },
      {
       "output_type": "stream",
       "stream": "stdout",
       "text": [
        "\n",
        "Processing 48 of 100"
       ]
      },
      {
       "output_type": "stream",
       "stream": "stdout",
       "text": [
        "\n",
        "Processing 49 of 100"
       ]
      },
      {
       "output_type": "stream",
       "stream": "stdout",
       "text": [
        "\n",
        "Processing 50 of 100"
       ]
      },
      {
       "output_type": "stream",
       "stream": "stdout",
       "text": [
        "\n",
        "Processing 51 of 100"
       ]
      },
      {
       "output_type": "stream",
       "stream": "stdout",
       "text": [
        "\n",
        "Processing 52 of 100"
       ]
      },
      {
       "output_type": "stream",
       "stream": "stdout",
       "text": [
        "\n",
        "Processing 53 of 100"
       ]
      },
      {
       "output_type": "stream",
       "stream": "stdout",
       "text": [
        "\n",
        "Processing 54 of 100"
       ]
      },
      {
       "output_type": "stream",
       "stream": "stdout",
       "text": [
        "\n",
        "Processing 55 of 100"
       ]
      },
      {
       "output_type": "stream",
       "stream": "stdout",
       "text": [
        "\n",
        "Processing 56 of 100"
       ]
      },
      {
       "output_type": "stream",
       "stream": "stdout",
       "text": [
        "\n",
        "Processing 57 of 100"
       ]
      },
      {
       "output_type": "stream",
       "stream": "stdout",
       "text": [
        "\n",
        "Processing 58 of 100"
       ]
      },
      {
       "output_type": "stream",
       "stream": "stdout",
       "text": [
        "\n",
        "Processing 59 of 100"
       ]
      },
      {
       "output_type": "stream",
       "stream": "stdout",
       "text": [
        "\n",
        "Processing 60 of 100"
       ]
      },
      {
       "output_type": "stream",
       "stream": "stdout",
       "text": [
        "\n",
        "Processing 61 of 100"
       ]
      },
      {
       "output_type": "stream",
       "stream": "stdout",
       "text": [
        "\n",
        "Processing 62 of 100"
       ]
      },
      {
       "output_type": "stream",
       "stream": "stdout",
       "text": [
        "\n",
        "Processing 63 of 100"
       ]
      },
      {
       "output_type": "stream",
       "stream": "stdout",
       "text": [
        "\n",
        "Processing 64 of 100"
       ]
      },
      {
       "output_type": "stream",
       "stream": "stdout",
       "text": [
        "\n",
        "Processing 65 of 100"
       ]
      },
      {
       "output_type": "stream",
       "stream": "stdout",
       "text": [
        "\n",
        "Processing 66 of 100"
       ]
      },
      {
       "output_type": "stream",
       "stream": "stdout",
       "text": [
        "\n",
        "Processing 67 of 100"
       ]
      },
      {
       "output_type": "stream",
       "stream": "stdout",
       "text": [
        "\n",
        "Processing 68 of 100"
       ]
      },
      {
       "output_type": "stream",
       "stream": "stdout",
       "text": [
        "\n",
        "Processing 69 of 100"
       ]
      },
      {
       "output_type": "stream",
       "stream": "stdout",
       "text": [
        "\n",
        "Processing 70 of 100"
       ]
      },
      {
       "output_type": "stream",
       "stream": "stdout",
       "text": [
        "\n",
        "Processing 71 of 100"
       ]
      },
      {
       "output_type": "stream",
       "stream": "stdout",
       "text": [
        "\n",
        "Processing 72 of 100"
       ]
      },
      {
       "output_type": "stream",
       "stream": "stdout",
       "text": [
        "\n",
        "Processing 73 of 100"
       ]
      },
      {
       "output_type": "stream",
       "stream": "stdout",
       "text": [
        "\n",
        "Processing 74 of 100"
       ]
      },
      {
       "output_type": "stream",
       "stream": "stdout",
       "text": [
        "\n",
        "Processing 75 of 100"
       ]
      },
      {
       "output_type": "stream",
       "stream": "stdout",
       "text": [
        "\n",
        "Processing 76 of 100"
       ]
      },
      {
       "output_type": "stream",
       "stream": "stdout",
       "text": [
        "\n",
        "Processing 77 of 100"
       ]
      },
      {
       "output_type": "stream",
       "stream": "stdout",
       "text": [
        "\n",
        "Processing 78 of 100"
       ]
      },
      {
       "output_type": "stream",
       "stream": "stdout",
       "text": [
        "\n",
        "Processing 79 of 100"
       ]
      },
      {
       "output_type": "stream",
       "stream": "stdout",
       "text": [
        "\n",
        "Processing 80 of 100"
       ]
      },
      {
       "output_type": "stream",
       "stream": "stdout",
       "text": [
        "\n",
        "Processing 81 of 100"
       ]
      },
      {
       "output_type": "stream",
       "stream": "stdout",
       "text": [
        "\n",
        "Processing 82 of 100"
       ]
      },
      {
       "output_type": "stream",
       "stream": "stdout",
       "text": [
        "\n",
        "Processing 83 of 100"
       ]
      },
      {
       "output_type": "stream",
       "stream": "stdout",
       "text": [
        "\n",
        "Processing 84 of 100"
       ]
      },
      {
       "output_type": "stream",
       "stream": "stdout",
       "text": [
        "\n",
        "Processing 85 of 100"
       ]
      },
      {
       "output_type": "stream",
       "stream": "stdout",
       "text": [
        "\n",
        "Processing 86 of 100"
       ]
      },
      {
       "output_type": "stream",
       "stream": "stdout",
       "text": [
        "\n",
        "Processing 87 of 100"
       ]
      },
      {
       "output_type": "stream",
       "stream": "stdout",
       "text": [
        "\n",
        "Processing 88 of 100"
       ]
      },
      {
       "output_type": "stream",
       "stream": "stdout",
       "text": [
        "\n",
        "Processing 89 of 100"
       ]
      },
      {
       "output_type": "stream",
       "stream": "stdout",
       "text": [
        "\n",
        "Processing 90 of 100"
       ]
      },
      {
       "output_type": "stream",
       "stream": "stdout",
       "text": [
        "\n",
        "Processing 91 of 100"
       ]
      },
      {
       "output_type": "stream",
       "stream": "stdout",
       "text": [
        "\n",
        "Processing 92 of 100"
       ]
      },
      {
       "output_type": "stream",
       "stream": "stdout",
       "text": [
        "\n",
        "Processing 93 of 100"
       ]
      },
      {
       "output_type": "stream",
       "stream": "stdout",
       "text": [
        "\n",
        "Processing 94 of 100"
       ]
      },
      {
       "output_type": "stream",
       "stream": "stdout",
       "text": [
        "\n",
        "Processing 95 of 100"
       ]
      },
      {
       "output_type": "stream",
       "stream": "stdout",
       "text": [
        "\n",
        "Processing 96 of 100"
       ]
      },
      {
       "output_type": "stream",
       "stream": "stdout",
       "text": [
        "\n",
        "Processing 97 of 100"
       ]
      },
      {
       "output_type": "stream",
       "stream": "stdout",
       "text": [
        "\n",
        "Processing 98 of 100"
       ]
      },
      {
       "output_type": "stream",
       "stream": "stdout",
       "text": [
        "\n",
        "Processing 99 of 100"
       ]
      },
      {
       "output_type": "stream",
       "stream": "stdout",
       "text": [
        "\n"
       ]
      }
     ],
     "prompt_number": 20
    },
    {
     "cell_type": "code",
     "collapsed": false,
     "input": [],
     "language": "python",
     "metadata": {},
     "outputs": []
    }
   ],
   "metadata": {}
  }
 ]
}