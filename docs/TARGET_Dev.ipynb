{
 "metadata": {
  "name": ""
 },
 "nbformat": 3,
 "nbformat_minor": 0,
 "worksheets": [
  {
   "cells": [
    {
     "cell_type": "code",
     "collapsed": false,
     "input": [
      "%load_ext autoreload\n",
      "%autoreload 2\n",
      "\n",
      "import numpy as np\n",
      "from time import time\n",
      "%matplotlib inline\n",
      "\n",
      "from matplotlib import pyplot as plt\n",
      "from rt5py.tools import *\n",
      "from rt5py.modules.monte_carlo import *\n",
      "from rt5py.rt5study import RT5Study"
     ],
     "language": "python",
     "metadata": {},
     "outputs": [],
     "prompt_number": 4
    },
    {
     "cell_type": "code",
     "collapsed": false,
     "input": [
      "# load from local\n",
      "UUID = \"d6f18ead-5986219b-11f4c96c-9c57f1fe-0ed0cef4\"\n",
      "study = RT5Study('data/studies/{}.h5'.format(UUID),'a')\n",
      "study.tree()\n",
      "\n",
      "# study.load_dicom_orthanc(UUID,'http://localhost:8042','target','target')\n",
      "# study.import_dicom(ct_structures_dose=False,dvh=False,plan=True)"
     ],
     "language": "python",
     "metadata": {},
     "outputs": [
      {
       "output_type": "stream",
       "stream": "stdout",
       "text": [
        "ct/hu\n",
        "ct/m_trans\n",
        "ct/voxel_coords\n",
        "ct/voxel_size\n",
        "ct_lowres/calibration/density\n",
        "ct_lowres/calibration/hu\n",
        "ct_lowres/density\n",
        "ct_lowres/hu\n",
        "ct_lowres/materials\n",
        "ct_lowres/voxel_size\n",
        "dose/dvh/(11 items)\n",
        "dose/dvh_calc/(11 items)\n",
        "dose/dvh_ignore/Bladder in PTV/(3 items)\n",
        "dose/dvh_ignore/Small bowel/(3 items)\n",
        "dose/dvh_ignore/rec avoid/(3 items)\n",
        "dose/dvh_ignore/rectum in PTV/(3 items)\n",
        "dose/gy\n",
        "dose_lowres/gy\n",
        "dose_mc/average\n",
        "dose_mc/beam/1/(4 items)\n",
        "dose_mc/beam/2/(4 items)\n",
        "dose_mc/dvh_calc/(11 items)\n",
        "dose_mc/gy\n",
        "plan/beams/1/(13 items)\n",
        "plan/beams/2/(13 items)\n",
        "plan/fraction_count\n",
        "plan/leaf_locations\n",
        "structures/(11 items)\n",
        "structures_ignore/Bladder in PTV/contours/(11 items)\n",
        "structures_ignore/CouchInterior/contours/(187 items)\n",
        "structures_ignore/CouchSurface/contours/(187 items)\n",
        "structures_ignore/Small bowel/contours/(18 items)\n",
        "structures_ignore/rec avoid/contours/(34 items)\n",
        "structures_ignore/rectum in PTV/contours/(16 items)\n",
        "structures_lowres/(11 items)\n"
       ]
      }
     ],
     "prompt_number": 5
    },
    {
     "cell_type": "code",
     "collapsed": false,
     "input": [
      "print study.h5.attrs['errors']\n",
      "for b in study['plan/beams/'].itervalues():\n",
      "    print b['energy'].value\n",
      "# del study"
     ],
     "language": "python",
     "metadata": {},
     "outputs": [
      {
       "output_type": "stream",
       "stream": "stdout",
       "text": [
        "[IMPORT_CT_STRUCTURES_DOSE] The roi 'Ct isocenter' has 1 contour points removing it from dictionaries\n",
        "[IMPORT_PLAN] Beam 3 skipped because jaw information is missing (BLDs: ASYM[X|Y], likely a setup beam).\n",
        "[IMPORT_PLAN] Beam 4 skipped because jaw information is missing (BLDs: ASYM[X|Y], likely a setup beam).\n",
        "\n",
        "6.0\n",
        "6.0\n"
       ]
      }
     ],
     "prompt_number": 3
    },
    {
     "cell_type": "code",
     "collapsed": false,
     "input": [
      "tic = time()\n",
      "make_structure_masks(study)\n",
      "make_lowres(study)\n",
      "make_ct_density(study,'ct_lowres')\n",
      "make_materials(study,'ct_lowres')\n",
      "print \"{} tot sec\".format(time() - tic)"
     ],
     "language": "python",
     "metadata": {},
     "outputs": [
      {
       "output_type": "stream",
       "stream": "stdout",
       "text": [
        "Generating Structure Mask and Shell for BODY...\n",
        "Generating Structure Mask and Shell for Bladder..."
       ]
      },
      {
       "output_type": "stream",
       "stream": "stdout",
       "text": [
        "\n",
        "Generating Structure Mask and Shell for Femur_L..."
       ]
      },
      {
       "output_type": "stream",
       "stream": "stdout",
       "text": [
        "\n",
        "Generating Structure Mask and Shell for Femur_R..."
       ]
      },
      {
       "output_type": "stream",
       "stream": "stdout",
       "text": [
        "\n",
        "Generating Structure Mask and Shell for PTV 7920..."
       ]
      },
      {
       "output_type": "stream",
       "stream": "stdout",
       "text": [
        "\n",
        "Generating Structure Mask and Shell for Penile bulb..."
       ]
      },
      {
       "output_type": "stream",
       "stream": "stdout",
       "text": [
        "\n",
        "Generating Structure Mask and Shell for Prostate..."
       ]
      },
      {
       "output_type": "stream",
       "stream": "stdout",
       "text": [
        "\n",
        "Generating Structure Mask and Shell for Rectum..."
       ]
      },
      {
       "output_type": "stream",
       "stream": "stdout",
       "text": [
        "\n",
        "Total time: 94.8146569729 sec"
       ]
      },
      {
       "output_type": "stream",
       "stream": "stdout",
       "text": [
        "\n",
        "Lowres dose data created @ 'dose_lowres/gy'"
       ]
      },
      {
       "output_type": "stream",
       "stream": "stdout",
       "text": [
        "\n",
        "Lowres dose CT created @ 'ct_lowres/hu'"
       ]
      },
      {
       "output_type": "stream",
       "stream": "stdout",
       "text": [
        "\n",
        "Lowres mask for structure created @ 'structures_lowres/BODY/mask'"
       ]
      },
      {
       "output_type": "stream",
       "stream": "stdout",
       "text": [
        "\n",
        "Lowres mask for structure created @ 'structures_lowres/Bladder/mask'"
       ]
      },
      {
       "output_type": "stream",
       "stream": "stdout",
       "text": [
        "\n",
        "Lowres mask for structure created @ 'structures_lowres/Femur_L/mask'"
       ]
      },
      {
       "output_type": "stream",
       "stream": "stdout",
       "text": [
        "\n",
        "Lowres mask for structure created @ 'structures_lowres/Femur_R/mask'"
       ]
      },
      {
       "output_type": "stream",
       "stream": "stdout",
       "text": [
        "\n",
        "Lowres mask for structure created @ 'structures_lowres/PTV 7920/mask'"
       ]
      },
      {
       "output_type": "stream",
       "stream": "stdout",
       "text": [
        "\n",
        "Lowres mask for structure created @ 'structures_lowres/Penile bulb/mask'"
       ]
      },
      {
       "output_type": "stream",
       "stream": "stdout",
       "text": [
        "\n",
        "Lowres mask for structure created @ 'structures_lowres/Prostate/mask'"
       ]
      },
      {
       "output_type": "stream",
       "stream": "stdout",
       "text": [
        "\n",
        "Lowres mask for structure created @ 'structures_lowres/Rectum/mask'"
       ]
      },
      {
       "output_type": "stream",
       "stream": "stdout",
       "text": [
        "\n",
        "CT calibration curve (hu,density) saved in 'ct_lowrescalibration'\n",
        "CT density image created in 'ct_lowres/density'"
       ]
      },
      {
       "output_type": "stream",
       "stream": "stdout",
       "text": [
        "\n",
        "Materials array saved to ct_lowres/materials"
       ]
      },
      {
       "output_type": "stream",
       "stream": "stdout",
       "text": [
        "\n",
        "184.506911993 tot sec\n"
       ]
      }
     ],
     "prompt_number": 31
    },
    {
     "cell_type": "code",
     "collapsed": false,
     "input": [
      "study.save()\n",
      "tic = time()\n",
      "info = calc_mc_dose(study,'ct_lowres','structures_lowres/BODY/mask',\n",
      "                    calibration=(100./98.5)**2,\n",
      "                    dose_threshold=.90,error_threshold=.01) #mode='cp_matrix'\n",
      "study.save()\n",
      "print \"{} sec\".format(time() - tic)"
     ],
     "language": "python",
     "metadata": {},
     "outputs": [
      {
       "output_type": "stream",
       "stream": "stdout",
       "text": [
        "creating temporary mc folder: /tmp/tmpC77FvX\n",
        "Number of Rows in Map: 320"
       ]
      },
      {
       "output_type": "stream",
       "stream": "stdout",
       "text": [
        "\n",
        "Generating maps from MLC data...\n",
        "[computeCPMU] Re-ballancing control point MU to simulate VMAT or Sliding Window IMRT\n",
        "beam 1 identified as arc\n",
        "beam 2 identified as arc\n",
        "Exporting maps to: /tmp/tmpC77FvX/fluence"
       ]
      },
      {
       "output_type": "stream",
       "stream": "stdout",
       "text": [
        "\n",
        "Starting gDPM: beam 1, gpu 0"
       ]
      },
      {
       "output_type": "stream",
       "stream": "stdout",
       "text": [
        "\n",
        "MC Beam Calc. and Dose Saving Time:117.68463707s (Tot time:117.685150146)"
       ]
      },
      {
       "output_type": "stream",
       "stream": "stdout",
       "text": [
        "\n",
        "Starting gDPM: beam 2, gpu 0\n",
        "MC Beam Calc. and Dose Saving Time:126.200999022s (Tot time:243.887387037)"
       ]
      },
      {
       "output_type": "stream",
       "stream": "stdout",
       "text": [
        "\n",
        "deleting temporary mc folder: /tmp/tmpC77FvX\n",
        "256.576361179 sec"
       ]
      },
      {
       "output_type": "stream",
       "stream": "stdout",
       "text": [
        "\n"
       ]
      }
     ],
     "prompt_number": 14
    },
    {
     "cell_type": "code",
     "collapsed": false,
     "input": [
      "make_mc_total_dose(study)\n",
      "study.save()"
     ],
     "language": "python",
     "metadata": {},
     "outputs": [
      {
       "output_type": "stream",
       "stream": "stdout",
       "text": [
        "Saving total dose...\n",
        "Total dose saved @ /dose_mc/[dose|gy]"
       ]
      },
      {
       "output_type": "stream",
       "stream": "stdout",
       "text": [
        "\n"
       ]
      }
     ],
     "prompt_number": 15
    },
    {
     "cell_type": "code",
     "collapsed": false,
     "input": [
      "#todo: either fix BBA Smooth, or select which dose to compute dvh for\n",
      "make_dvh(study,'dose_mc','structures_lowres')\n",
      "make_dvh(study,'dose','structures') #plan dvh was missing\n",
      "study.save()"
     ],
     "language": "python",
     "metadata": {},
     "outputs": [
      {
       "output_type": "stream",
       "stream": "stdout",
       "text": [
        "DVH saved @ dose_mc/dvh_calc/[roi]/[percent,gy]\n",
        "DVH saved @ dose/dvh_calc/[roi]/[percent,gy]"
       ]
      },
      {
       "output_type": "stream",
       "stream": "stdout",
       "text": [
        "\n"
       ]
      }
     ],
     "prompt_number": 16
    },
    {
     "cell_type": "code",
     "collapsed": false,
     "input": [
      "study.close()"
     ],
     "language": "python",
     "metadata": {},
     "outputs": [],
     "prompt_number": 7
    },
    {
     "cell_type": "code",
     "collapsed": false,
     "input": [
      "#pick 7 or 14 for best coloring\n",
      "ROI_LIST_1 = [\n",
      "              'Bladder',\n",
      "              'PTV 7920',\n",
      "              'Rectum',\n",
      "              'Penile bulb',\n",
      "              'Femur_L',\n",
      "              'Femur_R',\n",
      "              'Prostate',\n",
      "#               'BODY',\n",
      "]"
     ],
     "language": "python",
     "metadata": {},
     "outputs": [],
     "prompt_number": 19
    },
    {
     "cell_type": "code",
     "collapsed": false,
     "input": [
      "ROI_LIST = ROI_LIST_1\n",
      "\n",
      "plt.figure(figsize=(15,10))\n",
      "for roi_name in ROI_LIST:\n",
      "    plt.plot(study['dose/dvh/{}/gy'.format(roi_name)],np.array(study['dose/dvh/{}/percent'.format(roi_name)])*100.,'--')\n",
      "    \n",
      "dose = study['dose_mc/average']\n",
      "structure_group = 'structures_lowres'\n",
      "print dose.shape\n",
      "for structure in ROI_LIST:\n",
      "    #check that mask and dose are same shape:\n",
      "    mask = study['{}/{}/mask'.format(structure_group,structure)].astype('f32')\n",
      "    idxs = np.where(mask)\n",
      "    hist,bins = np.histogram(dose[idxs],bins=1000,weights=mask[idxs])\n",
      "    dvh_percent = 1.-np.cumsum(hist)/float(mask[idxs].sum())\n",
      "    plt.plot(bins[:-1],dvh_percent*100,label=structure)\n",
      "\n",
      "plt.xlabel('Dose (gy)')    \n",
      "plt.ylabel('Volume (%)')\n",
      "plt.title('Monte Carlo (solid), TPS (dashed)')\n",
      "plt.ylim(-1,101)\n",
      "plt.legend(loc='upper center')\n",
      "plt.show()"
     ],
     "language": "python",
     "metadata": {},
     "outputs": [
      {
       "output_type": "stream",
       "stream": "stdout",
       "text": [
        "(256, 256, 187)\n"
       ]
      },
      {
       "metadata": {},
       "output_type": "display_data",
       "png": "[encoded data removed]",
       "text": [
        "<matplotlib.figure.Figure at 0x7f5da67d56d0>"
       ]
      }
     ],
     "prompt_number": 43
    },
    {
     "cell_type": "code",
     "collapsed": false,
     "input": [
      "d_mc = study['dose_mc/average']\n",
      "d_tps = study['dose/gy']\n",
      "d_diff = abs(d_mc-study['dose_lowres/gy'])\n",
      "plt.figure(figsize=(10,10))\n",
      "plt.plot(d_mc[128,128,:],label='mc_axial')\n",
      "plt.plot(d_tps[256,256,:],label='tps_axial')\n",
      "plt.plot(d_diff[:,128,76],label='diff_axial')\n",
      "\n",
      "\n",
      "plt.plot(d_mc[128,:,76],label='mc_lateral')\n",
      "plt.plot(np.arange(0,256,.5),d_tps[256,:,76],label='tps_lateral')\n",
      "plt.plot(d_diff[128,:,76],label='diff_lateral')\n",
      "\n",
      "plt.legend()\n",
      "plt.xlim((0,256))"
     ],
     "language": "python",
     "metadata": {},
     "outputs": [
      {
       "metadata": {},
       "output_type": "pyout",
       "prompt_number": 21,
       "text": [
        "(0, 256)"
       ]
      },
      {
       "metadata": {},
       "output_type": "display_data",
       "png": "[encoded data removed]",
       "text": [
        "<matplotlib.figure.Figure at 0x7f5dc98c7790>"
       ]
      }
     ],
     "prompt_number": 21
    },
    {
     "cell_type": "code",
     "collapsed": false,
     "input": [
      "#do matrix calc now\n",
      "study.save()\n",
      "tic = time()\n",
      "info = calc_mc_dose(study,'ct_lowres','structures_lowres/BODY/mask',mode='cp_matrix',dose_threshold=.5,error_threshold=.05)#mc_dir='MCDATA2'\n",
      "study.save()\n",
      "print \"{} sec\".format(time() - tic)"
     ],
     "language": "python",
     "metadata": {},
     "outputs": [
      {
       "output_type": "stream",
       "stream": "stdout",
       "text": [
        "creating temporary mc folder: /tmp/tmp1GppQy\n",
        "Number of Rows in Map: 320"
       ]
      },
      {
       "output_type": "stream",
       "stream": "stdout",
       "text": [
        "\n",
        "Generating maps from MLC data...\n",
        "[computeCPMU] Re-ballancing control point MU to simulate VMAT or Sliding Window IMRT\n",
        "beam 1 identified as arc\n",
        "beam 2 identified as arc\n",
        "Exporting maps to: /tmp/tmp1GppQy/fluence"
       ]
      },
      {
       "output_type": "stream",
       "stream": "stdout",
       "text": [
        "\n",
        "Starting gDPM: beam 1, cp 0, gpu 0"
       ]
      },
      {
       "output_type": "stream",
       "stream": "stdout",
       "text": [
        "\n",
        "Finishing: beam 1, cp 0, gpu 0\n",
        "MC Chunk Calc. Time:9.23084998131s (Tot time:9.23132205009)"
       ]
      },
      {
       "output_type": "stream",
       "stream": "stdout",
       "text": [
        "\n",
        "Starting gDPM: beam 1, cp 1, gpu 0\n",
        "Finishing: beam 1, cp 1, gpu 0\n",
        "MC Chunk Calc. Time:8.75977301598s (Tot time:17.9922850132)"
       ]
      },
      {
       "output_type": "stream",
       "stream": "stdout",
       "text": [
        "\n",
        "Starting gDPM: beam 1, cp 2, gpu 0\n",
        "Finishing: beam 1, cp 2, gpu 0\n",
        "MC Chunk Calc. Time:8.81976413727s (Tot time:26.8159320354)"
       ]
      },
      {
       "output_type": "stream",
       "stream": "stdout",
       "text": [
        "\n",
        "Starting gDPM: beam 1, cp 3, gpu 0\n",
        "Finishing: beam 1, cp 3, gpu 0\n",
        "MC Chunk Calc. Time:8.76325416565s (Tot time:35.580714941)"
       ]
      },
      {
       "output_type": "stream",
       "stream": "stdout",
       "text": [
        "\n",
        "Starting gDPM: beam 1, cp 4, gpu 0\n",
        "Finishing: beam 1, cp 4, gpu 0\n",
        "MC Chunk Calc. Time:9.34711408615s (Tot time:44.9337940216)"
       ]
      },
      {
       "output_type": "stream",
       "stream": "stdout",
       "text": [
        "\n",
        "Starting gDPM: beam 1, cp 5, gpu 0\n",
        "Finishing: beam 1, cp 5, gpu 0\n",
        "MC Chunk Calc. Time:8.72041893005s (Tot time:53.6572880745)"
       ]
      },
      {
       "output_type": "stream",
       "stream": "stdout",
       "text": [
        "\n",
        "Starting gDPM: beam 1, cp 6, gpu 0\n",
        "Finishing: beam 1, cp 6, gpu 0\n",
        "MC Chunk Calc. Time:9.0032889843s (Tot time:62.6660730839)"
       ]
      },
      {
       "output_type": "stream",
       "stream": "stdout",
       "text": [
        "\n",
        "Starting gDPM: beam 1, cp 7, gpu 0\n",
        "Finishing: beam 1, cp 7, gpu 0\n",
        "MC Chunk Calc. Time:9.09322214127s (Tot time:71.7607059479)"
       ]
      },
      {
       "output_type": "stream",
       "stream": "stdout",
       "text": [
        "\n",
        "Starting gDPM: beam 1, cp 8, gpu 0\n",
        "Finishing: beam 1, cp 8, gpu 0\n",
        "MC Chunk Calc. Time:8.86372208595s (Tot time:80.6303350925)"
       ]
      },
      {
       "output_type": "stream",
       "stream": "stdout",
       "text": [
        "\n",
        "Starting gDPM: beam 1, cp 9, gpu 0\n",
        "Finishing: beam 1, cp 9, gpu 0\n",
        "MC Chunk Calc. Time:9.03261613846s (Tot time:89.664386034)"
       ]
      },
      {
       "output_type": "stream",
       "stream": "stdout",
       "text": [
        "\n",
        "Starting gDPM: beam 1, cp 10, gpu 0\n",
        "Finishing: beam 1, cp 10, gpu 0\n",
        "MC Chunk Calc. Time:9.28434896469s (Tot time:98.9513320923)"
       ]
      },
      {
       "output_type": "stream",
       "stream": "stdout",
       "text": [
        "\n",
        "Starting gDPM: beam 1, cp 11, gpu 0\n",
        "Finishing: beam 1, cp 11, gpu 0\n",
        "MC Chunk Calc. Time:9.08858084679s (Tot time:108.040977001)"
       ]
      },
      {
       "output_type": "stream",
       "stream": "stdout",
       "text": [
        "\n",
        "Starting gDPM: beam 1, cp 12, gpu 0\n",
        "Finishing: beam 1, cp 12, gpu 0\n",
        "MC Chunk Calc. Time:8.71347093582s (Tot time:116.758759022)"
       ]
      },
      {
       "output_type": "stream",
       "stream": "stdout",
       "text": [
        "\n",
        "Starting gDPM: beam 1, cp 13, gpu 0\n",
        "Finishing: beam 1, cp 13, gpu 0\n",
        "MC Chunk Calc. Time:8.62332892418s (Tot time:125.38331008)"
       ]
      },
      {
       "output_type": "stream",
       "stream": "stdout",
       "text": [
        "\n",
        "Starting gDPM: beam 1, cp 14, gpu 0\n",
        "Finishing: beam 1, cp 14, gpu 0\n",
        "MC Chunk Calc. Time:8.74045014381s (Tot time:134.130667925)"
       ]
      },
      {
       "output_type": "stream",
       "stream": "stdout",
       "text": [
        "\n",
        "Starting gDPM: beam 1, cp 15, gpu 0\n",
        "Finishing: beam 1, cp 15, gpu 0\n",
        "MC Chunk Calc. Time:10.1562449932s (Tot time:144.288487911)"
       ]
      },
      {
       "output_type": "stream",
       "stream": "stdout",
       "text": [
        "\n",
        "Starting gDPM: beam 1, cp 16, gpu 0\n",
        "Finishing: beam 1, cp 16, gpu 0\n",
        "MC Chunk Calc. Time:9.05562710762s (Tot time:153.350718021)"
       ]
      },
      {
       "output_type": "stream",
       "stream": "stdout",
       "text": [
        "\n",
        "Starting gDPM: beam 1, cp 17, gpu 0\n",
        "Finishing: beam 1, cp 17, gpu 0\n",
        "MC Chunk Calc. Time:9.17088508606s (Tot time:162.523454905)"
       ]
      },
      {
       "output_type": "stream",
       "stream": "stdout",
       "text": [
        "\n",
        "Starting gDPM: beam 1, cp 18, gpu 0\n",
        "Finishing: beam 1, cp 18, gpu 0\n",
        "MC Chunk Calc. Time:8.91669297218s (Tot time:171.44183588)"
       ]
      },
      {
       "output_type": "stream",
       "stream": "stdout",
       "text": [
        "\n",
        "Starting gDPM: beam 1, cp 19, gpu 0\n",
        "Finishing: beam 1, cp 19, gpu 0\n",
        "MC Chunk Calc. Time:9.08591794968s (Tot time:180.530709982)"
       ]
      },
      {
       "output_type": "stream",
       "stream": "stdout",
       "text": [
        "\n",
        "Starting gDPM: beam 1, cp 20, gpu 0\n",
        "Finishing: beam 1, cp 20, gpu 0\n",
        "MC Chunk Calc. Time:8.91786503792s (Tot time:189.450227976)"
       ]
      },
      {
       "output_type": "stream",
       "stream": "stdout",
       "text": [
        "\n",
        "Starting gDPM: beam 1, cp 21, gpu 0\n",
        "Finishing: beam 1, cp 21, gpu 0\n",
        "MC Chunk Calc. Time:8.87026906013s (Tot time:198.322575092)"
       ]
      },
      {
       "output_type": "stream",
       "stream": "stdout",
       "text": [
        "\n",
        "Starting gDPM: beam 1, cp 22, gpu 0\n",
        "Finishing: beam 1, cp 22, gpu 0\n",
        "MC Chunk Calc. Time:9.17654085159s (Tot time:207.501755953)"
       ]
      },
      {
       "output_type": "stream",
       "stream": "stdout",
       "text": [
        "\n",
        "Starting gDPM: beam 1, cp 23, gpu 0\n",
        "Finishing: beam 1, cp 23, gpu 0\n",
        "MC Chunk Calc. Time:8.90021300316s (Tot time:216.405894995)"
       ]
      },
      {
       "output_type": "stream",
       "stream": "stdout",
       "text": [
        "\n",
        "Starting gDPM: beam 1, cp 24, gpu 0\n",
        "Finishing: beam 1, cp 24, gpu 0\n",
        "MC Chunk Calc. Time:9.23209190369s (Tot time:225.643701077)"
       ]
      },
      {
       "output_type": "stream",
       "stream": "stdout",
       "text": [
        "\n",
        "Starting gDPM: beam 1, cp 25, gpu 0\n",
        "Finishing: beam 1, cp 25, gpu 0\n",
        "MC Chunk Calc. Time:9.17693901062s (Tot time:234.822048903)"
       ]
      },
      {
       "output_type": "stream",
       "stream": "stdout",
       "text": [
        "\n",
        "Starting gDPM: beam 1, cp 26, gpu 0\n",
        "Finishing: beam 1, cp 26, gpu 0\n",
        "MC Chunk Calc. Time:8.78125405312s (Tot time:243.605364084)"
       ]
      },
      {
       "output_type": "stream",
       "stream": "stdout",
       "text": [
        "\n",
        "Starting gDPM: beam 1, cp 27, gpu 0\n",
        "Finishing: beam 1, cp 27, gpu 0\n",
        "MC Chunk Calc. Time:8.69561100006s (Tot time:252.308080912)"
       ]
      },
      {
       "output_type": "stream",
       "stream": "stdout",
       "text": [
        "\n",
        "Starting gDPM: beam 1, cp 28, gpu 0\n",
        "Finishing: beam 1, cp 28, gpu 0\n",
        "MC Chunk Calc. Time:9.22624397278s (Tot time:261.535847902)"
       ]
      },
      {
       "output_type": "stream",
       "stream": "stdout",
       "text": [
        "\n",
        "Starting gDPM: beam 1, cp 29, gpu 0\n",
        "Finishing: beam 1, cp 29, gpu 0\n",
        "MC Chunk Calc. Time:9.65736317635s (Tot time:271.194492102)"
       ]
      },
      {
       "output_type": "stream",
       "stream": "stdout",
       "text": [
        "\n",
        "Starting gDPM: beam 1, cp 30, gpu 0\n",
        "Finishing: beam 1, cp 30, gpu 0\n",
        "MC Chunk Calc. Time:8.69101500511s (Tot time:279.887093067)"
       ]
      },
      {
       "output_type": "stream",
       "stream": "stdout",
       "text": [
        "\n",
        "Starting gDPM: beam 1, cp 31, gpu 0\n",
        "Finishing: beam 1, cp 31, gpu 0\n",
        "MC Chunk Calc. Time:8.63468790054s (Tot time:288.523978949)"
       ]
      },
      {
       "output_type": "stream",
       "stream": "stdout",
       "text": [
        "\n",
        "Starting gDPM: beam 1, cp 32, gpu 0\n",
        "Finishing: beam 1, cp 32, gpu 0\n",
        "MC Chunk Calc. Time:8.81768202782s (Tot time:297.342808962)"
       ]
      },
      {
       "output_type": "stream",
       "stream": "stdout",
       "text": [
        "\n",
        "Starting gDPM: beam 1, cp 33, gpu 0\n",
        "Finishing: beam 1, cp 33, gpu 0\n",
        "MC Chunk Calc. Time:8.48637390137s (Tot time:305.830965996)"
       ]
      },
      {
       "output_type": "stream",
       "stream": "stdout",
       "text": [
        "\n",
        "Starting gDPM: beam 1, cp 34, gpu 0\n",
        "Finishing: beam 1, cp 34, gpu 0\n",
        "MC Chunk Calc. Time:8.97690105438s (Tot time:314.815201044)"
       ]
      },
      {
       "output_type": "stream",
       "stream": "stdout",
       "text": [
        "\n",
        "Starting gDPM: beam 1, cp 35, gpu 0\n",
        "Finishing: beam 1, cp 35, gpu 0\n",
        "MC Chunk Calc. Time:9.46165299416s (Tot time:324.278614044)"
       ]
      },
      {
       "output_type": "stream",
       "stream": "stdout",
       "text": [
        "\n",
        "Starting gDPM: beam 1, cp 36, gpu 0\n",
        "Finishing: beam 1, cp 36, gpu 0\n",
        "MC Chunk Calc. Time:9.34779310226s (Tot time:333.629143)"
       ]
      },
      {
       "output_type": "stream",
       "stream": "stdout",
       "text": [
        "\n",
        "Starting gDPM: beam 1, cp 37, gpu 0\n",
        "Finishing: beam 1, cp 37, gpu 0\n",
        "MC Chunk Calc. Time:8.74207615852s (Tot time:342.377595901)"
       ]
      },
      {
       "output_type": "stream",
       "stream": "stdout",
       "text": [
        "\n",
        "Starting gDPM: beam 1, cp 38, gpu 0\n",
        "Finishing: beam 1, cp 38, gpu 0\n",
        "MC Chunk Calc. Time:8.65407705307s (Tot time:351.03471303)"
       ]
      },
      {
       "output_type": "stream",
       "stream": "stdout",
       "text": [
        "\n",
        "Starting gDPM: beam 1, cp 39, gpu 0\n",
        "Finishing: beam 1, cp 39, gpu 0\n",
        "MC Chunk Calc. Time:8.84075903893s (Tot time:359.876343012)"
       ]
      },
      {
       "output_type": "stream",
       "stream": "stdout",
       "text": [
        "\n",
        "Starting gDPM: beam 1, cp 40, gpu 0\n",
        "Finishing: beam 1, cp 40, gpu 0\n",
        "MC Chunk Calc. Time:8.67430996895s (Tot time:368.55171299)"
       ]
      },
      {
       "output_type": "stream",
       "stream": "stdout",
       "text": [
        "\n",
        "Starting gDPM: beam 1, cp 41, gpu 0\n",
        "Finishing: beam 1, cp 41, gpu 0\n",
        "MC Chunk Calc. Time:10.0375850201s (Tot time:378.591437101)"
       ]
      },
      {
       "output_type": "stream",
       "stream": "stdout",
       "text": [
        "\n",
        "Starting gDPM: beam 1, cp 42, gpu 0\n",
        "Finishing: beam 1, cp 42, gpu 0\n",
        "MC Chunk Calc. Time:9.59186387062s (Tot time:388.185250998)"
       ]
      },
      {
       "output_type": "stream",
       "stream": "stdout",
       "text": [
        "\n",
        "Starting gDPM: beam 1, cp 43, gpu 0\n",
        "Finishing: beam 1, cp 43, gpu 0\n",
        "MC Chunk Calc. Time:9.00665616989s (Tot time:397.197510004)"
       ]
      },
      {
       "output_type": "stream",
       "stream": "stdout",
       "text": [
        "\n",
        "Starting gDPM: beam 1, cp 44, gpu 0\n",
        "Finishing: beam 1, cp 44, gpu 0\n",
        "MC Chunk Calc. Time:8.78070020676s (Tot time:405.982122898)"
       ]
      },
      {
       "output_type": "stream",
       "stream": "stdout",
       "text": [
        "\n",
        "Starting gDPM: beam 1, cp 45, gpu 0\n",
        "Finishing: beam 1, cp 45, gpu 0\n",
        "MC Chunk Calc. Time:9.85444402695s (Tot time:415.838397026)"
       ]
      },
      {
       "output_type": "stream",
       "stream": "stdout",
       "text": [
        "\n",
        "Starting gDPM: beam 1, cp 46, gpu 0\n",
        "Finishing: beam 1, cp 46, gpu 0\n",
        "MC Chunk Calc. Time:8.40183210373s (Tot time:424.242310047)"
       ]
      },
      {
       "output_type": "stream",
       "stream": "stdout",
       "text": [
        "\n",
        "Starting gDPM: beam 1, cp 47, gpu 0\n",
        "Finishing: beam 1, cp 47, gpu 0\n",
        "MC Chunk Calc. Time:9.9071161747s (Tot time:434.152078867)"
       ]
      },
      {
       "output_type": "stream",
       "stream": "stdout",
       "text": [
        "\n",
        "Starting gDPM: beam 1, cp 48, gpu 0\n",
        "Finishing: beam 1, cp 48, gpu 0\n",
        "MC Chunk Calc. Time:9.30045104027s (Tot time:443.454173088)"
       ]
      },
      {
       "output_type": "stream",
       "stream": "stdout",
       "text": [
        "\n",
        "Starting gDPM: beam 1, cp 49, gpu 0\n",
        "Finishing: beam 1, cp 49, gpu 0\n",
        "MC Chunk Calc. Time:9.22291111946s (Tot time:452.679200888)"
       ]
      },
      {
       "output_type": "stream",
       "stream": "stdout",
       "text": [
        "\n",
        "Starting gDPM: beam 1, cp 50, gpu 0\n",
        "Finishing: beam 1, cp 50, gpu 0\n",
        "MC Chunk Calc. Time:11.1458671093s (Tot time:463.827271938)"
       ]
      },
      {
       "output_type": "stream",
       "stream": "stdout",
       "text": [
        "\n",
        "Starting gDPM: beam 1, cp 51, gpu 0\n",
        "Finishing: beam 1, cp 51, gpu 0\n",
        "MC Chunk Calc. Time:9.81848907471s (Tot time:473.646740913)"
       ]
      },
      {
       "output_type": "stream",
       "stream": "stdout",
       "text": [
        "\n",
        "Starting gDPM: beam 1, cp 52, gpu 0\n",
        "Finishing: beam 1, cp 52, gpu 0\n",
        "MC Chunk Calc. Time:9.22463297844s (Tot time:482.87370491)"
       ]
      },
      {
       "output_type": "stream",
       "stream": "stdout",
       "text": [
        "\n",
        "Starting gDPM: beam 1, cp 53, gpu 0\n",
        "Finishing: beam 1, cp 53, gpu 0\n",
        "MC Chunk Calc. Time:9.00991511345s (Tot time:491.88479495)"
       ]
      },
      {
       "output_type": "stream",
       "stream": "stdout",
       "text": [
        "\n",
        "Starting gDPM: beam 1, cp 54, gpu 0\n",
        "Finishing: beam 1, cp 54, gpu 0\n",
        "MC Chunk Calc. Time:9.19905519485s (Tot time:501.084780931)"
       ]
      },
      {
       "output_type": "stream",
       "stream": "stdout",
       "text": [
        "\n",
        "Starting gDPM: beam 1, cp 55, gpu 0\n",
        "Finishing: beam 1, cp 55, gpu 0\n",
        "MC Chunk Calc. Time:8.48452019691s (Tot time:509.570359945)"
       ]
      },
      {
       "output_type": "stream",
       "stream": "stdout",
       "text": [
        "\n",
        "Starting gDPM: beam 1, cp 56, gpu 0\n",
        "Finishing: beam 1, cp 56, gpu 0\n",
        "MC Chunk Calc. Time:8.49283194542s (Tot time:518.064743996)"
       ]
      },
      {
       "output_type": "stream",
       "stream": "stdout",
       "text": [
        "\n",
        "Starting gDPM: beam 1, cp 57, gpu 0\n",
        "Finishing: beam 1, cp 57, gpu 0\n",
        "MC Chunk Calc. Time:10.5412898064s (Tot time:528.61223197)"
       ]
      },
      {
       "output_type": "stream",
       "stream": "stdout",
       "text": [
        "\n",
        "Starting gDPM: beam 1, cp 58, gpu 0\n",
        "Finishing: beam 1, cp 58, gpu 0\n",
        "MC Chunk Calc. Time:10.1730399132s (Tot time:538.786731005)"
       ]
      },
      {
       "output_type": "stream",
       "stream": "stdout",
       "text": [
        "\n",
        "Starting gDPM: beam 1, cp 59, gpu 0\n",
        "Finishing: beam 1, cp 59, gpu 0\n",
        "MC Chunk Calc. Time:9.45660400391s (Tot time:548.246484995)"
       ]
      },
      {
       "output_type": "stream",
       "stream": "stdout",
       "text": [
        "\n",
        "Starting gDPM: beam 1, cp 60, gpu 0\n",
        "Finishing: beam 1, cp 60, gpu 0\n",
        "MC Chunk Calc. Time:9.11595702171s (Tot time:557.363986015)"
       ]
      },
      {
       "output_type": "stream",
       "stream": "stdout",
       "text": [
        "\n",
        "Starting gDPM: beam 1, cp 61, gpu 0\n",
        "Finishing: beam 1, cp 61, gpu 0\n",
        "MC Chunk Calc. Time:8.55794501305s (Tot time:565.923940897)"
       ]
      },
      {
       "output_type": "stream",
       "stream": "stdout",
       "text": [
        "\n",
        "Starting gDPM: beam 1, cp 62, gpu 0\n",
        "Finishing: beam 1, cp 62, gpu 0\n",
        "MC Chunk Calc. Time:8.62476992607s (Tot time:574.550178051)"
       ]
      },
      {
       "output_type": "stream",
       "stream": "stdout",
       "text": [
        "\n",
        "Starting gDPM: beam 1, cp 63, gpu 0\n",
        "Finishing: beam 1, cp 63, gpu 0\n",
        "MC Chunk Calc. Time:8.96860694885s (Tot time:583.520878077)"
       ]
      },
      {
       "output_type": "stream",
       "stream": "stdout",
       "text": [
        "\n",
        "Starting gDPM: beam 1, cp 64, gpu 0\n",
        "Finishing: beam 1, cp 64, gpu 0\n",
        "MC Chunk Calc. Time:9.40514183044s (Tot time:592.926965952)"
       ]
      },
      {
       "output_type": "stream",
       "stream": "stdout",
       "text": [
        "\n",
        "Starting gDPM: beam 1, cp 65, gpu 0\n",
        "Finishing: beam 1, cp 65, gpu 0\n",
        "MC Chunk Calc. Time:9.6671731472s (Tot time:602.595145941)"
       ]
      },
      {
       "output_type": "stream",
       "stream": "stdout",
       "text": [
        "\n",
        "Starting gDPM: beam 1, cp 66, gpu 0\n",
        "Finishing: beam 1, cp 66, gpu 0\n",
        "MC Chunk Calc. Time:9.88191699982s (Tot time:612.479084015)"
       ]
      },
      {
       "output_type": "stream",
       "stream": "stdout",
       "text": [
        "\n",
        "Starting gDPM: beam 1, cp 67, gpu 0\n",
        "Finishing: beam 1, cp 67, gpu 0\n",
        "MC Chunk Calc. Time:9.20865011215s (Tot time:621.689224958)"
       ]
      },
      {
       "output_type": "stream",
       "stream": "stdout",
       "text": [
        "\n",
        "Starting gDPM: beam 1, cp 68, gpu 0\n",
        "Finishing: beam 1, cp 68, gpu 0\n",
        "MC Chunk Calc. Time:9.65930914879s (Tot time:631.354157925)"
       ]
      },
      {
       "output_type": "stream",
       "stream": "stdout",
       "text": [
        "\n",
        "Starting gDPM: beam 1, cp 69, gpu 0\n",
        "Finishing: beam 1, cp 69, gpu 0\n",
        "MC Chunk Calc. Time:10.0269691944s (Tot time:641.382616997)"
       ]
      },
      {
       "output_type": "stream",
       "stream": "stdout",
       "text": [
        "\n",
        "Starting gDPM: beam 1, cp 70, gpu 0\n",
        "Finishing: beam 1, cp 70, gpu 0\n",
        "MC Chunk Calc. Time:8.91859412193s (Tot time:650.303835869)"
       ]
      },
      {
       "output_type": "stream",
       "stream": "stdout",
       "text": [
        "\n",
        "Starting gDPM: beam 1, cp 71, gpu 0\n",
        "Finishing: beam 1, cp 71, gpu 0\n",
        "MC Chunk Calc. Time:9.2681491375s (Tot time:659.573751926)"
       ]
      },
      {
       "output_type": "stream",
       "stream": "stdout",
       "text": [
        "\n",
        "Starting gDPM: beam 1, cp 72, gpu 0\n",
        "Finishing: beam 1, cp 72, gpu 0\n",
        "MC Chunk Calc. Time:9.48136591911s (Tot time:669.057543993)"
       ]
      },
      {
       "output_type": "stream",
       "stream": "stdout",
       "text": [
        "\n",
        "Starting gDPM: beam 1, cp 73, gpu 0\n",
        "Finishing: beam 1, cp 73, gpu 0\n",
        "MC Chunk Calc. Time:9.44993495941s (Tot time:678.511219978)"
       ]
      },
      {
       "output_type": "stream",
       "stream": "stdout",
       "text": [
        "\n",
        "Starting gDPM: beam 1, cp 74, gpu 0\n",
        "Finishing: beam 1, cp 74, gpu 0\n",
        "MC Chunk Calc. Time:8.69788098335s (Tot time:687.211126089)"
       ]
      },
      {
       "output_type": "stream",
       "stream": "stdout",
       "text": [
        "\n",
        "Starting gDPM: beam 1, cp 75, gpu 0\n",
        "Finishing: beam 1, cp 75, gpu 0\n",
        "MC Chunk Calc. Time:8.88580799103s (Tot time:696.102046013)"
       ]
      },
      {
       "output_type": "stream",
       "stream": "stdout",
       "text": [
        "\n",
        "Starting gDPM: beam 1, cp 76, gpu 0\n",
        "Finishing: beam 1, cp 76, gpu 0\n",
        "MC Chunk Calc. Time:9.17353582382s (Tot time:705.278131008)"
       ]
      },
      {
       "output_type": "stream",
       "stream": "stdout",
       "text": [
        "\n",
        "Starting gDPM: beam 1, cp 77, gpu 0\n",
        "Finishing: beam 1, cp 77, gpu 0\n",
        "MC Chunk Calc. Time:9.52169680595s (Tot time:714.801481009)"
       ]
      },
      {
       "output_type": "stream",
       "stream": "stdout",
       "text": [
        "\n",
        "Starting gDPM: beam 1, cp 78, gpu 0\n",
        "Finishing: beam 1, cp 78, gpu 0\n",
        "MC Chunk Calc. Time:9.05133986473s (Tot time:723.859431028)"
       ]
      },
      {
       "output_type": "stream",
       "stream": "stdout",
       "text": [
        "\n",
        "Starting gDPM: beam 1, cp 79, gpu 0\n",
        "Finishing: beam 1, cp 79, gpu 0\n",
        "MC Chunk Calc. Time:8.57616686821s (Tot time:732.437125921)"
       ]
      },
      {
       "output_type": "stream",
       "stream": "stdout",
       "text": [
        "\n",
        "Starting gDPM: beam 1, cp 80, gpu 0\n",
        "Finishing: beam 1, cp 80, gpu 0\n",
        "MC Chunk Calc. Time:9.30720496178s (Tot time:741.749330044)"
       ]
      },
      {
       "output_type": "stream",
       "stream": "stdout",
       "text": [
        "\n",
        "Starting gDPM: beam 1, cp 81, gpu 0\n",
        "Finishing: beam 1, cp 81, gpu 0\n",
        "MC Chunk Calc. Time:8.53571009636s (Tot time:750.288665056)"
       ]
      },
      {
       "output_type": "stream",
       "stream": "stdout",
       "text": [
        "\n",
        "Starting gDPM: beam 1, cp 82, gpu 0\n",
        "Finishing: beam 1, cp 82, gpu 0\n",
        "MC Chunk Calc. Time:10.1918361187s (Tot time:760.484984875)"
       ]
      },
      {
       "output_type": "stream",
       "stream": "stdout",
       "text": [
        "\n",
        "Starting gDPM: beam 1, cp 83, gpu 0\n",
        "Finishing: beam 1, cp 83, gpu 0\n",
        "MC Chunk Calc. Time:10.6366930008s (Tot time:771.127449036)"
       ]
      },
      {
       "output_type": "stream",
       "stream": "stdout",
       "text": [
        "\n",
        "Starting gDPM: beam 1, cp 84, gpu 0\n",
        "Finishing: beam 1, cp 84, gpu 0\n",
        "MC Chunk Calc. Time:9.23101115227s (Tot time:780.359543085)"
       ]
      },
      {
       "output_type": "stream",
       "stream": "stdout",
       "text": [
        "\n",
        "Starting gDPM: beam 1, cp 85, gpu 0\n",
        "Finishing: beam 1, cp 85, gpu 0\n",
        "MC Chunk Calc. Time:9.14726686478s (Tot time:789.508857012)"
       ]
      },
      {
       "output_type": "stream",
       "stream": "stdout",
       "text": [
        "\n",
        "Starting gDPM: beam 1, cp 86, gpu 0\n",
        "Finishing: beam 1, cp 86, gpu 0\n",
        "MC Chunk Calc. Time:9.23422694206s (Tot time:798.746990919)"
       ]
      },
      {
       "output_type": "stream",
       "stream": "stdout",
       "text": [
        "\n",
        "Starting gDPM: beam 1, cp 87, gpu 0\n",
        "Finishing: beam 1, cp 87, gpu 0\n",
        "MC Chunk Calc. Time:8.96937084198s (Tot time:807.718389988)"
       ]
      },
      {
       "output_type": "stream",
       "stream": "stdout",
       "text": [
        "\n",
        "Starting gDPM: beam 1, cp 88, gpu 0\n",
        "Finishing: beam 1, cp 88, gpu 0\n",
        "MC Chunk Calc. Time:8.71393990517s (Tot time:816.433331013)"
       ]
      },
      {
       "output_type": "stream",
       "stream": "stdout",
       "text": [
        "\n",
        "Starting gDPM: beam 1, cp 89, gpu 0\n",
        "Finishing: beam 1, cp 89, gpu 0\n",
        "MC Chunk Calc. Time:9.48165607452s (Tot time:825.920413017)"
       ]
      },
      {
       "output_type": "stream",
       "stream": "stdout",
       "text": [
        "\n",
        "Starting gDPM: beam 1, cp 90, gpu 0\n",
        "Finishing: beam 1, cp 90, gpu 0\n",
        "MC Chunk Calc. Time:8.86393499374s (Tot time:834.787451982)"
       ]
      },
      {
       "output_type": "stream",
       "stream": "stdout",
       "text": [
        "\n",
        "Starting gDPM: beam 1, cp 91, gpu 0\n",
        "Finishing: beam 1, cp 91, gpu 0\n",
        "MC Chunk Calc. Time:10.2531349659s (Tot time:845.042320967)"
       ]
      },
      {
       "output_type": "stream",
       "stream": "stdout",
       "text": [
        "\n",
        "Starting gDPM: beam 1, cp 92, gpu 0\n",
        "Finishing: beam 1, cp 92, gpu 0\n",
        "MC Chunk Calc. Time:8.51753497124s (Tot time:853.560863018)"
       ]
      },
      {
       "output_type": "stream",
       "stream": "stdout",
       "text": [
        "\n",
        "Starting gDPM: beam 1, cp 93, gpu 0\n",
        "Finishing: beam 1, cp 93, gpu 0\n",
        "MC Chunk Calc. Time:9.66316699982s (Tot time:863.230968952)"
       ]
      },
      {
       "output_type": "stream",
       "stream": "stdout",
       "text": [
        "\n",
        "Starting gDPM: beam 1, cp 94, gpu 0\n",
        "Finishing: beam 1, cp 94, gpu 0\n",
        "MC Chunk Calc. Time:9.00180697441s (Tot time:872.234349966)"
       ]
      },
      {
       "output_type": "stream",
       "stream": "stdout",
       "text": [
        "\n",
        "Starting gDPM: beam 1, cp 95, gpu 0\n",
        "Finishing: beam 1, cp 95, gpu 0\n",
        "MC Chunk Calc. Time:9.14894199371s (Tot time:881.385554075)"
       ]
      },
      {
       "output_type": "stream",
       "stream": "stdout",
       "text": [
        "\n",
        "Starting gDPM: beam 1, cp 96, gpu 0\n",
        "Finishing: beam 1, cp 96, gpu 0\n",
        "MC Chunk Calc. Time:11.1469919682s (Tot time:892.53667593)"
       ]
      },
      {
       "output_type": "stream",
       "stream": "stdout",
       "text": [
        "\n",
        "Starting gDPM: beam 1, cp 97, gpu 0\n",
        "Finishing: beam 1, cp 97, gpu 0\n",
        "MC Chunk Calc. Time:8.54536700249s (Tot time:901.086066961)"
       ]
      },
      {
       "output_type": "stream",
       "stream": "stdout",
       "text": [
        "\n",
        "Starting gDPM: beam 1, cp 98, gpu 0\n",
        "Finishing: beam 1, cp 98, gpu 0\n",
        "MC Chunk Calc. Time:8.56449890137s (Tot time:909.652146101)"
       ]
      },
      {
       "output_type": "stream",
       "stream": "stdout",
       "text": [
        "\n",
        "Starting gDPM: beam 1, cp 99, gpu 0\n",
        "Finishing: beam 1, cp 99, gpu 0\n",
        "MC Chunk Calc. Time:8.83993196487s (Tot time:918.493225098)"
       ]
      },
      {
       "output_type": "stream",
       "stream": "stdout",
       "text": [
        "\n",
        "Starting gDPM: beam 1, cp 100, gpu 0\n",
        "Finishing: beam 1, cp 100, gpu 0\n",
        "MC Chunk Calc. Time:9.69650101662s (Tot time:928.194828033)"
       ]
      },
      {
       "output_type": "stream",
       "stream": "stdout",
       "text": [
        "\n",
        "Starting gDPM: beam 1, cp 101, gpu 0\n",
        "Finishing: beam 1, cp 101, gpu 0\n",
        "MC Chunk Calc. Time:9.85524702072s (Tot time:938.051053047)"
       ]
      },
      {
       "output_type": "stream",
       "stream": "stdout",
       "text": [
        "\n",
        "Starting gDPM: beam 1, cp 102, gpu 0\n",
        "Finishing: beam 1, cp 102, gpu 0\n",
        "MC Chunk Calc. Time:9.24240398407s (Tot time:947.29568696)"
       ]
      },
      {
       "output_type": "stream",
       "stream": "stdout",
       "text": [
        "\n",
        "Starting gDPM: beam 1, cp 103, gpu 0\n",
        "Finishing: beam 1, cp 103, gpu 0\n",
        "MC Chunk Calc. Time:9.64677596092s (Tot time:956.943651915)"
       ]
      },
      {
       "output_type": "stream",
       "stream": "stdout",
       "text": [
        "\n",
        "Starting gDPM: beam 1, cp 104, gpu 0\n",
        "Finishing: beam 1, cp 104, gpu 0\n",
        "MC Chunk Calc. Time:9.35045409203s (Tot time:966.295222998)"
       ]
      },
      {
       "output_type": "stream",
       "stream": "stdout",
       "text": [
        "\n",
        "Starting gDPM: beam 1, cp 105, gpu 0\n",
        "Finishing: beam 1, cp 105, gpu 0\n",
        "MC Chunk Calc. Time:9.91251707077s (Tot time:976.209176064)"
       ]
      },
      {
       "output_type": "stream",
       "stream": "stdout",
       "text": [
        "\n",
        "Starting gDPM: beam 1, cp 106, gpu 0\n",
        "Finishing: beam 1, cp 106, gpu 0\n",
        "MC Chunk Calc. Time:9.80387306213s (Tot time:986.017819881)"
       ]
      },
      {
       "output_type": "stream",
       "stream": "stdout",
       "text": [
        "\n",
        "Starting gDPM: beam 1, cp 107, gpu 0\n",
        "Finishing: beam 1, cp 107, gpu 0\n",
        "MC Chunk Calc. Time:9.17553710938s (Tot time:995.197439909)"
       ]
      },
      {
       "output_type": "stream",
       "stream": "stdout",
       "text": [
        "\n",
        "Starting gDPM: beam 1, cp 108, gpu 0\n",
        "Finishing: beam 1, cp 108, gpu 0\n",
        "MC Chunk Calc. Time:9.3444890976s (Tot time:1004.54768801)"
       ]
      },
      {
       "output_type": "stream",
       "stream": "stdout",
       "text": [
        "\n",
        "Starting gDPM: beam 1, cp 109, gpu 0\n",
        "Finishing: beam 1, cp 109, gpu 0\n",
        "MC Chunk Calc. Time:10.1501159668s (Tot time:1014.69986391)"
       ]
      },
      {
       "output_type": "stream",
       "stream": "stdout",
       "text": [
        "\n",
        "Starting gDPM: beam 1, cp 110, gpu 0\n",
        "Finishing: beam 1, cp 110, gpu 0\n",
        "MC Chunk Calc. Time:9.21184206009s (Tot time:1023.91327405)"
       ]
      },
      {
       "output_type": "stream",
       "stream": "stdout",
       "text": [
        "\n",
        "Starting gDPM: beam 1, cp 111, gpu 0\n",
        "Finishing: beam 1, cp 111, gpu 0\n",
        "MC Chunk Calc. Time:8.98799705505s (Tot time:1032.90585589)"
       ]
      },
      {
       "output_type": "stream",
       "stream": "stdout",
       "text": [
        "\n",
        "Starting gDPM: beam 1, cp 112, gpu 0\n",
        "Finishing: beam 1, cp 112, gpu 0\n",
        "MC Chunk Calc. Time:8.50553107262s (Tot time:1041.41587496)"
       ]
      },
      {
       "output_type": "stream",
       "stream": "stdout",
       "text": [
        "\n",
        "Starting gDPM: beam 1, cp 113, gpu 0\n",
        "Finishing: beam 1, cp 113, gpu 0\n",
        "MC Chunk Calc. Time:8.99426698685s (Tot time:1050.41192102)"
       ]
      },
      {
       "output_type": "stream",
       "stream": "stdout",
       "text": [
        "\n",
        "Starting gDPM: beam 1, cp 114, gpu 0\n",
        "Finishing: beam 1, cp 114, gpu 0\n",
        "MC Chunk Calc. Time:9.02538204193s (Tot time:1059.43897104)"
       ]
      },
      {
       "output_type": "stream",
       "stream": "stdout",
       "text": [
        "\n",
        "Starting gDPM: beam 1, cp 115, gpu 0\n",
        "Finishing: beam 1, cp 115, gpu 0\n",
        "MC Chunk Calc. Time:10.9376988411s (Tot time:1070.37858796)"
       ]
      },
      {
       "output_type": "stream",
       "stream": "stdout",
       "text": [
        "\n",
        "Starting gDPM: beam 1, cp 116, gpu 0\n",
        "Finishing: beam 1, cp 116, gpu 0\n",
        "MC Chunk Calc. Time:8.82891893387s (Tot time:1079.20947289)"
       ]
      },
      {
       "output_type": "stream",
       "stream": "stdout",
       "text": [
        "\n",
        "Starting gDPM: beam 1, cp 117, gpu 0\n",
        "Finishing: beam 1, cp 117, gpu 0\n",
        "MC Chunk Calc. Time:8.91359710693s (Tot time:1088.12906194)"
       ]
      },
      {
       "output_type": "stream",
       "stream": "stdout",
       "text": [
        "\n",
        "Starting gDPM: beam 1, cp 118, gpu 0\n",
        "Finishing: beam 1, cp 118, gpu 0\n",
        "MC Chunk Calc. Time:8.88478398323s (Tot time:1097.0168829)"
       ]
      },
      {
       "output_type": "stream",
       "stream": "stdout",
       "text": [
        "\n",
        "Starting gDPM: beam 1, cp 119, gpu 0\n",
        "Finishing: beam 1, cp 119, gpu 0\n",
        "MC Chunk Calc. Time:9.71637988091s (Tot time:1106.73425698)"
       ]
      },
      {
       "output_type": "stream",
       "stream": "stdout",
       "text": [
        "\n",
        "Starting gDPM: beam 1, cp 120, gpu 0\n",
        "Finishing: beam 1, cp 120, gpu 0\n",
        "MC Chunk Calc. Time:8.8737859726s (Tot time:1115.60912895)"
       ]
      },
      {
       "output_type": "stream",
       "stream": "stdout",
       "text": [
        "\n",
        "Starting gDPM: beam 1, cp 121, gpu 0\n",
        "Finishing: beam 1, cp 121, gpu 0\n",
        "MC Chunk Calc. Time:8.98489308357s (Tot time:1124.59778404)"
       ]
      },
      {
       "output_type": "stream",
       "stream": "stdout",
       "text": [
        "\n",
        "Starting gDPM: beam 1, cp 122, gpu 0\n",
        "Finishing: beam 1, cp 122, gpu 0\n",
        "MC Chunk Calc. Time:8.97194194794s (Tot time:1133.57535005)"
       ]
      },
      {
       "output_type": "stream",
       "stream": "stdout",
       "text": [
        "\n",
        "Starting gDPM: beam 1, cp 123, gpu 0\n",
        "Finishing: beam 1, cp 123, gpu 0\n",
        "MC Chunk Calc. Time:9.17849612236s (Tot time:1142.75488997)"
       ]
      },
      {
       "output_type": "stream",
       "stream": "stdout",
       "text": [
        "\n",
        "Starting gDPM: beam 1, cp 124, gpu 0\n",
        "Finishing: beam 1, cp 124, gpu 0\n",
        "MC Chunk Calc. Time:8.75019812584s (Tot time:1151.51092505)"
       ]
      },
      {
       "output_type": "stream",
       "stream": "stdout",
       "text": [
        "\n",
        "Starting gDPM: beam 1, cp 125, gpu 0\n",
        "Finishing: beam 1, cp 125, gpu 0\n",
        "MC Chunk Calc. Time:10.1197450161s (Tot time:1161.63280892)"
       ]
      },
      {
       "output_type": "stream",
       "stream": "stdout",
       "text": [
        "\n",
        "Starting gDPM: beam 1, cp 126, gpu 0\n",
        "Finishing: beam 1, cp 126, gpu 0\n",
        "MC Chunk Calc. Time:8.51199698448s (Tot time:1170.14947009)"
       ]
      },
      {
       "output_type": "stream",
       "stream": "stdout",
       "text": [
        "\n",
        "Starting gDPM: beam 1, cp 127, gpu 0\n",
        "Finishing: beam 1, cp 127, gpu 0\n",
        "MC Chunk Calc. Time:8.54810285568s (Tot time:1178.70296192)"
       ]
      },
      {
       "output_type": "stream",
       "stream": "stdout",
       "text": [
        "\n",
        "Starting gDPM: beam 1, cp 128, gpu 0\n",
        "Finishing: beam 1, cp 128, gpu 0\n",
        "MC Chunk Calc. Time:8.54842090607s (Tot time:1187.25377393)"
       ]
      },
      {
       "output_type": "stream",
       "stream": "stdout",
       "text": [
        "\n",
        "Starting gDPM: beam 1, cp 129, gpu 0\n",
        "Finishing: beam 1, cp 129, gpu 0\n",
        "MC Chunk Calc. Time:10.8416419029s (Tot time:1198.10101199)"
       ]
      },
      {
       "output_type": "stream",
       "stream": "stdout",
       "text": [
        "\n",
        "Starting gDPM: beam 1, cp 130, gpu 0\n",
        "Finishing: beam 1, cp 130, gpu 0\n",
        "MC Chunk Calc. Time:8.89445281029s (Tot time:1206.99758196)"
       ]
      },
      {
       "output_type": "stream",
       "stream": "stdout",
       "text": [
        "\n",
        "Starting gDPM: beam 1, cp 131, gpu 0\n",
        "Finishing: beam 1, cp 131, gpu 0\n",
        "MC Chunk Calc. Time:8.7859108448s (Tot time:1215.78927588)"
       ]
      },
      {
       "output_type": "stream",
       "stream": "stdout",
       "text": [
        "\n",
        "Starting gDPM: beam 1, cp 132, gpu 0\n",
        "Finishing: beam 1, cp 132, gpu 0\n",
        "MC Chunk Calc. Time:9.65197014809s (Tot time:1225.44403887)"
       ]
      },
      {
       "output_type": "stream",
       "stream": "stdout",
       "text": [
        "\n",
        "Starting gDPM: beam 1, cp 133, gpu 0\n",
        "Finishing: beam 1, cp 133, gpu 0\n",
        "MC Chunk Calc. Time:9.29036188126s (Tot time:1234.73593497)"
       ]
      },
      {
       "output_type": "stream",
       "stream": "stdout",
       "text": [
        "\n",
        "Starting gDPM: beam 1, cp 134, gpu 0\n",
        "Finishing: beam 1, cp 134, gpu 0\n",
        "MC Chunk Calc. Time:10.5810699463s (Tot time:1245.3186121)"
       ]
      },
      {
       "output_type": "stream",
       "stream": "stdout",
       "text": [
        "\n",
        "Starting gDPM: beam 1, cp 135, gpu 0\n",
        "Finishing: beam 1, cp 135, gpu 0\n",
        "MC Chunk Calc. Time:9.28523397446s (Tot time:1254.60563898)"
       ]
      },
      {
       "output_type": "stream",
       "stream": "stdout",
       "text": [
        "\n",
        "Starting gDPM: beam 1, cp 136, gpu 0\n",
        "Finishing: beam 1, cp 136, gpu 0\n",
        "MC Chunk Calc. Time:8.48903989792s (Tot time:1263.09763098)"
       ]
      },
      {
       "output_type": "stream",
       "stream": "stdout",
       "text": [
        "\n",
        "Starting gDPM: beam 1, cp 137, gpu 0\n",
        "Finishing: beam 1, cp 137, gpu 0\n",
        "MC Chunk Calc. Time:8.84462213516s (Tot time:1271.94725394)"
       ]
      },
      {
       "output_type": "stream",
       "stream": "stdout",
       "text": [
        "\n",
        "Starting gDPM: beam 1, cp 138, gpu 0\n",
        "Finishing: beam 1, cp 138, gpu 0\n",
        "MC Chunk Calc. Time:8.6539068222s (Tot time:1280.60266399)"
       ]
      },
      {
       "output_type": "stream",
       "stream": "stdout",
       "text": [
        "\n",
        "Starting gDPM: beam 1, cp 139, gpu 0\n",
        "Finishing: beam 1, cp 139, gpu 0\n",
        "MC Chunk Calc. Time:10.5553119183s (Tot time:1291.15973496)"
       ]
      },
      {
       "output_type": "stream",
       "stream": "stdout",
       "text": [
        "\n",
        "Starting gDPM: beam 1, cp 140, gpu 0\n",
        "Finishing: beam 1, cp 140, gpu 0\n",
        "MC Chunk Calc. Time:9.71620893478s (Tot time:1300.87786102)"
       ]
      },
      {
       "output_type": "stream",
       "stream": "stdout",
       "text": [
        "\n",
        "Starting gDPM: beam 1, cp 141, gpu 0\n",
        "Finishing: beam 1, cp 141, gpu 0\n",
        "MC Chunk Calc. Time:10.9160079956s (Tot time:1311.80033493)"
       ]
      },
      {
       "output_type": "stream",
       "stream": "stdout",
       "text": [
        "\n",
        "Starting gDPM: beam 1, cp 142, gpu 0\n",
        "Finishing: beam 1, cp 142, gpu 0\n",
        "MC Chunk Calc. Time:9.2773039341s (Tot time:1321.07912707)"
       ]
      },
      {
       "output_type": "stream",
       "stream": "stdout",
       "text": [
        "\n",
        "Starting gDPM: beam 1, cp 143, gpu 0\n",
        "Finishing: beam 1, cp 143, gpu 0\n",
        "MC Chunk Calc. Time:9.05110216141s (Tot time:1330.13195109)"
       ]
      },
      {
       "output_type": "stream",
       "stream": "stdout",
       "text": [
        "\n",
        "Starting gDPM: beam 1, cp 144, gpu 0\n",
        "Finishing: beam 1, cp 144, gpu 0\n",
        "MC Chunk Calc. Time:9.22310113907s (Tot time:1339.3567009)"
       ]
      },
      {
       "output_type": "stream",
       "stream": "stdout",
       "text": [
        "\n",
        "Starting gDPM: beam 1, cp 145, gpu 0\n",
        "Finishing: beam 1, cp 145, gpu 0\n",
        "MC Chunk Calc. Time:9.22567081451s (Tot time:1348.58821797)"
       ]
      },
      {
       "output_type": "stream",
       "stream": "stdout",
       "text": [
        "\n",
        "Starting gDPM: beam 1, cp 146, gpu 0\n",
        "Finishing: beam 1, cp 146, gpu 0\n",
        "MC Chunk Calc. Time:9.32627487183s (Tot time:1357.91717196)"
       ]
      },
      {
       "output_type": "stream",
       "stream": "stdout",
       "text": [
        "\n",
        "Starting gDPM: beam 1, cp 147, gpu 0\n",
        "Finishing: beam 1, cp 147, gpu 0\n",
        "MC Chunk Calc. Time:9.31635808945s (Tot time:1367.23943305)"
       ]
      },
      {
       "output_type": "stream",
       "stream": "stdout",
       "text": [
        "\n",
        "Starting gDPM: beam 1, cp 148, gpu 0\n",
        "Finishing: beam 1, cp 148, gpu 0\n",
        "MC Chunk Calc. Time:10.1898579597s (Tot time:1377.43027592)"
       ]
      },
      {
       "output_type": "stream",
       "stream": "stdout",
       "text": [
        "\n",
        "Starting gDPM: beam 1, cp 149, gpu 0\n",
        "Finishing: beam 1, cp 149, gpu 0\n",
        "MC Chunk Calc. Time:9.46728110313s (Tot time:1386.89904189)"
       ]
      },
      {
       "output_type": "stream",
       "stream": "stdout",
       "text": [
        "\n",
        "Starting gDPM: beam 1, cp 150, gpu 0\n",
        "Finishing: beam 1, cp 150, gpu 0\n",
        "MC Chunk Calc. Time:8.22984194756s (Tot time:1395.13061309)"
       ]
      },
      {
       "output_type": "stream",
       "stream": "stdout",
       "text": [
        "\n",
        "Starting gDPM: beam 1, cp 151, gpu 0\n",
        "Finishing: beam 1, cp 151, gpu 0\n",
        "MC Chunk Calc. Time:9.66863203049s (Tot time:1404.80075192)"
       ]
      },
      {
       "output_type": "stream",
       "stream": "stdout",
       "text": [
        "\n",
        "Starting gDPM: beam 1, cp 152, gpu 0\n",
        "Finishing: beam 1, cp 152, gpu 0\n",
        "MC Chunk Calc. Time:9.67065906525s (Tot time:1414.47323704)"
       ]
      },
      {
       "output_type": "stream",
       "stream": "stdout",
       "text": [
        "\n",
        "Starting gDPM: beam 1, cp 153, gpu 0\n",
        "Finishing: beam 1, cp 153, gpu 0\n",
        "MC Chunk Calc. Time:9.36781191826s (Tot time:1423.84668899)"
       ]
      },
      {
       "output_type": "stream",
       "stream": "stdout",
       "text": [
        "\n",
        "Starting gDPM: beam 1, cp 154, gpu 0\n",
        "Finishing: beam 1, cp 154, gpu 0\n",
        "MC Chunk Calc. Time:10.6423671246s (Tot time:1434.49054289)"
       ]
      },
      {
       "output_type": "stream",
       "stream": "stdout",
       "text": [
        "\n",
        "Starting gDPM: beam 1, cp 155, gpu 0\n",
        "Finishing: beam 1, cp 155, gpu 0\n",
        "MC Chunk Calc. Time:9.35002303123s (Tot time:1443.8436451)"
       ]
      },
      {
       "output_type": "stream",
       "stream": "stdout",
       "text": [
        "\n",
        "Starting gDPM: beam 1, cp 156, gpu 0\n",
        "Finishing: beam 1, cp 156, gpu 0\n",
        "MC Chunk Calc. Time:9.84970498085s (Tot time:1453.6945951)"
       ]
      },
      {
       "output_type": "stream",
       "stream": "stdout",
       "text": [
        "\n",
        "Starting gDPM: beam 1, cp 157, gpu 0\n",
        "Finishing: beam 1, cp 157, gpu 0\n",
        "MC Chunk Calc. Time:9.31095480919s (Tot time:1463.0077579)"
       ]
      },
      {
       "output_type": "stream",
       "stream": "stdout",
       "text": [
        "\n",
        "Starting gDPM: beam 1, cp 158, gpu 0\n",
        "Finishing: beam 1, cp 158, gpu 0\n",
        "MC Chunk Calc. Time:9.13699603081s (Tot time:1472.14651299)"
       ]
      },
      {
       "output_type": "stream",
       "stream": "stdout",
       "text": [
        "\n",
        "Starting gDPM: beam 1, cp 159, gpu 0\n",
        "Finishing: beam 1, cp 159, gpu 0\n",
        "MC Chunk Calc. Time:9.92317509651s (Tot time:1482.07243609)"
       ]
      },
      {
       "output_type": "stream",
       "stream": "stdout",
       "text": [
        "\n",
        "Starting gDPM: beam 1, cp 160, gpu 0\n",
        "Finishing: beam 1, cp 160, gpu 0\n",
        "MC Chunk Calc. Time:8.75342917442s (Tot time:1490.82701707)"
       ]
      },
      {
       "output_type": "stream",
       "stream": "stdout",
       "text": [
        "\n",
        "Starting gDPM: beam 1, cp 161, gpu 0\n",
        "Finishing: beam 1, cp 161, gpu 0\n",
        "MC Chunk Calc. Time:10.2702579498s (Tot time:1501.09868598)"
       ]
      },
      {
       "output_type": "stream",
       "stream": "stdout",
       "text": [
        "\n",
        "Starting gDPM: beam 1, cp 162, gpu 0\n",
        "Finishing: beam 1, cp 162, gpu 0\n",
        "MC Chunk Calc. Time:8.95062804222s (Tot time:1510.05112696)"
       ]
      },
      {
       "output_type": "stream",
       "stream": "stdout",
       "text": [
        "\n",
        "Starting gDPM: beam 1, cp 163, gpu 0\n",
        "Finishing: beam 1, cp 163, gpu 0\n",
        "MC Chunk Calc. Time:8.69370889664s (Tot time:1518.74840903)"
       ]
      },
      {
       "output_type": "stream",
       "stream": "stdout",
       "text": [
        "\n",
        "Starting gDPM: beam 1, cp 164, gpu 0\n",
        "Finishing: beam 1, cp 164, gpu 0\n",
        "MC Chunk Calc. Time:9.44924712181s (Tot time:1528.19866991)"
       ]
      },
      {
       "output_type": "stream",
       "stream": "stdout",
       "text": [
        "\n",
        "Starting gDPM: beam 1, cp 165, gpu 0\n",
        "Finishing: beam 1, cp 165, gpu 0\n",
        "MC Chunk Calc. Time:9.79332709312s (Tot time:1537.99317503)"
       ]
      },
      {
       "output_type": "stream",
       "stream": "stdout",
       "text": [
        "\n",
        "Starting gDPM: beam 1, cp 166, gpu 0\n",
        "Finishing: beam 1, cp 166, gpu 0\n",
        "MC Chunk Calc. Time:9.33800411224s (Tot time:1547.33649087)"
       ]
      },
      {
       "output_type": "stream",
       "stream": "stdout",
       "text": [
        "\n",
        "Starting gDPM: beam 1, cp 167, gpu 0\n",
        "Finishing: beam 1, cp 167, gpu 0\n",
        "MC Chunk Calc. Time:9.67867279053s (Tot time:1557.01606202)"
       ]
      },
      {
       "output_type": "stream",
       "stream": "stdout",
       "text": [
        "\n",
        "Starting gDPM: beam 1, cp 168, gpu 0\n",
        "Finishing: beam 1, cp 168, gpu 0\n",
        "MC Chunk Calc. Time:9.0633251667s (Tot time:1566.08054996)"
       ]
      },
      {
       "output_type": "stream",
       "stream": "stdout",
       "text": [
        "\n",
        "Starting gDPM: beam 1, cp 169, gpu 0\n",
        "Finishing: beam 1, cp 169, gpu 0\n",
        "MC Chunk Calc. Time:8.96760106087s (Tot time:1575.05363393)"
       ]
      },
      {
       "output_type": "stream",
       "stream": "stdout",
       "text": [
        "\n",
        "Starting gDPM: beam 1, cp 170, gpu 0\n",
        "Finishing: beam 1, cp 170, gpu 0\n",
        "MC Chunk Calc. Time:9.04742789268s (Tot time:1584.10377598)"
       ]
      },
      {
       "output_type": "stream",
       "stream": "stdout",
       "text": [
        "\n",
        "Starting gDPM: beam 1, cp 171, gpu 0\n",
        "Finishing: beam 1, cp 171, gpu 0\n",
        "MC Chunk Calc. Time:8.80816316605s (Tot time:1592.9136219)"
       ]
      },
      {
       "output_type": "stream",
       "stream": "stdout",
       "text": [
        "\n",
        "Starting gDPM: beam 1, cp 172, gpu 0\n",
        "Finishing: beam 1, cp 172, gpu 0\n",
        "MC Chunk Calc. Time:8.92129993439s (Tot time:1601.84026289)"
       ]
      },
      {
       "output_type": "stream",
       "stream": "stdout",
       "text": [
        "\n",
        "Starting gDPM: beam 1, cp 173, gpu 0\n",
        "Finishing: beam 1, cp 173, gpu 0\n",
        "MC Chunk Calc. Time:8.83941292763s (Tot time:1610.68119001)"
       ]
      },
      {
       "output_type": "stream",
       "stream": "stdout",
       "text": [
        "\n",
        "Starting gDPM: beam 1, cp 174, gpu 0\n",
        "Finishing: beam 1, cp 174, gpu 0\n",
        "MC Chunk Calc. Time:9.13213801384s (Tot time:1619.81900406)"
       ]
      },
      {
       "output_type": "stream",
       "stream": "stdout",
       "text": [
        "\n",
        "Starting gDPM: beam 1, cp 175, gpu 0\n",
        "Finishing: beam 1, cp 175, gpu 0\n",
        "MC Chunk Calc. Time:9.01193594933s (Tot time:1628.831779)"
       ]
      },
      {
       "output_type": "stream",
       "stream": "stdout",
       "text": [
        "\n",
        "Starting gDPM: beam 1, cp 176, gpu 0\n",
        "Finishing: beam 1, cp 176, gpu 0\n",
        "MC Chunk Calc. Time:9.12543487549s (Tot time:1637.95839095)"
       ]
      },
      {
       "output_type": "stream",
       "stream": "stdout",
       "text": [
        "\n",
        "Starting gDPM: beam 1, cp 177, gpu 0\n",
        "Finishing: beam 1, cp 177, gpu 0\n",
        "MC Chunk Calc. Time:8.95271706581s (Tot time:1646.91310906)"
       ]
      },
      {
       "output_type": "stream",
       "stream": "stdout",
       "text": [
        "\n",
        "Starting gDPM: beam 2, cp 0, gpu 0\n",
        "Finishing: beam 2, cp 0, gpu 0\n",
        "MC Chunk Calc. Time:9.07729411125s (Tot time:1655.99892187)"
       ]
      },
      {
       "output_type": "stream",
       "stream": "stdout",
       "text": [
        "\n",
        "Starting gDPM: beam 2, cp 1, gpu 0\n",
        "Finishing: beam 2, cp 1, gpu 0\n",
        "MC Chunk Calc. Time:9.21836209297s (Tot time:1665.21903896)"
       ]
      },
      {
       "output_type": "stream",
       "stream": "stdout",
       "text": [
        "\n",
        "Starting gDPM: beam 2, cp 2, gpu 0\n",
        "Finishing: beam 2, cp 2, gpu 0\n",
        "MC Chunk Calc. Time:8.92023992538s (Tot time:1674.14117002)"
       ]
      },
      {
       "output_type": "stream",
       "stream": "stdout",
       "text": [
        "\n",
        "Starting gDPM: beam 2, cp 3, gpu 0\n",
        "Finishing: beam 2, cp 3, gpu 0\n",
        "MC Chunk Calc. Time:9.24590706825s (Tot time:1683.39061999)"
       ]
      },
      {
       "output_type": "stream",
       "stream": "stdout",
       "text": [
        "\n",
        "Starting gDPM: beam 2, cp 4, gpu 0\n",
        "Finishing: beam 2, cp 4, gpu 0\n",
        "MC Chunk Calc. Time:8.7001311779s (Tot time:1692.09165192)"
       ]
      },
      {
       "output_type": "stream",
       "stream": "stdout",
       "text": [
        "\n",
        "Starting gDPM: beam 2, cp 5, gpu 0\n",
        "Finishing: beam 2, cp 5, gpu 0\n",
        "MC Chunk Calc. Time:8.60093688965s (Tot time:1700.69365001)"
       ]
      },
      {
       "output_type": "stream",
       "stream": "stdout",
       "text": [
        "\n",
        "Starting gDPM: beam 2, cp 6, gpu 0\n",
        "Finishing: beam 2, cp 6, gpu 0\n",
        "MC Chunk Calc. Time:8.94548010826s (Tot time:1709.64425206)"
       ]
      },
      {
       "output_type": "stream",
       "stream": "stdout",
       "text": [
        "\n",
        "Starting gDPM: beam 2, cp 7, gpu 0\n",
        "Finishing: beam 2, cp 7, gpu 0\n",
        "MC Chunk Calc. Time:8.80044484138s (Tot time:1718.44701099)"
       ]
      },
      {
       "output_type": "stream",
       "stream": "stdout",
       "text": [
        "\n",
        "Starting gDPM: beam 2, cp 8, gpu 0\n",
        "Finishing: beam 2, cp 8, gpu 0\n",
        "MC Chunk Calc. Time:8.62440896034s (Tot time:1727.07308507)"
       ]
      },
      {
       "output_type": "stream",
       "stream": "stdout",
       "text": [
        "\n",
        "Starting gDPM: beam 2, cp 9, gpu 0\n",
        "Finishing: beam 2, cp 9, gpu 0\n",
        "MC Chunk Calc. Time:8.55168795586s (Tot time:1735.62891102)"
       ]
      },
      {
       "output_type": "stream",
       "stream": "stdout",
       "text": [
        "\n",
        "Starting gDPM: beam 2, cp 10, gpu 0\n",
        "Finishing: beam 2, cp 10, gpu 0\n",
        "MC Chunk Calc. Time:8.79072904587s (Tot time:1744.42545009)"
       ]
      },
      {
       "output_type": "stream",
       "stream": "stdout",
       "text": [
        "\n",
        "Starting gDPM: beam 2, cp 11, gpu 0\n",
        "Finishing: beam 2, cp 11, gpu 0\n",
        "MC Chunk Calc. Time:9.19717502594s (Tot time:1753.62654209)"
       ]
      },
      {
       "output_type": "stream",
       "stream": "stdout",
       "text": [
        "\n",
        "Starting gDPM: beam 2, cp 12, gpu 0\n",
        "Finishing: beam 2, cp 12, gpu 0\n",
        "MC Chunk Calc. Time:8.65500402451s (Tot time:1762.28291106)"
       ]
      },
      {
       "output_type": "stream",
       "stream": "stdout",
       "text": [
        "\n",
        "Starting gDPM: beam 2, cp 13, gpu 0\n",
        "Finishing: beam 2, cp 13, gpu 0\n",
        "MC Chunk Calc. Time:8.79708385468s (Tot time:1771.08172488)"
       ]
      },
      {
       "output_type": "stream",
       "stream": "stdout",
       "text": [
        "\n",
        "Starting gDPM: beam 2, cp 14, gpu 0\n",
        "Finishing: beam 2, cp 14, gpu 0\n",
        "MC Chunk Calc. Time:9.04108095169s (Tot time:1780.12689495)"
       ]
      },
      {
       "output_type": "stream",
       "stream": "stdout",
       "text": [
        "\n",
        "Starting gDPM: beam 2, cp 15, gpu 0\n",
        "Finishing: beam 2, cp 15, gpu 0\n",
        "MC Chunk Calc. Time:8.56860899925s (Tot time:1788.69697189)"
       ]
      },
      {
       "output_type": "stream",
       "stream": "stdout",
       "text": [
        "\n",
        "Starting gDPM: beam 2, cp 16, gpu 0\n",
        "Finishing: beam 2, cp 16, gpu 0\n",
        "MC Chunk Calc. Time:8.78160190582s (Tot time:1797.48147702)"
       ]
      },
      {
       "output_type": "stream",
       "stream": "stdout",
       "text": [
        "\n",
        "Starting gDPM: beam 2, cp 17, gpu 0\n",
        "Finishing: beam 2, cp 17, gpu 0\n",
        "MC Chunk Calc. Time:8.64291906357s (Tot time:1806.12987089)"
       ]
      },
      {
       "output_type": "stream",
       "stream": "stdout",
       "text": [
        "\n",
        "Starting gDPM: beam 2, cp 18, gpu 0\n",
        "Finishing: beam 2, cp 18, gpu 0\n",
        "MC Chunk Calc. Time:8.74024486542s (Tot time:1814.87362504)"
       ]
      },
      {
       "output_type": "stream",
       "stream": "stdout",
       "text": [
        "\n",
        "Starting gDPM: beam 2, cp 19, gpu 0\n",
        "Finishing: beam 2, cp 19, gpu 0\n",
        "MC Chunk Calc. Time:8.85451316833s (Tot time:1823.73389387)"
       ]
      },
      {
       "output_type": "stream",
       "stream": "stdout",
       "text": [
        "\n",
        "Starting gDPM: beam 2, cp 20, gpu 0\n",
        "Finishing: beam 2, cp 20, gpu 0\n",
        "MC Chunk Calc. Time:9.25371694565s (Tot time:1832.99151707)"
       ]
      },
      {
       "output_type": "stream",
       "stream": "stdout",
       "text": [
        "\n",
        "Starting gDPM: beam 2, cp 21, gpu 0\n",
        "Finishing: beam 2, cp 21, gpu 0\n",
        "MC Chunk Calc. Time:9.49669289589s (Tot time:1842.48972702)"
       ]
      },
      {
       "output_type": "stream",
       "stream": "stdout",
       "text": [
        "\n",
        "Starting gDPM: beam 2, cp 22, gpu 0\n",
        "Finishing: beam 2, cp 22, gpu 0\n",
        "MC Chunk Calc. Time:9.40704011917s (Tot time:1851.90013909)"
       ]
      },
      {
       "output_type": "stream",
       "stream": "stdout",
       "text": [
        "\n",
        "Starting gDPM: beam 2, cp 23, gpu 0\n",
        "Finishing: beam 2, cp 23, gpu 0\n",
        "MC Chunk Calc. Time:9.00567817688s (Tot time:1860.90831089)"
       ]
      },
      {
       "output_type": "stream",
       "stream": "stdout",
       "text": [
        "\n",
        "Starting gDPM: beam 2, cp 24, gpu 0\n",
        "Finishing: beam 2, cp 24, gpu 0\n",
        "MC Chunk Calc. Time:8.82323408127s (Tot time:1869.7377789)"
       ]
      },
      {
       "output_type": "stream",
       "stream": "stdout",
       "text": [
        "\n",
        "Starting gDPM: beam 2, cp 25, gpu 0\n",
        "Finishing: beam 2, cp 25, gpu 0\n",
        "MC Chunk Calc. Time:9.7881770134s (Tot time:1879.53301096)"
       ]
      },
      {
       "output_type": "stream",
       "stream": "stdout",
       "text": [
        "\n",
        "Starting gDPM: beam 2, cp 26, gpu 0\n",
        "Finishing: beam 2, cp 26, gpu 0\n",
        "MC Chunk Calc. Time:9.4580848217s (Tot time:1888.99501109)"
       ]
      },
      {
       "output_type": "stream",
       "stream": "stdout",
       "text": [
        "\n",
        "Starting gDPM: beam 2, cp 27, gpu 0\n",
        "Finishing: beam 2, cp 27, gpu 0\n",
        "MC Chunk Calc. Time:8.82901620865s (Tot time:1897.82615709)"
       ]
      },
      {
       "output_type": "stream",
       "stream": "stdout",
       "text": [
        "\n",
        "Starting gDPM: beam 2, cp 28, gpu 0\n",
        "Finishing: beam 2, cp 28, gpu 0\n",
        "MC Chunk Calc. Time:9.14035511017s (Tot time:1906.96827507)"
       ]
      },
      {
       "output_type": "stream",
       "stream": "stdout",
       "text": [
        "\n",
        "Starting gDPM: beam 2, cp 29, gpu 0\n",
        "Finishing: beam 2, cp 29, gpu 0\n",
        "MC Chunk Calc. Time:8.59409809113s (Tot time:1915.567945)"
       ]
      },
      {
       "output_type": "stream",
       "stream": "stdout",
       "text": [
        "\n",
        "Starting gDPM: beam 2, cp 30, gpu 0\n",
        "Finishing: beam 2, cp 30, gpu 0\n",
        "MC Chunk Calc. Time:8.54745388031s (Tot time:1924.11983991)"
       ]
      },
      {
       "output_type": "stream",
       "stream": "stdout",
       "text": [
        "\n",
        "Starting gDPM: beam 2, cp 31, gpu 0\n",
        "Finishing: beam 2, cp 31, gpu 0\n",
        "MC Chunk Calc. Time:10.3336369991s (Tot time:1934.46127796)"
       ]
      },
      {
       "output_type": "stream",
       "stream": "stdout",
       "text": [
        "\n",
        "Starting gDPM: beam 2, cp 32, gpu 0\n",
        "Finishing: beam 2, cp 32, gpu 0\n",
        "MC Chunk Calc. Time:9.99178695679s (Tot time:1944.45643091)"
       ]
      },
      {
       "output_type": "stream",
       "stream": "stdout",
       "text": [
        "\n",
        "Starting gDPM: beam 2, cp 33, gpu 0\n",
        "Finishing: beam 2, cp 33, gpu 0\n",
        "MC Chunk Calc. Time:9.22526216507s (Tot time:1953.6879859)"
       ]
      },
      {
       "output_type": "stream",
       "stream": "stdout",
       "text": [
        "\n",
        "Starting gDPM: beam 2, cp 34, gpu 0\n",
        "Finishing: beam 2, cp 34, gpu 0\n",
        "MC Chunk Calc. Time:9.6840839386s (Tot time:1963.37364197)"
       ]
      },
      {
       "output_type": "stream",
       "stream": "stdout",
       "text": [
        "\n",
        "Starting gDPM: beam 2, cp 35, gpu 0\n",
        "Finishing: beam 2, cp 35, gpu 0\n",
        "MC Chunk Calc. Time:9.20277309418s (Tot time:1972.58267903)"
       ]
      },
      {
       "output_type": "stream",
       "stream": "stdout",
       "text": [
        "\n",
        "Starting gDPM: beam 2, cp 36, gpu 0\n",
        "Finishing: beam 2, cp 36, gpu 0\n",
        "MC Chunk Calc. Time:8.91452717781s (Tot time:1981.4981029)"
       ]
      },
      {
       "output_type": "stream",
       "stream": "stdout",
       "text": [
        "\n",
        "Starting gDPM: beam 2, cp 37, gpu 0\n",
        "Finishing: beam 2, cp 37, gpu 0\n",
        "MC Chunk Calc. Time:9.71184682846s (Tot time:1991.21161795)"
       ]
      },
      {
       "output_type": "stream",
       "stream": "stdout",
       "text": [
        "\n",
        "Starting gDPM: beam 2, cp 38, gpu 0\n",
        "Finishing: beam 2, cp 38, gpu 0\n",
        "MC Chunk Calc. Time:9.79001808167s (Tot time:2001.0037961)"
       ]
      },
      {
       "output_type": "stream",
       "stream": "stdout",
       "text": [
        "\n",
        "Starting gDPM: beam 2, cp 39, gpu 0\n",
        "Finishing: beam 2, cp 39, gpu 0\n",
        "MC Chunk Calc. Time:9.03810501099s (Tot time:2010.0440011)"
       ]
      },
      {
       "output_type": "stream",
       "stream": "stdout",
       "text": [
        "\n",
        "Starting gDPM: beam 2, cp 40, gpu 0\n",
        "Finishing: beam 2, cp 40, gpu 0\n",
        "MC Chunk Calc. Time:9.30997419357s (Tot time:2019.35905194)"
       ]
      },
      {
       "output_type": "stream",
       "stream": "stdout",
       "text": [
        "\n",
        "Starting gDPM: beam 2, cp 41, gpu 0\n",
        "Finishing: beam 2, cp 41, gpu 0\n",
        "MC Chunk Calc. Time:8.6003549099s (Tot time:2027.9610281)"
       ]
      },
      {
       "output_type": "stream",
       "stream": "stdout",
       "text": [
        "\n",
        "Starting gDPM: beam 2, cp 42, gpu 0\n",
        "Finishing: beam 2, cp 42, gpu 0\n",
        "MC Chunk Calc. Time:9.1694791317s (Tot time:2037.13662505)"
       ]
      },
      {
       "output_type": "stream",
       "stream": "stdout",
       "text": [
        "\n",
        "Starting gDPM: beam 2, cp 43, gpu 0\n",
        "Finishing: beam 2, cp 43, gpu 0\n",
        "MC Chunk Calc. Time:9.37811589241s (Tot time:2046.51761794)"
       ]
      },
      {
       "output_type": "stream",
       "stream": "stdout",
       "text": [
        "\n",
        "Starting gDPM: beam 2, cp 44, gpu 0\n",
        "Finishing: beam 2, cp 44, gpu 0\n",
        "MC Chunk Calc. Time:9.60971999168s (Tot time:2056.13264394)"
       ]
      },
      {
       "output_type": "stream",
       "stream": "stdout",
       "text": [
        "\n",
        "Starting gDPM: beam 2, cp 45, gpu 0\n",
        "Finishing: beam 2, cp 45, gpu 0\n",
        "MC Chunk Calc. Time:8.97745800018s (Tot time:2065.11135292)"
       ]
      },
      {
       "output_type": "stream",
       "stream": "stdout",
       "text": [
        "\n",
        "Starting gDPM: beam 2, cp 46, gpu 0\n",
        "Finishing: beam 2, cp 46, gpu 0\n",
        "MC Chunk Calc. Time:9.76592898369s (Tot time:2074.87886095)"
       ]
      },
      {
       "output_type": "stream",
       "stream": "stdout",
       "text": [
        "\n",
        "Starting gDPM: beam 2, cp 47, gpu 0\n",
        "Finishing: beam 2, cp 47, gpu 0\n",
        "MC Chunk Calc. Time:8.50569605827s (Tot time:2083.38640904)"
       ]
      },
      {
       "output_type": "stream",
       "stream": "stdout",
       "text": [
        "\n",
        "Starting gDPM: beam 2, cp 48, gpu 0\n",
        "Finishing: beam 2, cp 48, gpu 0\n",
        "MC Chunk Calc. Time:9.06110596657s (Tot time:2092.44969702)"
       ]
      },
      {
       "output_type": "stream",
       "stream": "stdout",
       "text": [
        "\n",
        "Starting gDPM: beam 2, cp 49, gpu 0\n",
        "Finishing: beam 2, cp 49, gpu 0\n",
        "MC Chunk Calc. Time:9.18372392654s (Tot time:2101.636338)"
       ]
      },
      {
       "output_type": "stream",
       "stream": "stdout",
       "text": [
        "\n",
        "Starting gDPM: beam 2, cp 50, gpu 0\n",
        "Finishing: beam 2, cp 50, gpu 0\n",
        "MC Chunk Calc. Time:8.82090210915s (Tot time:2110.4583199)"
       ]
      },
      {
       "output_type": "stream",
       "stream": "stdout",
       "text": [
        "\n",
        "Starting gDPM: beam 2, cp 51, gpu 0\n",
        "Finishing: beam 2, cp 51, gpu 0\n",
        "MC Chunk Calc. Time:9.1406211853s (Tot time:2119.6008091)"
       ]
      },
      {
       "output_type": "stream",
       "stream": "stdout",
       "text": [
        "\n",
        "Starting gDPM: beam 2, cp 52, gpu 0\n",
        "Finishing: beam 2, cp 52, gpu 0\n",
        "MC Chunk Calc. Time:9.10796499252s (Tot time:2128.71482801)"
       ]
      },
      {
       "output_type": "stream",
       "stream": "stdout",
       "text": [
        "\n",
        "Starting gDPM: beam 2, cp 53, gpu 0\n",
        "Finishing: beam 2, cp 53, gpu 0\n",
        "MC Chunk Calc. Time:9.43673992157s (Tot time:2138.15254092)"
       ]
      },
      {
       "output_type": "stream",
       "stream": "stdout",
       "text": [
        "\n",
        "Starting gDPM: beam 2, cp 54, gpu 0\n",
        "Finishing: beam 2, cp 54, gpu 0\n",
        "MC Chunk Calc. Time:8.69367599487s (Tot time:2146.85286307)"
       ]
      },
      {
       "output_type": "stream",
       "stream": "stdout",
       "text": [
        "\n",
        "Starting gDPM: beam 2, cp 55, gpu 0\n",
        "Finishing: beam 2, cp 55, gpu 0\n",
        "MC Chunk Calc. Time:9.36966395378s (Tot time:2156.22567201)"
       ]
      },
      {
       "output_type": "stream",
       "stream": "stdout",
       "text": [
        "\n",
        "Starting gDPM: beam 2, cp 56, gpu 0\n",
        "Finishing: beam 2, cp 56, gpu 0\n",
        "MC Chunk Calc. Time:9.69498491287s (Tot time:2165.926718)"
       ]
      },
      {
       "output_type": "stream",
       "stream": "stdout",
       "text": [
        "\n",
        "Starting gDPM: beam 2, cp 57, gpu 0\n",
        "Finishing: beam 2, cp 57, gpu 0\n",
        "MC Chunk Calc. Time:8.84550094604s (Tot time:2174.77340698)"
       ]
      },
      {
       "output_type": "stream",
       "stream": "stdout",
       "text": [
        "\n",
        "Starting gDPM: beam 2, cp 58, gpu 0\n",
        "Finishing: beam 2, cp 58, gpu 0\n",
        "MC Chunk Calc. Time:9.5392742157s (Tot time:2184.31814694)"
       ]
      },
      {
       "output_type": "stream",
       "stream": "stdout",
       "text": [
        "\n",
        "Starting gDPM: beam 2, cp 59, gpu 0\n",
        "Finishing: beam 2, cp 59, gpu 0\n",
        "MC Chunk Calc. Time:9.00993609428s (Tot time:2193.32959509)"
       ]
      },
      {
       "output_type": "stream",
       "stream": "stdout",
       "text": [
        "\n",
        "Starting gDPM: beam 2, cp 60, gpu 0\n",
        "Finishing: beam 2, cp 60, gpu 0\n",
        "MC Chunk Calc. Time:9.2242898941s (Tot time:2202.55681896)"
       ]
      },
      {
       "output_type": "stream",
       "stream": "stdout",
       "text": [
        "\n",
        "Starting gDPM: beam 2, cp 61, gpu 0\n",
        "Finishing: beam 2, cp 61, gpu 0\n",
        "MC Chunk Calc. Time:10.2255480289s (Tot time:2212.78384805)"
       ]
      },
      {
       "output_type": "stream",
       "stream": "stdout",
       "text": [
        "\n",
        "Starting gDPM: beam 2, cp 62, gpu 0\n",
        "Finishing: beam 2, cp 62, gpu 0\n",
        "MC Chunk Calc. Time:9.32318305969s (Tot time:2222.10850096)"
       ]
      },
      {
       "output_type": "stream",
       "stream": "stdout",
       "text": [
        "\n",
        "Starting gDPM: beam 2, cp 63, gpu 0\n",
        "Finishing: beam 2, cp 63, gpu 0\n",
        "MC Chunk Calc. Time:10.352216959s (Tot time:2232.46175408)"
       ]
      },
      {
       "output_type": "stream",
       "stream": "stdout",
       "text": [
        "\n",
        "Starting gDPM: beam 2, cp 64, gpu 0\n",
        "Finishing: beam 2, cp 64, gpu 0\n",
        "MC Chunk Calc. Time:10.221121788s (Tot time:2242.68576598)"
       ]
      },
      {
       "output_type": "stream",
       "stream": "stdout",
       "text": [
        "\n",
        "Starting gDPM: beam 2, cp 65, gpu 0\n",
        "Finishing: beam 2, cp 65, gpu 0\n",
        "MC Chunk Calc. Time:10.3776929379s (Tot time:2253.06478405)"
       ]
      },
      {
       "output_type": "stream",
       "stream": "stdout",
       "text": [
        "\n",
        "Starting gDPM: beam 2, cp 66, gpu 0\n",
        "Finishing: beam 2, cp 66, gpu 0\n",
        "MC Chunk Calc. Time:8.97878098488s (Tot time:2262.04921889)"
       ]
      },
      {
       "output_type": "stream",
       "stream": "stdout",
       "text": [
        "\n",
        "Starting gDPM: beam 2, cp 67, gpu 0\n",
        "Finishing: beam 2, cp 67, gpu 0\n",
        "MC Chunk Calc. Time:9.66885709763s (Tot time:2271.72244596)"
       ]
      },
      {
       "output_type": "stream",
       "stream": "stdout",
       "text": [
        "\n",
        "Starting gDPM: beam 2, cp 68, gpu 0\n",
        "Finishing: beam 2, cp 68, gpu 0\n",
        "MC Chunk Calc. Time:10.0859661102s (Tot time:2281.80929208)"
       ]
      },
      {
       "output_type": "stream",
       "stream": "stdout",
       "text": [
        "\n",
        "Starting gDPM: beam 2, cp 69, gpu 0\n",
        "Finishing: beam 2, cp 69, gpu 0\n",
        "MC Chunk Calc. Time:9.31526398659s (Tot time:2291.129457)"
       ]
      },
      {
       "output_type": "stream",
       "stream": "stdout",
       "text": [
        "\n",
        "Starting gDPM: beam 2, cp 70, gpu 0\n",
        "Finishing: beam 2, cp 70, gpu 0\n",
        "MC Chunk Calc. Time:9.93481111526s (Tot time:2301.07149196)"
       ]
      },
      {
       "output_type": "stream",
       "stream": "stdout",
       "text": [
        "\n",
        "Starting gDPM: beam 2, cp 71, gpu 0\n",
        "Finishing: beam 2, cp 71, gpu 0\n",
        "MC Chunk Calc. Time:9.37246394157s (Tot time:2310.445436)"
       ]
      },
      {
       "output_type": "stream",
       "stream": "stdout",
       "text": [
        "\n",
        "Starting gDPM: beam 2, cp 72, gpu 0\n",
        "Finishing: beam 2, cp 72, gpu 0\n",
        "MC Chunk Calc. Time:9.64901399612s (Tot time:2320.09941006)"
       ]
      },
      {
       "output_type": "stream",
       "stream": "stdout",
       "text": [
        "\n",
        "Starting gDPM: beam 2, cp 73, gpu 0\n",
        "Finishing: beam 2, cp 73, gpu 0\n",
        "MC Chunk Calc. Time:9.56248307228s (Tot time:2329.66299391)"
       ]
      },
      {
       "output_type": "stream",
       "stream": "stdout",
       "text": [
        "\n",
        "Starting gDPM: beam 2, cp 74, gpu 0\n",
        "Finishing: beam 2, cp 74, gpu 0\n",
        "MC Chunk Calc. Time:9.23047113419s (Tot time:2338.89514089)"
       ]
      },
      {
       "output_type": "stream",
       "stream": "stdout",
       "text": [
        "\n",
        "Starting gDPM: beam 2, cp 75, gpu 0\n",
        "Finishing: beam 2, cp 75, gpu 0\n",
        "MC Chunk Calc. Time:10.299120903s (Tot time:2349.19533491)"
       ]
      },
      {
       "output_type": "stream",
       "stream": "stdout",
       "text": [
        "\n",
        "Starting gDPM: beam 2, cp 76, gpu 0\n",
        "Finishing: beam 2, cp 76, gpu 0\n",
        "MC Chunk Calc. Time:9.23413515091s (Tot time:2358.4360261)"
       ]
      },
      {
       "output_type": "stream",
       "stream": "stdout",
       "text": [
        "\n",
        "Starting gDPM: beam 2, cp 77, gpu 0\n",
        "Finishing: beam 2, cp 77, gpu 0\n",
        "MC Chunk Calc. Time:9.00109982491s (Tot time:2367.44450402)"
       ]
      },
      {
       "output_type": "stream",
       "stream": "stdout",
       "text": [
        "\n",
        "Starting gDPM: beam 2, cp 78, gpu 0\n",
        "Finishing: beam 2, cp 78, gpu 0\n",
        "MC Chunk Calc. Time:10.422960043s (Tot time:2377.86834097)"
       ]
      },
      {
       "output_type": "stream",
       "stream": "stdout",
       "text": [
        "\n",
        "Starting gDPM: beam 2, cp 79, gpu 0\n",
        "Finishing: beam 2, cp 79, gpu 0\n",
        "MC Chunk Calc. Time:9.7984919548s (Tot time:2387.672539)"
       ]
      },
      {
       "output_type": "stream",
       "stream": "stdout",
       "text": [
        "\n",
        "Starting gDPM: beam 2, cp 80, gpu 0\n",
        "Finishing: beam 2, cp 80, gpu 0\n",
        "MC Chunk Calc. Time:9.18033099174s (Tot time:2396.85867405)"
       ]
      },
      {
       "output_type": "stream",
       "stream": "stdout",
       "text": [
        "\n",
        "Starting gDPM: beam 2, cp 81, gpu 0\n",
        "Finishing: beam 2, cp 81, gpu 0\n",
        "MC Chunk Calc. Time:9.88692712784s (Tot time:2406.74662709)"
       ]
      },
      {
       "output_type": "stream",
       "stream": "stdout",
       "text": [
        "\n",
        "Starting gDPM: beam 2, cp 82, gpu 0\n",
        "Finishing: beam 2, cp 82, gpu 0\n",
        "MC Chunk Calc. Time:10.5644750595s (Tot time:2417.31324387)"
       ]
      },
      {
       "output_type": "stream",
       "stream": "stdout",
       "text": [
        "\n",
        "Starting gDPM: beam 2, cp 83, gpu 0\n",
        "Finishing: beam 2, cp 83, gpu 0\n",
        "MC Chunk Calc. Time:9.86045098305s (Tot time:2427.17849803)"
       ]
      },
      {
       "output_type": "stream",
       "stream": "stdout",
       "text": [
        "\n",
        "Starting gDPM: beam 2, cp 84, gpu 0\n",
        "Finishing: beam 2, cp 84, gpu 0\n",
        "MC Chunk Calc. Time:9.09014606476s (Tot time:2436.27034092)"
       ]
      },
      {
       "output_type": "stream",
       "stream": "stdout",
       "text": [
        "\n",
        "Starting gDPM: beam 2, cp 85, gpu 0\n",
        "Finishing: beam 2, cp 85, gpu 0\n",
        "MC Chunk Calc. Time:8.81817698479s (Tot time:2445.09049201)"
       ]
      },
      {
       "output_type": "stream",
       "stream": "stdout",
       "text": [
        "\n",
        "Starting gDPM: beam 2, cp 86, gpu 0\n",
        "Finishing: beam 2, cp 86, gpu 0\n",
        "MC Chunk Calc. Time:9.42929315567s (Tot time:2454.52256989)"
       ]
      },
      {
       "output_type": "stream",
       "stream": "stdout",
       "text": [
        "\n",
        "Starting gDPM: beam 2, cp 87, gpu 0\n",
        "Finishing: beam 2, cp 87, gpu 0\n",
        "MC Chunk Calc. Time:9.72795701027s (Tot time:2464.25200105)"
       ]
      },
      {
       "output_type": "stream",
       "stream": "stdout",
       "text": [
        "\n",
        "Starting gDPM: beam 2, cp 88, gpu 0\n",
        "Finishing: beam 2, cp 88, gpu 0\n",
        "MC Chunk Calc. Time:9.55626487732s (Tot time:2473.81449103)"
       ]
      },
      {
       "output_type": "stream",
       "stream": "stdout",
       "text": [
        "\n",
        "Starting gDPM: beam 2, cp 89, gpu 0\n",
        "Finishing: beam 2, cp 89, gpu 0\n",
        "MC Chunk Calc. Time:9.6235640049s (Tot time:2483.43886209)"
       ]
      },
      {
       "output_type": "stream",
       "stream": "stdout",
       "text": [
        "\n",
        "Starting gDPM: beam 2, cp 90, gpu 0\n",
        "Finishing: beam 2, cp 90, gpu 0\n",
        "MC Chunk Calc. Time:9.05312895775s (Tot time:2492.49363995)"
       ]
      },
      {
       "output_type": "stream",
       "stream": "stdout",
       "text": [
        "\n",
        "Starting gDPM: beam 2, cp 91, gpu 0\n",
        "Finishing: beam 2, cp 91, gpu 0\n",
        "MC Chunk Calc. Time:9.28040504456s (Tot time:2501.77820897)"
       ]
      },
      {
       "output_type": "stream",
       "stream": "stdout",
       "text": [
        "\n",
        "Starting gDPM: beam 2, cp 92, gpu 0\n",
        "Finishing: beam 2, cp 92, gpu 0\n",
        "MC Chunk Calc. Time:9.36189198494s (Tot time:2511.14095592)"
       ]
      },
      {
       "output_type": "stream",
       "stream": "stdout",
       "text": [
        "\n",
        "Starting gDPM: beam 2, cp 93, gpu 0\n",
        "Finishing: beam 2, cp 93, gpu 0\n",
        "MC Chunk Calc. Time:9.7273478508s (Tot time:2520.87624192)"
       ]
      },
      {
       "output_type": "stream",
       "stream": "stdout",
       "text": [
        "\n",
        "Starting gDPM: beam 2, cp 94, gpu 0\n",
        "Finishing: beam 2, cp 94, gpu 0\n",
        "MC Chunk Calc. Time:9.61642503738s (Tot time:2530.49410605)"
       ]
      },
      {
       "output_type": "stream",
       "stream": "stdout",
       "text": [
        "\n",
        "Starting gDPM: beam 2, cp 95, gpu 0\n",
        "Finishing: beam 2, cp 95, gpu 0\n",
        "MC Chunk Calc. Time:9.46681284904s (Tot time:2539.96279192)"
       ]
      },
      {
       "output_type": "stream",
       "stream": "stdout",
       "text": [
        "\n",
        "Starting gDPM: beam 2, cp 96, gpu 0\n",
        "Finishing: beam 2, cp 96, gpu 0\n",
        "MC Chunk Calc. Time:8.90315198898s (Tot time:2548.86763406)"
       ]
      },
      {
       "output_type": "stream",
       "stream": "stdout",
       "text": [
        "\n",
        "Starting gDPM: beam 2, cp 97, gpu 0\n",
        "Finishing: beam 2, cp 97, gpu 0\n",
        "MC Chunk Calc. Time:9.38058686256s (Tot time:2558.25048304)"
       ]
      },
      {
       "output_type": "stream",
       "stream": "stdout",
       "text": [
        "\n",
        "Starting gDPM: beam 2, cp 98, gpu 0\n",
        "Finishing: beam 2, cp 98, gpu 0\n",
        "MC Chunk Calc. Time:9.50554084778s (Tot time:2567.75700903)"
       ]
      },
      {
       "output_type": "stream",
       "stream": "stdout",
       "text": [
        "\n",
        "Starting gDPM: beam 2, cp 99, gpu 0\n",
        "Finishing: beam 2, cp 99, gpu 0\n",
        "MC Chunk Calc. Time:9.83634209633s (Tot time:2577.59639192)"
       ]
      },
      {
       "output_type": "stream",
       "stream": "stdout",
       "text": [
        "\n",
        "Starting gDPM: beam 2, cp 100, gpu 0\n",
        "Finishing: beam 2, cp 100, gpu 0\n",
        "MC Chunk Calc. Time:9.4482550621s (Tot time:2587.04633403)"
       ]
      },
      {
       "output_type": "stream",
       "stream": "stdout",
       "text": [
        "\n",
        "Starting gDPM: beam 2, cp 101, gpu 0\n",
        "Finishing: beam 2, cp 101, gpu 0\n",
        "MC Chunk Calc. Time:9.60948801041s (Tot time:2596.65746498)"
       ]
      },
      {
       "output_type": "stream",
       "stream": "stdout",
       "text": [
        "\n",
        "Starting gDPM: beam 2, cp 102, gpu 0\n",
        "Finishing: beam 2, cp 102, gpu 0\n",
        "MC Chunk Calc. Time:10.7281360626s (Tot time:2607.39275002)"
       ]
      },
      {
       "output_type": "stream",
       "stream": "stdout",
       "text": [
        "\n",
        "Starting gDPM: beam 2, cp 103, gpu 0\n",
        "Finishing: beam 2, cp 103, gpu 0\n",
        "MC Chunk Calc. Time:9.44673490524s (Tot time:2616.8404839)"
       ]
      },
      {
       "output_type": "stream",
       "stream": "stdout",
       "text": [
        "\n",
        "Starting gDPM: beam 2, cp 104, gpu 0\n",
        "Finishing: beam 2, cp 104, gpu 0\n",
        "MC Chunk Calc. Time:10.115776062s (Tot time:2626.95767689)"
       ]
      },
      {
       "output_type": "stream",
       "stream": "stdout",
       "text": [
        "\n",
        "Starting gDPM: beam 2, cp 105, gpu 0\n",
        "Finishing: beam 2, cp 105, gpu 0\n",
        "MC Chunk Calc. Time:10.1254010201s (Tot time:2637.0875721)"
       ]
      },
      {
       "output_type": "stream",
       "stream": "stdout",
       "text": [
        "\n",
        "Starting gDPM: beam 2, cp 106, gpu 0\n",
        "Finishing: beam 2, cp 106, gpu 0\n",
        "MC Chunk Calc. Time:9.71902799606s (Tot time:2646.80774498)"
       ]
      },
      {
       "output_type": "stream",
       "stream": "stdout",
       "text": [
        "\n",
        "Starting gDPM: beam 2, cp 107, gpu 0\n",
        "Finishing: beam 2, cp 107, gpu 0\n",
        "MC Chunk Calc. Time:9.76362705231s (Tot time:2656.57296109)"
       ]
      },
      {
       "output_type": "stream",
       "stream": "stdout",
       "text": [
        "\n",
        "Starting gDPM: beam 2, cp 108, gpu 0\n",
        "Finishing: beam 2, cp 108, gpu 0\n",
        "MC Chunk Calc. Time:10.5244700909s (Tot time:2667.10030389)"
       ]
      },
      {
       "output_type": "stream",
       "stream": "stdout",
       "text": [
        "\n",
        "Starting gDPM: beam 2, cp 109, gpu 0\n",
        "Finishing: beam 2, cp 109, gpu 0\n",
        "MC Chunk Calc. Time:9.49517989159s (Tot time:2676.59660792)"
       ]
      },
      {
       "output_type": "stream",
       "stream": "stdout",
       "text": [
        "\n",
        "Starting gDPM: beam 2, cp 110, gpu 0\n",
        "Finishing: beam 2, cp 110, gpu 0\n",
        "MC Chunk Calc. Time:10.153468132s (Tot time:2686.75306892)"
       ]
      },
      {
       "output_type": "stream",
       "stream": "stdout",
       "text": [
        "\n",
        "Starting gDPM: beam 2, cp 111, gpu 0\n",
        "Finishing: beam 2, cp 111, gpu 0\n",
        "MC Chunk Calc. Time:10.4251589775s (Tot time:2697.18041492)"
       ]
      },
      {
       "output_type": "stream",
       "stream": "stdout",
       "text": [
        "\n",
        "Starting gDPM: beam 2, cp 112, gpu 0\n",
        "Finishing: beam 2, cp 112, gpu 0\n",
        "MC Chunk Calc. Time:9.90667200089s (Tot time:2707.0879519)"
       ]
      },
      {
       "output_type": "stream",
       "stream": "stdout",
       "text": [
        "\n",
        "Starting gDPM: beam 2, cp 113, gpu 0\n",
        "Finishing: beam 2, cp 113, gpu 0\n",
        "MC Chunk Calc. Time:9.42783999443s (Tot time:2716.5229671)"
       ]
      },
      {
       "output_type": "stream",
       "stream": "stdout",
       "text": [
        "\n",
        "Starting gDPM: beam 2, cp 114, gpu 0\n",
        "Finishing: beam 2, cp 114, gpu 0\n",
        "MC Chunk Calc. Time:9.3764231205s (Tot time:2725.90109491)"
       ]
      },
      {
       "output_type": "stream",
       "stream": "stdout",
       "text": [
        "\n",
        "Starting gDPM: beam 2, cp 115, gpu 0\n",
        "Finishing: beam 2, cp 115, gpu 0\n",
        "MC Chunk Calc. Time:9.33029508591s (Tot time:2735.23543191)"
       ]
      },
      {
       "output_type": "stream",
       "stream": "stdout",
       "text": [
        "\n",
        "Starting gDPM: beam 2, cp 116, gpu 0\n",
        "Finishing: beam 2, cp 116, gpu 0\n",
        "MC Chunk Calc. Time:9.20764803886s (Tot time:2744.44474602)"
       ]
      },
      {
       "output_type": "stream",
       "stream": "stdout",
       "text": [
        "\n",
        "Starting gDPM: beam 2, cp 117, gpu 0\n",
        "Finishing: beam 2, cp 117, gpu 0\n",
        "MC Chunk Calc. Time:9.32805418968s (Tot time:2753.77958894)"
       ]
      },
      {
       "output_type": "stream",
       "stream": "stdout",
       "text": [
        "\n",
        "Starting gDPM: beam 2, cp 118, gpu 0\n",
        "Finishing: beam 2, cp 118, gpu 0\n",
        "MC Chunk Calc. Time:9.4747300148s (Tot time:2763.25533795)"
       ]
      },
      {
       "output_type": "stream",
       "stream": "stdout",
       "text": [
        "\n",
        "Starting gDPM: beam 2, cp 119, gpu 0\n",
        "Finishing: beam 2, cp 119, gpu 0\n",
        "MC Chunk Calc. Time:10.082916975s (Tot time:2773.34010887)"
       ]
      },
      {
       "output_type": "stream",
       "stream": "stdout",
       "text": [
        "\n",
        "Starting gDPM: beam 2, cp 120, gpu 0\n",
        "Finishing: beam 2, cp 120, gpu 0\n",
        "MC Chunk Calc. Time:9.85924696922s (Tot time:2783.20095301)"
       ]
      },
      {
       "output_type": "stream",
       "stream": "stdout",
       "text": [
        "\n",
        "Starting gDPM: beam 2, cp 121, gpu 0\n",
        "Finishing: beam 2, cp 121, gpu 0\n",
        "MC Chunk Calc. Time:9.11487913132s (Tot time:2792.32149792)"
       ]
      },
      {
       "output_type": "stream",
       "stream": "stdout",
       "text": [
        "\n",
        "Starting gDPM: beam 2, cp 122, gpu 0\n",
        "Finishing: beam 2, cp 122, gpu 0\n",
        "MC Chunk Calc. Time:9.27360105515s (Tot time:2801.59837103)"
       ]
      },
      {
       "output_type": "stream",
       "stream": "stdout",
       "text": [
        "\n",
        "Starting gDPM: beam 2, cp 123, gpu 0\n",
        "Finishing: beam 2, cp 123, gpu 0\n",
        "MC Chunk Calc. Time:8.98086619377s (Tot time:2810.58025289)"
       ]
      },
      {
       "output_type": "stream",
       "stream": "stdout",
       "text": [
        "\n",
        "Starting gDPM: beam 2, cp 124, gpu 0\n",
        "Finishing: beam 2, cp 124, gpu 0\n",
        "MC Chunk Calc. Time:9.13680505753s (Tot time:2819.72015095)"
       ]
      },
      {
       "output_type": "stream",
       "stream": "stdout",
       "text": [
        "\n",
        "Starting gDPM: beam 2, cp 125, gpu 0\n",
        "Finishing: beam 2, cp 125, gpu 0\n",
        "MC Chunk Calc. Time:8.88041782379s (Tot time:2828.60647392)"
       ]
      },
      {
       "output_type": "stream",
       "stream": "stdout",
       "text": [
        "\n",
        "Starting gDPM: beam 2, cp 126, gpu 0\n",
        "Finishing: beam 2, cp 126, gpu 0\n",
        "MC Chunk Calc. Time:8.67620897293s (Tot time:2837.28443003)"
       ]
      },
      {
       "output_type": "stream",
       "stream": "stdout",
       "text": [
        "\n",
        "Starting gDPM: beam 2, cp 127, gpu 0\n",
        "Finishing: beam 2, cp 127, gpu 0\n",
        "MC Chunk Calc. Time:8.80785298347s (Tot time:2846.09349394)"
       ]
      },
      {
       "output_type": "stream",
       "stream": "stdout",
       "text": [
        "\n",
        "Starting gDPM: beam 2, cp 128, gpu 0\n",
        "Finishing: beam 2, cp 128, gpu 0\n",
        "MC Chunk Calc. Time:8.49506092072s (Tot time:2854.59239006)"
       ]
      },
      {
       "output_type": "stream",
       "stream": "stdout",
       "text": [
        "\n",
        "Starting gDPM: beam 2, cp 129, gpu 0\n",
        "Finishing: beam 2, cp 129, gpu 0\n",
        "MC Chunk Calc. Time:9.18499016762s (Tot time:2863.77879095)"
       ]
      },
      {
       "output_type": "stream",
       "stream": "stdout",
       "text": [
        "\n",
        "Starting gDPM: beam 2, cp 130, gpu 0\n",
        "Finishing: beam 2, cp 130, gpu 0\n",
        "MC Chunk Calc. Time:9.16927504539s (Tot time:2872.94912791)"
       ]
      },
      {
       "output_type": "stream",
       "stream": "stdout",
       "text": [
        "\n",
        "Starting gDPM: beam 2, cp 131, gpu 0\n",
        "Finishing: beam 2, cp 131, gpu 0\n",
        "MC Chunk Calc. Time:9.08626103401s (Tot time:2882.04084492)"
       ]
      },
      {
       "output_type": "stream",
       "stream": "stdout",
       "text": [
        "\n",
        "Starting gDPM: beam 2, cp 132, gpu 0\n",
        "Finishing: beam 2, cp 132, gpu 0\n",
        "MC Chunk Calc. Time:9.55875706673s (Tot time:2891.60369205)"
       ]
      },
      {
       "output_type": "stream",
       "stream": "stdout",
       "text": [
        "\n",
        "Starting gDPM: beam 2, cp 133, gpu 0\n",
        "Finishing: beam 2, cp 133, gpu 0\n",
        "MC Chunk Calc. Time:8.80953502655s (Tot time:2900.41490197)"
       ]
      },
      {
       "output_type": "stream",
       "stream": "stdout",
       "text": [
        "\n",
        "Starting gDPM: beam 2, cp 134, gpu 0\n",
        "Finishing: beam 2, cp 134, gpu 0\n",
        "MC Chunk Calc. Time:8.6272778511s (Tot time:2909.04580903)"
       ]
      },
      {
       "output_type": "stream",
       "stream": "stdout",
       "text": [
        "\n",
        "Starting gDPM: beam 2, cp 135, gpu 0\n",
        "Finishing: beam 2, cp 135, gpu 0\n",
        "MC Chunk Calc. Time:8.57746505737s (Tot time:2917.62444091)"
       ]
      },
      {
       "output_type": "stream",
       "stream": "stdout",
       "text": [
        "\n",
        "Starting gDPM: beam 2, cp 136, gpu 0\n",
        "Finishing: beam 2, cp 136, gpu 0\n",
        "MC Chunk Calc. Time:9.480935812s (Tot time:2927.10682392)"
       ]
      },
      {
       "output_type": "stream",
       "stream": "stdout",
       "text": [
        "\n",
        "Starting gDPM: beam 2, cp 137, gpu 0\n",
        "Finishing: beam 2, cp 137, gpu 0\n",
        "MC Chunk Calc. Time:8.80766987801s (Tot time:2935.91676402)"
       ]
      },
      {
       "output_type": "stream",
       "stream": "stdout",
       "text": [
        "\n",
        "Starting gDPM: beam 2, cp 138, gpu 0\n",
        "Finishing: beam 2, cp 138, gpu 0\n",
        "MC Chunk Calc. Time:8.63100814819s (Tot time:2944.55377793)"
       ]
      },
      {
       "output_type": "stream",
       "stream": "stdout",
       "text": [
        "\n",
        "Starting gDPM: beam 2, cp 139, gpu 0\n",
        "Finishing: beam 2, cp 139, gpu 0\n",
        "MC Chunk Calc. Time:9.02239704132s (Tot time:2953.58017802)"
       ]
      },
      {
       "output_type": "stream",
       "stream": "stdout",
       "text": [
        "\n",
        "Starting gDPM: beam 2, cp 140, gpu 0\n",
        "Finishing: beam 2, cp 140, gpu 0\n",
        "MC Chunk Calc. Time:8.87932801247s (Tot time:2962.46107197)"
       ]
      },
      {
       "output_type": "stream",
       "stream": "stdout",
       "text": [
        "\n",
        "Starting gDPM: beam 2, cp 141, gpu 0\n",
        "Finishing: beam 2, cp 141, gpu 0\n",
        "MC Chunk Calc. Time:9.36344408989s (Tot time:2971.82849002)"
       ]
      },
      {
       "output_type": "stream",
       "stream": "stdout",
       "text": [
        "\n",
        "Starting gDPM: beam 2, cp 142, gpu 0\n",
        "Finishing: beam 2, cp 142, gpu 0\n",
        "MC Chunk Calc. Time:9.11969995499s (Tot time:2980.95355487)"
       ]
      },
      {
       "output_type": "stream",
       "stream": "stdout",
       "text": [
        "\n",
        "Starting gDPM: beam 2, cp 143, gpu 0\n",
        "Finishing: beam 2, cp 143, gpu 0\n",
        "MC Chunk Calc. Time:8.93797302246s (Tot time:2989.89467907)"
       ]
      },
      {
       "output_type": "stream",
       "stream": "stdout",
       "text": [
        "\n",
        "Starting gDPM: beam 2, cp 144, gpu 0\n",
        "Finishing: beam 2, cp 144, gpu 0\n",
        "MC Chunk Calc. Time:9.91910195351s (Tot time:2999.81669497)"
       ]
      },
      {
       "output_type": "stream",
       "stream": "stdout",
       "text": [
        "\n",
        "Starting gDPM: beam 2, cp 145, gpu 0\n",
        "Finishing: beam 2, cp 145, gpu 0\n",
        "MC Chunk Calc. Time:9.80531001091s (Tot time:3009.62306595)"
       ]
      },
      {
       "output_type": "stream",
       "stream": "stdout",
       "text": [
        "\n",
        "Starting gDPM: beam 2, cp 146, gpu 0\n",
        "Finishing: beam 2, cp 146, gpu 0\n",
        "MC Chunk Calc. Time:9.18044495583s (Tot time:3018.80612087)"
       ]
      },
      {
       "output_type": "stream",
       "stream": "stdout",
       "text": [
        "\n",
        "Starting gDPM: beam 2, cp 147, gpu 0\n",
        "Finishing: beam 2, cp 147, gpu 0\n",
        "MC Chunk Calc. Time:9.00117111206s (Tot time:3027.80874991)"
       ]
      },
      {
       "output_type": "stream",
       "stream": "stdout",
       "text": [
        "\n",
        "Starting gDPM: beam 2, cp 148, gpu 0\n",
        "Finishing: beam 2, cp 148, gpu 0\n",
        "MC Chunk Calc. Time:9.59017515182s (Tot time:3037.40306091)"
       ]
      },
      {
       "output_type": "stream",
       "stream": "stdout",
       "text": [
        "\n",
        "Starting gDPM: beam 2, cp 149, gpu 0\n",
        "Finishing: beam 2, cp 149, gpu 0\n",
        "MC Chunk Calc. Time:9.38284707069s (Tot time:3046.78756595)"
       ]
      },
      {
       "output_type": "stream",
       "stream": "stdout",
       "text": [
        "\n",
        "Starting gDPM: beam 2, cp 150, gpu 0\n",
        "Finishing: beam 2, cp 150, gpu 0\n",
        "MC Chunk Calc. Time:10.4243040085s (Tot time:3057.21327591)"
       ]
      },
      {
       "output_type": "stream",
       "stream": "stdout",
       "text": [
        "\n",
        "Starting gDPM: beam 2, cp 151, gpu 0\n",
        "Finishing: beam 2, cp 151, gpu 0\n",
        "MC Chunk Calc. Time:8.93431806564s (Tot time:3066.15290499)"
       ]
      },
      {
       "output_type": "stream",
       "stream": "stdout",
       "text": [
        "\n",
        "Starting gDPM: beam 2, cp 152, gpu 0\n",
        "Finishing: beam 2, cp 152, gpu 0\n",
        "MC Chunk Calc. Time:9.26493501663s (Tot time:3075.42461109)"
       ]
      },
      {
       "output_type": "stream",
       "stream": "stdout",
       "text": [
        "\n",
        "Starting gDPM: beam 2, cp 153, gpu 0\n",
        "Finishing: beam 2, cp 153, gpu 0\n",
        "MC Chunk Calc. Time:8.99874210358s (Tot time:3084.42713189)"
       ]
      },
      {
       "output_type": "stream",
       "stream": "stdout",
       "text": [
        "\n",
        "Starting gDPM: beam 2, cp 154, gpu 0\n",
        "Finishing: beam 2, cp 154, gpu 0\n",
        "MC Chunk Calc. Time:9.69432878494s (Tot time:3094.12383294)"
       ]
      },
      {
       "output_type": "stream",
       "stream": "stdout",
       "text": [
        "\n",
        "Starting gDPM: beam 2, cp 155, gpu 0\n",
        "Finishing: beam 2, cp 155, gpu 0\n",
        "MC Chunk Calc. Time:9.30934309959s (Tot time:3103.43485188)"
       ]
      },
      {
       "output_type": "stream",
       "stream": "stdout",
       "text": [
        "\n",
        "Starting gDPM: beam 2, cp 156, gpu 0\n",
        "Finishing: beam 2, cp 156, gpu 0\n",
        "MC Chunk Calc. Time:9.03201603889s (Tot time:3112.46808004)"
       ]
      },
      {
       "output_type": "stream",
       "stream": "stdout",
       "text": [
        "\n",
        "Starting gDPM: beam 2, cp 157, gpu 0\n",
        "Finishing: beam 2, cp 157, gpu 0\n",
        "MC Chunk Calc. Time:9.86383104324s (Tot time:3122.33891106)"
       ]
      },
      {
       "output_type": "stream",
       "stream": "stdout",
       "text": [
        "\n",
        "Starting gDPM: beam 2, cp 158, gpu 0\n",
        "Finishing: beam 2, cp 158, gpu 0\n",
        "MC Chunk Calc. Time:9.4905769825s (Tot time:3131.83118391)"
       ]
      },
      {
       "output_type": "stream",
       "stream": "stdout",
       "text": [
        "\n",
        "Starting gDPM: beam 2, cp 159, gpu 0\n",
        "Finishing: beam 2, cp 159, gpu 0\n",
        "MC Chunk Calc. Time:9.46231985092s (Tot time:3141.29881692)"
       ]
      },
      {
       "output_type": "stream",
       "stream": "stdout",
       "text": [
        "\n",
        "Starting gDPM: beam 2, cp 160, gpu 0\n",
        "Finishing: beam 2, cp 160, gpu 0\n",
        "MC Chunk Calc. Time:9.31919908524s (Tot time:3150.61935592)"
       ]
      },
      {
       "output_type": "stream",
       "stream": "stdout",
       "text": [
        "\n",
        "Starting gDPM: beam 2, cp 161, gpu 0\n",
        "Finishing: beam 2, cp 161, gpu 0\n",
        "MC Chunk Calc. Time:10.0151488781s (Tot time:3160.63968801)"
       ]
      },
      {
       "output_type": "stream",
       "stream": "stdout",
       "text": [
        "\n",
        "Starting gDPM: beam 2, cp 162, gpu 0\n",
        "Finishing: beam 2, cp 162, gpu 0\n",
        "MC Chunk Calc. Time:10.4514269829s (Tot time:3171.09271002)"
       ]
      },
      {
       "output_type": "stream",
       "stream": "stdout",
       "text": [
        "\n",
        "Starting gDPM: beam 2, cp 163, gpu 0\n",
        "Finishing: beam 2, cp 163, gpu 0\n",
        "MC Chunk Calc. Time:9.66874909401s (Tot time:3180.76368594)"
       ]
      },
      {
       "output_type": "stream",
       "stream": "stdout",
       "text": [
        "\n",
        "Starting gDPM: beam 2, cp 164, gpu 0\n",
        "Finishing: beam 2, cp 164, gpu 0\n",
        "MC Chunk Calc. Time:9.21048808098s (Tot time:3189.97562408)"
       ]
      },
      {
       "output_type": "stream",
       "stream": "stdout",
       "text": [
        "\n",
        "Starting gDPM: beam 2, cp 165, gpu 0\n",
        "Finishing: beam 2, cp 165, gpu 0\n",
        "MC Chunk Calc. Time:9.43093395233s (Tot time:3199.40781689)"
       ]
      },
      {
       "output_type": "stream",
       "stream": "stdout",
       "text": [
        "\n",
        "Starting gDPM: beam 2, cp 166, gpu 0\n",
        "Finishing: beam 2, cp 166, gpu 0\n",
        "MC Chunk Calc. Time:9.00156903267s (Tot time:3208.41026402)"
       ]
      },
      {
       "output_type": "stream",
       "stream": "stdout",
       "text": [
        "\n",
        "Starting gDPM: beam 2, cp 167, gpu 0\n",
        "Finishing: beam 2, cp 167, gpu 0\n",
        "MC Chunk Calc. Time:9.8963060379s (Tot time:3218.30832005)"
       ]
      },
      {
       "output_type": "stream",
       "stream": "stdout",
       "text": [
        "\n",
        "Starting gDPM: beam 2, cp 168, gpu 0\n",
        "Finishing: beam 2, cp 168, gpu 0\n",
        "MC Chunk Calc. Time:9.71055197716s (Tot time:3228.0255661)"
       ]
      },
      {
       "output_type": "stream",
       "stream": "stdout",
       "text": [
        "\n",
        "Starting gDPM: beam 2, cp 169, gpu 0\n",
        "Finishing: beam 2, cp 169, gpu 0\n",
        "MC Chunk Calc. Time:9.38601899147s (Tot time:3237.41583204)"
       ]
      },
      {
       "output_type": "stream",
       "stream": "stdout",
       "text": [
        "\n",
        "Starting gDPM: beam 2, cp 170, gpu 0\n",
        "Finishing: beam 2, cp 170, gpu 0\n",
        "MC Chunk Calc. Time:9.87389802933s (Tot time:3247.29133296)"
       ]
      },
      {
       "output_type": "stream",
       "stream": "stdout",
       "text": [
        "\n",
        "Starting gDPM: beam 2, cp 171, gpu 0\n",
        "Finishing: beam 2, cp 171, gpu 0\n",
        "MC Chunk Calc. Time:9.22900605202s (Tot time:3256.5220561)"
       ]
      },
      {
       "output_type": "stream",
       "stream": "stdout",
       "text": [
        "\n",
        "Starting gDPM: beam 2, cp 172, gpu 0\n",
        "Finishing: beam 2, cp 172, gpu 0\n",
        "MC Chunk Calc. Time:8.75029206276s (Tot time:3265.27413988)"
       ]
      },
      {
       "output_type": "stream",
       "stream": "stdout",
       "text": [
        "\n",
        "Starting gDPM: beam 2, cp 173, gpu 0\n",
        "Finishing: beam 2, cp 173, gpu 0\n",
        "MC Chunk Calc. Time:9.03482198715s (Tot time:3274.31014705)"
       ]
      },
      {
       "output_type": "stream",
       "stream": "stdout",
       "text": [
        "\n",
        "Starting gDPM: beam 2, cp 174, gpu 0\n",
        "Finishing: beam 2, cp 174, gpu 0\n",
        "MC Chunk Calc. Time:8.65782213211s (Tot time:3282.97131801)"
       ]
      },
      {
       "output_type": "stream",
       "stream": "stdout",
       "text": [
        "\n",
        "Starting gDPM: beam 2, cp 175, gpu 0\n",
        "Finishing: beam 2, cp 175, gpu 0\n",
        "MC Chunk Calc. Time:10.3234450817s (Tot time:3293.30088902)"
       ]
      },
      {
       "output_type": "stream",
       "stream": "stdout",
       "text": [
        "\n",
        "Starting gDPM: beam 2, cp 176, gpu 0\n",
        "Finishing: beam 2, cp 176, gpu 0\n",
        "MC Chunk Calc. Time:8.97234606743s (Tot time:3302.27638507)"
       ]
      },
      {
       "output_type": "stream",
       "stream": "stdout",
       "text": [
        "\n",
        "Starting gDPM: beam 2, cp 177, gpu 0\n",
        "Finishing: beam 2, cp 177, gpu 0\n",
        "MC Chunk Calc. Time:8.95972204208s (Tot time:3311.23741198)"
       ]
      },
      {
       "output_type": "stream",
       "stream": "stdout",
       "text": [
        "\n",
        "Reading beam 1 data...\n",
        "Reading beam 2 data..."
       ]
      },
      {
       "output_type": "stream",
       "stream": "stdout",
       "text": [
        "\n",
        "Stacking and convering to CSR format..."
       ]
      },
      {
       "output_type": "stream",
       "stream": "stdout",
       "text": [
        "\n",
        "Sparse Read/Save time 544.63956809 sec"
       ]
      },
      {
       "output_type": "stream",
       "stream": "stdout",
       "text": [
        "\n",
        "deleting temporary mc folder: /tmp/tmp1GppQy"
       ]
      },
      {
       "output_type": "stream",
       "stream": "stdout",
       "text": [
        "\n",
        "3876.01923895 sec"
       ]
      },
      {
       "output_type": "stream",
       "stream": "stdout",
       "text": [
        "\n"
       ]
      }
     ],
     "prompt_number": 6
    },
    {
     "cell_type": "code",
     "collapsed": false,
     "input": [
      "study.h5.flush()\n",
      "from scipy.sparse import csr_matrix\n",
      "csr = csr_matrix((study['dose_mc/matrix_csr/data'],study['dose_mc/matrix_csr/indices'],study['dose_mc/matrix_csr/indptr']),\n",
      "                 shape=study['dose_mc/matrix_csr/shape'])\n",
      "print csr.shape\n",
      "\n",
      "mu_tps = None\n",
      "first = True\n",
      "for beam in study['plan/beams'].itervalues():\n",
      "    if first:\n",
      "        mu_tps = np.gradient(beam['mu'])\n",
      "        first=False\n",
      "    else:\n",
      "        mu_tps = np.hstack([mu_tps,np.gradient(beam['mu'])])\n",
      "    \n",
      "print mu_tps.shape"
     ],
     "language": "python",
     "metadata": {},
     "outputs": [
      {
       "output_type": "stream",
       "stream": "stdout",
       "text": [
        "(12255232, 356)\n",
        "(356,)\n"
       ]
      }
     ],
     "prompt_number": 8
    },
    {
     "cell_type": "code",
     "collapsed": false,
     "input": [
      "s = study['ct_lowres/hu'].shape\n",
      "tps_dose = np.rollaxis(np.rollaxis(csr.dot(mu_tps).reshape(s[2],s[0],s[1]),2),2)\n",
      "tps_dose.shape"
     ],
     "language": "python",
     "metadata": {},
     "outputs": [
      {
       "metadata": {},
       "output_type": "pyout",
       "prompt_number": 9,
       "text": [
        "(256, 256, 187)"
       ]
      }
     ],
     "prompt_number": 9
    },
    {
     "cell_type": "code",
     "collapsed": false,
     "input": [
      "dose = study['dose_mc/average']\n",
      "print dose.shape\n",
      "structure_group = 'structures_lowres'\n",
      "plt.figure(figsize=(15,10))\n",
      "print dose.shape\n",
      "for structure in study[structure_group].keys()[3:10]:\n",
      "    #check that mask and dose are same shape:\n",
      "    mask = study['{}/{}/mask'.format(structure_group,structure)].astype('f32')\n",
      "    idxs = np.where(mask)\n",
      "    hist,bins = np.histogram(dose[idxs],bins=1000,weights=mask[idxs])\n",
      "    dvh_percent = 1.-np.cumsum(hist)/float(mask[idxs].sum())\n",
      "    plt.plot(bins[:-1],dvh_percent,'--',label=structure)\n",
      "dose = tps_dose*(100./98.5)**2\n",
      "print dose.shape\n",
      "for structure in study[structure_group].keys()[3:10]:\n",
      "    #check that mask and dose are same shape:\n",
      "    mask = study['{}/{}/mask'.format(structure_group,structure)].astype('f32')\n",
      "    idxs = np.where(mask)\n",
      "    hist,bins = np.histogram(dose[idxs],bins=1000,weights=mask[idxs])\n",
      "    dvh_percent = 1.-np.cumsum(hist)/float(mask[idxs].sum())\n",
      "    plt.plot(bins[:-1],dvh_percent,label=structure)\n",
      "plt.legend(loc=0)\n",
      "plt.show()"
     ],
     "language": "python",
     "metadata": {},
     "outputs": [
      {
       "output_type": "stream",
       "stream": "stdout",
       "text": [
        "(256, 256, 187)\n",
        "(256, 256, 187)\n",
        "(256, 256, 187)"
       ]
      },
      {
       "output_type": "stream",
       "stream": "stdout",
       "text": [
        "\n"
       ]
      },
      {
       "metadata": {},
       "output_type": "display_data",
       "png": "[encoded data removed]",
       "text": [
        "<matplotlib.figure.Figure at 0x7f5da67e4190>"
       ]
      }
     ],
     "prompt_number": 16
    },
    {
     "cell_type": "code",
     "collapsed": false,
     "input": [
      "d_mc = study['dose_mc/average']\n",
      "d_tps = tps_dose*(100./98.5)**2\n",
      "d_diff = abs(d_mc-tps_dose)\n",
      "plt.figure(figsize=(10,10))\n",
      "plt.plot(d_mc[128,128,:],label='mc_axial')\n",
      "plt.plot(d_tps[128,128,:],label='tps_axial')\n",
      "plt.plot(d_diff[:,128,76],label='diff_axial')\n",
      "\n",
      "\n",
      "plt.plot(d_mc[128,:,76],label='mc_lateral')\n",
      "plt.plot(d_tps[128,:,76],label='tps_lateral')\n",
      "plt.plot(d_diff[128,:,76],label='diff_lateral')\n",
      "\n",
      "plt.legend()\n",
      "plt.xlim((0,256))"
     ],
     "language": "python",
     "metadata": {},
     "outputs": [
      {
       "metadata": {},
       "output_type": "pyout",
       "prompt_number": 17,
       "text": [
        "(0, 256)"
       ]
      },
      {
       "metadata": {},
       "output_type": "display_data",
       "png": "[encoded data removed]",
       "text": [
        "<matplotlib.figure.Figure at 0x7f5dc98c7890>"
       ]
      }
     ],
     "prompt_number": 17
    },
    {
     "cell_type": "code",
     "collapsed": false,
     "input": [
      "study.save()\n",
      "del study"
     ],
     "language": "python",
     "metadata": {},
     "outputs": [],
     "prompt_number": 8
    }
   ],
   "metadata": {}
  }
 ]
}